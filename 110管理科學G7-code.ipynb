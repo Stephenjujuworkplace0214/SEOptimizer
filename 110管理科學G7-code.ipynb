{
  "cells": [
    {
      "cell_type": "markdown",
      "metadata": {
        "id": "bCrlK0_00U0n"
      },
      "source": [
        "# import"
      ]
    },
    {
      "cell_type": "code",
      "execution_count": 41,
      "metadata": {
        "colab": {
          "base_uri": "https://localhost:8080/"
        },
        "id": "YCcYAfFwzTy4",
        "outputId": "d5fe9592-9391-4fa1-d1a0-fc8e511bf091"
      },
      "outputs": [],
      "source": [
        "import numpy as np\n",
        "import pandas as pd\n",
        "import matplotlib.pyplot as plt\n",
        "import statsmodels.api as sm\n",
        "from statsmodels.tsa.api import ExponentialSmoothing, SimpleExpSmoothing, Holt\n",
        "import os\n",
        "import random as random\n",
        "import math\n",
        "import scipy.stats\n",
        "from typing import Optional, Any, Union\n",
        "from datetime import datetime, date, timedelta\n",
        "\n",
        "from pytrends.request import TrendReq\n",
        "import json\n",
        "\n",
        "from gekko import GEKKO\n"
      ]
    },
    {
      "cell_type": "markdown",
      "metadata": {
        "id": "GgTocFJEnHez"
      },
      "source": [
        "# Max click model(with each keyword)"
      ]
    },
    {
      "cell_type": "code",
      "execution_count": 28,
      "metadata": {
        "id": "vxIeiBC5tT9V"
      },
      "outputs": [],
      "source": [
        "茶行 = [[11.73999758,0.332],[8.89955796,0.168],[6.746349934,0.082],[5.114100906,0.050],[3.876767191,0.033]]\n",
        "鐵觀音 = [[3.650002081,0.332],[2.766900492,0.168],[2.097461361,0.082],[1.589990017,0.050],[1.205299083,0.033]]\n",
        "木柵 = [[2.369996741,0.302],[1.796586688,0.216],[1.361910618,0.078],[1.032402469,0.043],[0.7826173341,0.023]]\n",
        "茶葉 = [[9.859999683,0.244],[7.474417101,0.114],[5.666015497,0.071],[4.295148528,0.046],[3.255956657,0.036]]\n",
        "送禮 = [[7.330000379,0.332],[5.556539751,0.168],[4.212159947,0.082],[3.19304679,0.050],[2.420503479,0.033]]\n",
        "茶行maxclick = []\n",
        "鐵觀音maxclick = []\n",
        "木柵maxclick = []\n",
        "茶葉maxclick = []\n",
        "送禮maxclick = []"
      ]
    },
    {
      "cell_type": "code",
      "execution_count": 29,
      "metadata": {
        "id": "qhMZHJdFu-KV"
      },
      "outputs": [],
      "source": [
        "search = [4400,5400,6600,12100,5400]"
      ]
    },
    {
      "cell_type": "code",
      "execution_count": 30,
      "metadata": {
        "colab": {
          "base_uri": "https://localhost:8080/"
        },
        "id": "eRx1URYVvAFv",
        "outputId": "25d0197f-bde1-4a4d-e92d-f871d25deb01"
      },
      "outputs": [
        {
          "name": "stdout",
          "output_type": "stream",
          "text": [
            "茶行Maxclick:\n",
            "[1460, 739, 360, 220, 145]\n"
          ]
        }
      ],
      "source": [
        "print(\"茶行Maxclick:\")\n",
        "for i in range(5):\n",
        "  茶行maxclick.append(math.floor(search[0] * 茶行[i][1]))\n",
        "print(茶行maxclick)"
      ]
    },
    {
      "cell_type": "code",
      "execution_count": 31,
      "metadata": {
        "colab": {
          "base_uri": "https://localhost:8080/"
        },
        "id": "ly2l4DEpwBeM",
        "outputId": "e470f268-d3b8-4ecd-8df7-cb1e57c077c4"
      },
      "outputs": [
        {
          "name": "stdout",
          "output_type": "stream",
          "text": [
            "鐵觀音Maxclick:\n",
            "[1792, 907, 442, 270, 178]\n"
          ]
        }
      ],
      "source": [
        "print(\"鐵觀音Maxclick:\")\n",
        "for i in range(5):\n",
        "  鐵觀音maxclick.append(math.floor(search[1] * 鐵觀音[i][1]))\n",
        "print(鐵觀音maxclick)"
      ]
    },
    {
      "cell_type": "code",
      "execution_count": 32,
      "metadata": {
        "colab": {
          "base_uri": "https://localhost:8080/"
        },
        "id": "g3DGD2oOyv3q",
        "outputId": "8822b83e-7b02-4813-ac76-69feaabb389d"
      },
      "outputs": [
        {
          "name": "stdout",
          "output_type": "stream",
          "text": [
            "木柵Maxclick:\n",
            "[1993, 1425, 514, 283, 151]\n"
          ]
        }
      ],
      "source": [
        "print(\"木柵Maxclick:\")\n",
        "for i in range(5):\n",
        "  木柵maxclick.append(math.floor(search[2] * 木柵[i][1]))\n",
        "print(木柵maxclick)"
      ]
    },
    {
      "cell_type": "code",
      "execution_count": 33,
      "metadata": {
        "colab": {
          "base_uri": "https://localhost:8080/"
        },
        "id": "s6YFeOjiy0rk",
        "outputId": "16bbc0ad-ffa7-4af0-fa70-252461f5775e"
      },
      "outputs": [
        {
          "name": "stdout",
          "output_type": "stream",
          "text": [
            "茶葉Maxclick:\n",
            "[2952, 1379, 859, 556, 435]\n"
          ]
        }
      ],
      "source": [
        "print(\"茶葉Maxclick:\")\n",
        "for i in range(5):\n",
        "  茶葉maxclick.append(math.floor(search[3] * 茶葉[i][1]))\n",
        "print(茶葉maxclick)"
      ]
    },
    {
      "cell_type": "code",
      "execution_count": 34,
      "metadata": {
        "colab": {
          "base_uri": "https://localhost:8080/"
        },
        "id": "DnpI4iEVy5lM",
        "outputId": "02f4fccb-5824-4078-9bca-8d3b32005eb7"
      },
      "outputs": [
        {
          "name": "stdout",
          "output_type": "stream",
          "text": [
            "送禮Maxclick:\n",
            "[1792, 907, 442, 270, 178]\n"
          ]
        }
      ],
      "source": [
        "print(\"送禮Maxclick:\")\n",
        "for i in range(5):\n",
        "  送禮maxclick.append(math.floor(search[4] * 送禮[i][1]))\n",
        "print(送禮maxclick)"
      ]
    },
    {
      "cell_type": "code",
      "execution_count": 35,
      "metadata": {
        "colab": {
          "base_uri": "https://localhost:8080/"
        },
        "id": "DsG6YZD0y-yW",
        "outputId": "40401521-eee1-48ee-fc04-9f2907cd83d4"
      },
      "outputs": [
        {
          "name": "stdout",
          "output_type": "stream",
          "text": [
            "Budget=500 [42, 56, 74, 97, 128] \n",
            "Budget=1000 [85, 112, 148, 195, 145] \n",
            "Budget=1500 [127, 168, 222, 220, 145] \n",
            "Budget=2000 [170, 224, 296, 220, 145] \n",
            "Budget=2500 [212, 280, 360, 220, 145]\n",
            "Budget=500 Best rank: 5  Clicks at best rank:  128\n",
            "Budget=1000 Best rank: 4  Clicks at best rank:  195\n",
            "Budget=1500 Best rank: 3  Clicks at best rank:  222\n",
            "Budget=2000 Best rank: 3  Clicks at best rank:  296\n",
            "Budget=2500 Best rank: 3  Clicks at best rank:  360\n"
          ]
        }
      ],
      "source": [
        "budget = [500,1000,1500,2000,2500]\n",
        "茶行r1 = []\n",
        "茶行r2 = []\n",
        "茶行r3 = []\n",
        "茶行r4 = []\n",
        "茶行r5 = []\n",
        "for i in range(5):\n",
        "  茶行r1.append(min(math.floor(budget[0]/茶行[i][0]),茶行maxclick[i]))\n",
        "  茶行r2.append(min(math.floor(budget[1]/茶行[i][0]),茶行maxclick[i]))\n",
        "  茶行r3.append(min(math.floor(budget[2]/茶行[i][0]),茶行maxclick[i]))\n",
        "  茶行r4.append(min(math.floor(budget[3]/茶行[i][0]),茶行maxclick[i]))\n",
        "  茶行r5.append(min(math.floor(budget[4]/茶行[i][0]),茶行maxclick[i]))\n",
        "print(\"Budget=500\",茶行r1,\"\\nBudget=1000\",茶行r2,\"\\nBudget=1500\",茶行r3,\"\\nBudget=2000\",茶行r4,\"\\nBudget=2500\",茶行r5)\n",
        "bestrank = []\n",
        "bestrank.append(max(茶行r1))\n",
        "bestrank.append(max(茶行r2))\n",
        "bestrank.append(max(茶行r3))\n",
        "bestrank.append(max(茶行r4))\n",
        "bestrank.append(max(茶行r5))\n",
        "print('Budget=500 Best rank:',茶行r1.index(max(茶行r1))+1,\" Clicks at best rank: \",bestrank[0])\n",
        "print('Budget=1000 Best rank:',茶行r2.index(max(茶行r2))+1,\" Clicks at best rank: \",bestrank[1])\n",
        "print('Budget=1500 Best rank:',茶行r3.index(max(茶行r3))+1,\" Clicks at best rank: \",bestrank[2])\n",
        "print('Budget=2000 Best rank:',茶行r4.index(max(茶行r4))+1,\" Clicks at best rank: \",bestrank[3])\n",
        "print('Budget=2500 Best rank:',茶行r5.index(max(茶行r5))+1,\" Clicks at best rank: \",bestrank[4])"
      ]
    },
    {
      "cell_type": "code",
      "execution_count": 36,
      "metadata": {
        "colab": {
          "base_uri": "https://localhost:8080/"
        },
        "id": "oDF0yb2f8RhP",
        "outputId": "bf0075ce-4b8a-44f2-88df-c31d644ec544"
      },
      "outputs": [
        {
          "name": "stdout",
          "output_type": "stream",
          "text": [
            "Budget=500 [136, 180, 238, 270, 178] \n",
            "Budget=1000 [273, 361, 442, 270, 178] \n",
            "Budget=1500 [410, 542, 442, 270, 178] \n",
            "Budget=2000 [547, 722, 442, 270, 178] \n",
            "Budget=2500 [684, 903, 442, 270, 178]\n",
            "Budget=500 Best rank: 4  Clicks at best rank:  270\n",
            "Budget=1000 Best rank: 3  Clicks at best rank:  442\n",
            "Budget=1500 Best rank: 2  Clicks at best rank:  542\n",
            "Budget=2000 Best rank: 2  Clicks at best rank:  722\n",
            "Budget=2500 Best rank: 2  Clicks at best rank:  903\n"
          ]
        }
      ],
      "source": [
        "鐵觀音r1 = []\n",
        "鐵觀音r2 = []\n",
        "鐵觀音r3 = []\n",
        "鐵觀音r4 = []\n",
        "鐵觀音r5 = []\n",
        "for i in range(5):\n",
        "  鐵觀音r1.append(min(math.floor(budget[0]/鐵觀音[i][0]),鐵觀音maxclick[i]))\n",
        "  鐵觀音r2.append(min(math.floor(budget[1]/鐵觀音[i][0]),鐵觀音maxclick[i]))\n",
        "  鐵觀音r3.append(min(math.floor(budget[2]/鐵觀音[i][0]),鐵觀音maxclick[i]))\n",
        "  鐵觀音r4.append(min(math.floor(budget[3]/鐵觀音[i][0]),鐵觀音maxclick[i]))\n",
        "  鐵觀音r5.append(min(math.floor(budget[4]/鐵觀音[i][0]),鐵觀音maxclick[i]))\n",
        "print(\"Budget=500\",鐵觀音r1,\"\\nBudget=1000\",鐵觀音r2,\"\\nBudget=1500\",鐵觀音r3,\"\\nBudget=2000\",鐵觀音r4,\"\\nBudget=2500\",鐵觀音r5)\n",
        "bestrank = []\n",
        "bestrank.append(max(鐵觀音r1))\n",
        "bestrank.append(max(鐵觀音r2))\n",
        "bestrank.append(max(鐵觀音r3))\n",
        "bestrank.append(max(鐵觀音r4))\n",
        "bestrank.append(max(鐵觀音r5))\n",
        "print('Budget=500 Best rank:',鐵觀音r1.index(max(鐵觀音r1))+1,\" Clicks at best rank: \",bestrank[0])\n",
        "print('Budget=1000 Best rank:',鐵觀音r2.index(max(鐵觀音r2))+1,\" Clicks at best rank: \",bestrank[1])\n",
        "print('Budget=1500 Best rank:',鐵觀音r3.index(max(鐵觀音r3))+1,\" Clicks at best rank: \",bestrank[2])\n",
        "print('Budget=2000 Best rank:',鐵觀音r4.index(max(鐵觀音r4))+1,\" Clicks at best rank: \",bestrank[3])\n",
        "print('Budget=2500 Best rank:',鐵觀音r5.index(max(鐵觀音r5))+1,\" Clicks at best rank: \",bestrank[4])"
      ]
    },
    {
      "cell_type": "code",
      "execution_count": 37,
      "metadata": {
        "colab": {
          "base_uri": "https://localhost:8080/"
        },
        "id": "94jCU2yS9Igk",
        "outputId": "cb6c804c-675d-4cd1-b1cf-a6e0ce2e6906"
      },
      "outputs": [
        {
          "name": "stdout",
          "output_type": "stream",
          "text": [
            "Budget=500 [210, 278, 367, 283, 151] \n",
            "Budget=1000 [421, 556, 514, 283, 151] \n",
            "Budget=1500 [632, 834, 514, 283, 151] \n",
            "Budget=2000 [843, 1113, 514, 283, 151] \n",
            "Budget=2500 [1054, 1391, 514, 283, 151]\n",
            "Budget=500 Best rank: 3  Clicks at best rank:  367\n",
            "Budget=1000 Best rank: 2  Clicks at best rank:  556\n",
            "Budget=1500 Best rank: 2  Clicks at best rank:  834\n",
            "Budget=2000 Best rank: 2  Clicks at best rank:  1113\n",
            "Budget=2500 Best rank: 2  Clicks at best rank:  1391\n"
          ]
        }
      ],
      "source": [
        "木柵r1 = []\n",
        "木柵r2 = []\n",
        "木柵r3 = []\n",
        "木柵r4 = []\n",
        "木柵r5 = []\n",
        "for i in range(5):\n",
        "  木柵r1.append(min(math.floor(budget[0]/木柵[i][0]),木柵maxclick[i]))\n",
        "  木柵r2.append(min(math.floor(budget[1]/木柵[i][0]),木柵maxclick[i]))\n",
        "  木柵r3.append(min(math.floor(budget[2]/木柵[i][0]),木柵maxclick[i]))\n",
        "  木柵r4.append(min(math.floor(budget[3]/木柵[i][0]),木柵maxclick[i]))\n",
        "  木柵r5.append(min(math.floor(budget[4]/木柵[i][0]),木柵maxclick[i]))\n",
        "print(\"Budget=500\",木柵r1,\"\\nBudget=1000\",木柵r2,\"\\nBudget=1500\",木柵r3,\"\\nBudget=2000\",木柵r4,\"\\nBudget=2500\",木柵r5)\n",
        "bestrank = []\n",
        "bestrank.append(max(木柵r1))\n",
        "bestrank.append(max(木柵r2))\n",
        "bestrank.append(max(木柵r3))\n",
        "bestrank.append(max(木柵r4))\n",
        "bestrank.append(max(木柵r5))\n",
        "print('Budget=500 Best rank:',木柵r1.index(max(木柵r1))+1,\" Clicks at best rank: \",bestrank[0])\n",
        "print('Budget=1000 Best rank:',木柵r2.index(max(木柵r2))+1,\" Clicks at best rank: \",bestrank[1])\n",
        "print('Budget=1500 Best rank:',木柵r3.index(max(木柵r3))+1,\" Clicks at best rank: \",bestrank[2])\n",
        "print('Budget=2000 Best rank:',木柵r4.index(max(木柵r4))+1,\" Clicks at best rank: \",bestrank[3])\n",
        "print('Budget=2500 Best rank:',木柵r5.index(max(木柵r5))+1,\" Clicks at best rank: \",bestrank[4])"
      ]
    },
    {
      "cell_type": "code",
      "execution_count": 38,
      "metadata": {
        "colab": {
          "base_uri": "https://localhost:8080/"
        },
        "id": "9fB3y_-08y4o",
        "outputId": "f20a8900-b905-4abe-965e-fe45d6e46b16"
      },
      "outputs": [
        {
          "name": "stdout",
          "output_type": "stream",
          "text": [
            "Budget=500 [50, 66, 88, 116, 153] \n",
            "Budget=1000 [101, 133, 176, 232, 307] \n",
            "Budget=1500 [152, 200, 264, 349, 435] \n",
            "Budget=2000 [202, 267, 352, 465, 435] \n",
            "Budget=2500 [253, 334, 441, 556, 435]\n",
            "Budget=500 Best rank: 5  Clicks at best rank:  153\n",
            "Budget=1000 Best rank: 5  Clicks at best rank:  307\n",
            "Budget=1500 Best rank: 5  Clicks at best rank:  435\n",
            "Budget=2000 Best rank: 4  Clicks at best rank:  465\n",
            "Budget=2500 Best rank: 4  Clicks at best rank:  556\n"
          ]
        }
      ],
      "source": [
        "茶葉r1 = []\n",
        "茶葉r2 = []\n",
        "茶葉r3 = []\n",
        "茶葉r4 = []\n",
        "茶葉r5 = []\n",
        "for i in range(5):\n",
        "  茶葉r1.append(min(math.floor(budget[0]/茶葉[i][0]),茶葉maxclick[i]))\n",
        "  茶葉r2.append(min(math.floor(budget[1]/茶葉[i][0]),茶葉maxclick[i]))\n",
        "  茶葉r3.append(min(math.floor(budget[2]/茶葉[i][0]),茶葉maxclick[i]))\n",
        "  茶葉r4.append(min(math.floor(budget[3]/茶葉[i][0]),茶葉maxclick[i]))\n",
        "  茶葉r5.append(min(math.floor(budget[4]/茶葉[i][0]),茶葉maxclick[i]))\n",
        "print(\"Budget=500\",茶葉r1,\"\\nBudget=1000\",茶葉r2,\"\\nBudget=1500\",茶葉r3,\"\\nBudget=2000\",茶葉r4,\"\\nBudget=2500\",茶葉r5)\n",
        "bestrank = []\n",
        "bestrank.append(max(茶葉r1))\n",
        "bestrank.append(max(茶葉r2))\n",
        "bestrank.append(max(茶葉r3))\n",
        "bestrank.append(max(茶葉r4))\n",
        "bestrank.append(max(茶葉r5))\n",
        "print('Budget=500 Best rank:',茶葉r1.index(max(茶葉r1))+1,\" Clicks at best rank: \",bestrank[0])\n",
        "print('Budget=1000 Best rank:',茶葉r2.index(max(茶葉r2))+1,\" Clicks at best rank: \",bestrank[1])\n",
        "print('Budget=1500 Best rank:',茶葉r3.index(max(茶葉r3))+1,\" Clicks at best rank: \",bestrank[2])\n",
        "print('Budget=2000 Best rank:',茶葉r4.index(max(茶葉r4))+1,\" Clicks at best rank: \",bestrank[3])\n",
        "print('Budget=2500 Best rank:',茶葉r5.index(max(茶葉r5))+1,\" Clicks at best rank: \",bestrank[4])"
      ]
    },
    {
      "cell_type": "code",
      "execution_count": 39,
      "metadata": {
        "colab": {
          "base_uri": "https://localhost:8080/"
        },
        "id": "3VgjV6nj9F2F",
        "outputId": "ea1ae9be-921a-4a5e-ce42-8a072dc11b7c"
      },
      "outputs": [
        {
          "name": "stdout",
          "output_type": "stream",
          "text": [
            "Budget=500 [68, 89, 118, 156, 178] \n",
            "Budget=1000 [136, 179, 237, 270, 178] \n",
            "Budget=1500 [204, 269, 356, 270, 178] \n",
            "Budget=2000 [272, 359, 442, 270, 178] \n",
            "Budget=2500 [341, 449, 442, 270, 178]\n",
            "Budget=500 Best rank: 5  Clicks at best rank:  178\n",
            "Budget=1000 Best rank: 4  Clicks at best rank:  270\n",
            "Budget=1500 Best rank: 3  Clicks at best rank:  356\n",
            "Budget=2000 Best rank: 3  Clicks at best rank:  442\n",
            "Budget=2500 Best rank: 2  Clicks at best rank:  449\n"
          ]
        }
      ],
      "source": [
        "送禮r1 = []\n",
        "送禮r2 = []\n",
        "送禮r3 = []\n",
        "送禮r4 = []\n",
        "送禮r5 = []\n",
        "for i in range(5):\n",
        "  送禮r1.append(min(math.floor(budget[0]/送禮[i][0]),送禮maxclick[i]))\n",
        "  送禮r2.append(min(math.floor(budget[1]/送禮[i][0]),送禮maxclick[i]))\n",
        "  送禮r3.append(min(math.floor(budget[2]/送禮[i][0]),送禮maxclick[i]))\n",
        "  送禮r4.append(min(math.floor(budget[3]/送禮[i][0]),送禮maxclick[i]))\n",
        "  送禮r5.append(min(math.floor(budget[4]/送禮[i][0]),送禮maxclick[i]))\n",
        "print(\"Budget=500\",送禮r1,\"\\nBudget=1000\",送禮r2,\"\\nBudget=1500\",送禮r3,\"\\nBudget=2000\",送禮r4,\"\\nBudget=2500\",送禮r5)\n",
        "bestrank = []\n",
        "bestrank.append(max(送禮r1))\n",
        "bestrank.append(max(送禮r2))\n",
        "bestrank.append(max(送禮r3))\n",
        "bestrank.append(max(送禮r4))\n",
        "bestrank.append(max(送禮r5))\n",
        "print('Budget=500 Best rank:',送禮r1.index(max(送禮r1))+1,\" Clicks at best rank: \",bestrank[0])\n",
        "print('Budget=1000 Best rank:',送禮r2.index(max(送禮r2))+1,\" Clicks at best rank: \",bestrank[1])\n",
        "print('Budget=1500 Best rank:',送禮r3.index(max(送禮r3))+1,\" Clicks at best rank: \",bestrank[2])\n",
        "print('Budget=2000 Best rank:',送禮r4.index(max(送禮r4))+1,\" Clicks at best rank: \",bestrank[3])\n",
        "print('Budget=2500 Best rank:',送禮r5.index(max(送禮r5))+1,\" Clicks at best rank: \",bestrank[4])"
      ]
    },
    {
      "cell_type": "markdown",
      "metadata": {
        "id": "tChg7f0F7xJq"
      },
      "source": [
        "# Impression forcasting"
      ]
    },
    {
      "cell_type": "code",
      "execution_count": null,
      "metadata": {
        "colab": {
          "base_uri": "https://localhost:8080/",
          "height": 1000,
          "resources": {
            "http://localhost:8080/nbextensions/google.colab/files.js": {
              "data": "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",
              "headers": [
                [
                  "content-type",
                  "application/javascript"
                ]
              ],
              "ok": true,
              "status": 200,
              "status_text": ""
            }
          }
        },
        "id": "Iji1RFdOC-pz",
        "outputId": "16c3fac5-d387-42c4-cde8-0d8398c991f1"
      },
      "outputs": [
        {
          "data": {
            "text/html": [
              "\n",
              "     <input type=\"file\" id=\"files-8886b8ea-b41a-4cb0-a0bd-3011f41bab3b\" name=\"files[]\" multiple disabled\n",
              "        style=\"border:none\" />\n",
              "     <output id=\"result-8886b8ea-b41a-4cb0-a0bd-3011f41bab3b\">\n",
              "      Upload widget is only available when the cell has been executed in the\n",
              "      current browser session. Please rerun this cell to enable.\n",
              "      </output>\n",
              "      <script src=\"/nbextensions/google.colab/files.js\"></script> "
            ],
            "text/plain": [
              "<IPython.core.display.HTML object>"
            ]
          },
          "metadata": {},
          "output_type": "display_data"
        },
        {
          "name": "stdout",
          "output_type": "stream",
          "text": [
            "Saving multiTimeline.xlsx to multiTimeline.xlsx\n"
          ]
        },
        {
          "data": {
            "text/html": [
              "\n",
              "  <div id=\"df-6d08b47f-00a5-42f9-952a-2d8b55bdbeb8\">\n",
              "    <div class=\"colab-df-container\">\n",
              "      <div>\n",
              "<style scoped>\n",
              "    .dataframe tbody tr th:only-of-type {\n",
              "        vertical-align: middle;\n",
              "    }\n",
              "\n",
              "    .dataframe tbody tr th {\n",
              "        vertical-align: top;\n",
              "    }\n",
              "\n",
              "    .dataframe thead th {\n",
              "        text-align: right;\n",
              "    }\n",
              "</style>\n",
              "<table border=\"1\" class=\"dataframe\">\n",
              "  <thead>\n",
              "    <tr style=\"text-align: right;\">\n",
              "      <th></th>\n",
              "      <th>關鍵字</th>\n",
              "      <th>茶行</th>\n",
              "      <th>鐵觀音</th>\n",
              "      <th>木柵</th>\n",
              "      <th>茶葉</th>\n",
              "      <th>送禮</th>\n",
              "    </tr>\n",
              "  </thead>\n",
              "  <tbody>\n",
              "    <tr>\n",
              "      <th>0</th>\n",
              "      <td>2021-06-20</td>\n",
              "      <td>12</td>\n",
              "      <td>7</td>\n",
              "      <td>43</td>\n",
              "      <td>57</td>\n",
              "      <td>20</td>\n",
              "    </tr>\n",
              "    <tr>\n",
              "      <th>1</th>\n",
              "      <td>2021-06-27</td>\n",
              "      <td>12</td>\n",
              "      <td>7</td>\n",
              "      <td>45</td>\n",
              "      <td>52</td>\n",
              "      <td>17</td>\n",
              "    </tr>\n",
              "    <tr>\n",
              "      <th>2</th>\n",
              "      <td>2021-07-04</td>\n",
              "      <td>11</td>\n",
              "      <td>8</td>\n",
              "      <td>43</td>\n",
              "      <td>56</td>\n",
              "      <td>18</td>\n",
              "    </tr>\n",
              "    <tr>\n",
              "      <th>3</th>\n",
              "      <td>2021-07-11</td>\n",
              "      <td>15</td>\n",
              "      <td>7</td>\n",
              "      <td>43</td>\n",
              "      <td>51</td>\n",
              "      <td>19</td>\n",
              "    </tr>\n",
              "    <tr>\n",
              "      <th>4</th>\n",
              "      <td>2021-07-18</td>\n",
              "      <td>11</td>\n",
              "      <td>7</td>\n",
              "      <td>42</td>\n",
              "      <td>48</td>\n",
              "      <td>18</td>\n",
              "    </tr>\n",
              "    <tr>\n",
              "      <th>5</th>\n",
              "      <td>2021-07-25</td>\n",
              "      <td>10</td>\n",
              "      <td>5</td>\n",
              "      <td>38</td>\n",
              "      <td>44</td>\n",
              "      <td>21</td>\n",
              "    </tr>\n",
              "    <tr>\n",
              "      <th>6</th>\n",
              "      <td>2021-08-01</td>\n",
              "      <td>9</td>\n",
              "      <td>6</td>\n",
              "      <td>43</td>\n",
              "      <td>56</td>\n",
              "      <td>24</td>\n",
              "    </tr>\n",
              "    <tr>\n",
              "      <th>7</th>\n",
              "      <td>2021-08-08</td>\n",
              "      <td>12</td>\n",
              "      <td>5</td>\n",
              "      <td>51</td>\n",
              "      <td>57</td>\n",
              "      <td>29</td>\n",
              "    </tr>\n",
              "    <tr>\n",
              "      <th>8</th>\n",
              "      <td>2021-08-15</td>\n",
              "      <td>14</td>\n",
              "      <td>7</td>\n",
              "      <td>58</td>\n",
              "      <td>64</td>\n",
              "      <td>30</td>\n",
              "    </tr>\n",
              "    <tr>\n",
              "      <th>9</th>\n",
              "      <td>2021-08-22</td>\n",
              "      <td>13</td>\n",
              "      <td>8</td>\n",
              "      <td>72</td>\n",
              "      <td>48</td>\n",
              "      <td>33</td>\n",
              "    </tr>\n",
              "    <tr>\n",
              "      <th>10</th>\n",
              "      <td>2021-08-29</td>\n",
              "      <td>15</td>\n",
              "      <td>7</td>\n",
              "      <td>61</td>\n",
              "      <td>62</td>\n",
              "      <td>34</td>\n",
              "    </tr>\n",
              "    <tr>\n",
              "      <th>11</th>\n",
              "      <td>2021-09-05</td>\n",
              "      <td>15</td>\n",
              "      <td>8</td>\n",
              "      <td>52</td>\n",
              "      <td>60</td>\n",
              "      <td>44</td>\n",
              "    </tr>\n",
              "    <tr>\n",
              "      <th>12</th>\n",
              "      <td>2021-09-12</td>\n",
              "      <td>17</td>\n",
              "      <td>9</td>\n",
              "      <td>59</td>\n",
              "      <td>60</td>\n",
              "      <td>50</td>\n",
              "    </tr>\n",
              "    <tr>\n",
              "      <th>13</th>\n",
              "      <td>2021-09-19</td>\n",
              "      <td>16</td>\n",
              "      <td>7</td>\n",
              "      <td>64</td>\n",
              "      <td>59</td>\n",
              "      <td>28</td>\n",
              "    </tr>\n",
              "    <tr>\n",
              "      <th>14</th>\n",
              "      <td>2021-09-26</td>\n",
              "      <td>17</td>\n",
              "      <td>6</td>\n",
              "      <td>71</td>\n",
              "      <td>60</td>\n",
              "      <td>28</td>\n",
              "    </tr>\n",
              "    <tr>\n",
              "      <th>15</th>\n",
              "      <td>2021-10-03</td>\n",
              "      <td>16</td>\n",
              "      <td>6</td>\n",
              "      <td>70</td>\n",
              "      <td>61</td>\n",
              "      <td>25</td>\n",
              "    </tr>\n",
              "    <tr>\n",
              "      <th>16</th>\n",
              "      <td>2021-10-10</td>\n",
              "      <td>15</td>\n",
              "      <td>4</td>\n",
              "      <td>68</td>\n",
              "      <td>62</td>\n",
              "      <td>22</td>\n",
              "    </tr>\n",
              "    <tr>\n",
              "      <th>17</th>\n",
              "      <td>2021-10-17</td>\n",
              "      <td>16</td>\n",
              "      <td>7</td>\n",
              "      <td>65</td>\n",
              "      <td>56</td>\n",
              "      <td>28</td>\n",
              "    </tr>\n",
              "    <tr>\n",
              "      <th>18</th>\n",
              "      <td>2021-10-24</td>\n",
              "      <td>19</td>\n",
              "      <td>7</td>\n",
              "      <td>59</td>\n",
              "      <td>57</td>\n",
              "      <td>20</td>\n",
              "    </tr>\n",
              "    <tr>\n",
              "      <th>19</th>\n",
              "      <td>2021-10-31</td>\n",
              "      <td>17</td>\n",
              "      <td>6</td>\n",
              "      <td>72</td>\n",
              "      <td>67</td>\n",
              "      <td>20</td>\n",
              "    </tr>\n",
              "    <tr>\n",
              "      <th>20</th>\n",
              "      <td>2021-11-07</td>\n",
              "      <td>18</td>\n",
              "      <td>6</td>\n",
              "      <td>70</td>\n",
              "      <td>69</td>\n",
              "      <td>29</td>\n",
              "    </tr>\n",
              "    <tr>\n",
              "      <th>21</th>\n",
              "      <td>2021-11-14</td>\n",
              "      <td>17</td>\n",
              "      <td>7</td>\n",
              "      <td>74</td>\n",
              "      <td>65</td>\n",
              "      <td>28</td>\n",
              "    </tr>\n",
              "    <tr>\n",
              "      <th>22</th>\n",
              "      <td>2021-11-21</td>\n",
              "      <td>22</td>\n",
              "      <td>6</td>\n",
              "      <td>67</td>\n",
              "      <td>67</td>\n",
              "      <td>30</td>\n",
              "    </tr>\n",
              "    <tr>\n",
              "      <th>23</th>\n",
              "      <td>2021-11-28</td>\n",
              "      <td>20</td>\n",
              "      <td>7</td>\n",
              "      <td>72</td>\n",
              "      <td>63</td>\n",
              "      <td>28</td>\n",
              "    </tr>\n",
              "    <tr>\n",
              "      <th>24</th>\n",
              "      <td>2021-12-05</td>\n",
              "      <td>20</td>\n",
              "      <td>8</td>\n",
              "      <td>78</td>\n",
              "      <td>64</td>\n",
              "      <td>29</td>\n",
              "    </tr>\n",
              "    <tr>\n",
              "      <th>25</th>\n",
              "      <td>2021-12-12</td>\n",
              "      <td>19</td>\n",
              "      <td>5</td>\n",
              "      <td>71</td>\n",
              "      <td>59</td>\n",
              "      <td>41</td>\n",
              "    </tr>\n",
              "    <tr>\n",
              "      <th>26</th>\n",
              "      <td>2021-12-19</td>\n",
              "      <td>18</td>\n",
              "      <td>5</td>\n",
              "      <td>65</td>\n",
              "      <td>63</td>\n",
              "      <td>34</td>\n",
              "    </tr>\n",
              "    <tr>\n",
              "      <th>27</th>\n",
              "      <td>2021-12-26</td>\n",
              "      <td>16</td>\n",
              "      <td>7</td>\n",
              "      <td>77</td>\n",
              "      <td>74</td>\n",
              "      <td>37</td>\n",
              "    </tr>\n",
              "    <tr>\n",
              "      <th>28</th>\n",
              "      <td>2022-01-02</td>\n",
              "      <td>22</td>\n",
              "      <td>5</td>\n",
              "      <td>69</td>\n",
              "      <td>65</td>\n",
              "      <td>47</td>\n",
              "    </tr>\n",
              "    <tr>\n",
              "      <th>29</th>\n",
              "      <td>2022-01-09</td>\n",
              "      <td>17</td>\n",
              "      <td>9</td>\n",
              "      <td>54</td>\n",
              "      <td>62</td>\n",
              "      <td>50</td>\n",
              "    </tr>\n",
              "    <tr>\n",
              "      <th>30</th>\n",
              "      <td>2022-01-16</td>\n",
              "      <td>17</td>\n",
              "      <td>9</td>\n",
              "      <td>63</td>\n",
              "      <td>56</td>\n",
              "      <td>54</td>\n",
              "    </tr>\n",
              "    <tr>\n",
              "      <th>31</th>\n",
              "      <td>2022-01-23</td>\n",
              "      <td>20</td>\n",
              "      <td>6</td>\n",
              "      <td>52</td>\n",
              "      <td>69</td>\n",
              "      <td>56</td>\n",
              "    </tr>\n",
              "    <tr>\n",
              "      <th>32</th>\n",
              "      <td>2022-01-30</td>\n",
              "      <td>20</td>\n",
              "      <td>5</td>\n",
              "      <td>70</td>\n",
              "      <td>66</td>\n",
              "      <td>38</td>\n",
              "    </tr>\n",
              "    <tr>\n",
              "      <th>33</th>\n",
              "      <td>2022-02-06</td>\n",
              "      <td>19</td>\n",
              "      <td>6</td>\n",
              "      <td>73</td>\n",
              "      <td>74</td>\n",
              "      <td>24</td>\n",
              "    </tr>\n",
              "    <tr>\n",
              "      <th>34</th>\n",
              "      <td>2022-02-13</td>\n",
              "      <td>14</td>\n",
              "      <td>6</td>\n",
              "      <td>56</td>\n",
              "      <td>72</td>\n",
              "      <td>33</td>\n",
              "    </tr>\n",
              "    <tr>\n",
              "      <th>35</th>\n",
              "      <td>2022-02-20</td>\n",
              "      <td>19</td>\n",
              "      <td>6</td>\n",
              "      <td>62</td>\n",
              "      <td>61</td>\n",
              "      <td>17</td>\n",
              "    </tr>\n",
              "    <tr>\n",
              "      <th>36</th>\n",
              "      <td>2022-02-27</td>\n",
              "      <td>17</td>\n",
              "      <td>8</td>\n",
              "      <td>90</td>\n",
              "      <td>70</td>\n",
              "      <td>21</td>\n",
              "    </tr>\n",
              "    <tr>\n",
              "      <th>37</th>\n",
              "      <td>2022-03-06</td>\n",
              "      <td>20</td>\n",
              "      <td>5</td>\n",
              "      <td>69</td>\n",
              "      <td>72</td>\n",
              "      <td>18</td>\n",
              "    </tr>\n",
              "    <tr>\n",
              "      <th>38</th>\n",
              "      <td>2022-03-13</td>\n",
              "      <td>19</td>\n",
              "      <td>5</td>\n",
              "      <td>79</td>\n",
              "      <td>67</td>\n",
              "      <td>23</td>\n",
              "    </tr>\n",
              "    <tr>\n",
              "      <th>39</th>\n",
              "      <td>2022-03-20</td>\n",
              "      <td>16</td>\n",
              "      <td>5</td>\n",
              "      <td>57</td>\n",
              "      <td>61</td>\n",
              "      <td>23</td>\n",
              "    </tr>\n",
              "    <tr>\n",
              "      <th>40</th>\n",
              "      <td>2022-03-27</td>\n",
              "      <td>14</td>\n",
              "      <td>5</td>\n",
              "      <td>63</td>\n",
              "      <td>68</td>\n",
              "      <td>18</td>\n",
              "    </tr>\n",
              "    <tr>\n",
              "      <th>41</th>\n",
              "      <td>2022-04-03</td>\n",
              "      <td>18</td>\n",
              "      <td>7</td>\n",
              "      <td>80</td>\n",
              "      <td>64</td>\n",
              "      <td>21</td>\n",
              "    </tr>\n",
              "    <tr>\n",
              "      <th>42</th>\n",
              "      <td>2022-04-10</td>\n",
              "      <td>19</td>\n",
              "      <td>8</td>\n",
              "      <td>57</td>\n",
              "      <td>60</td>\n",
              "      <td>24</td>\n",
              "    </tr>\n",
              "    <tr>\n",
              "      <th>43</th>\n",
              "      <td>2022-04-17</td>\n",
              "      <td>16</td>\n",
              "      <td>5</td>\n",
              "      <td>54</td>\n",
              "      <td>66</td>\n",
              "      <td>19</td>\n",
              "    </tr>\n",
              "    <tr>\n",
              "      <th>44</th>\n",
              "      <td>2022-04-24</td>\n",
              "      <td>16</td>\n",
              "      <td>6</td>\n",
              "      <td>56</td>\n",
              "      <td>54</td>\n",
              "      <td>18</td>\n",
              "    </tr>\n",
              "    <tr>\n",
              "      <th>45</th>\n",
              "      <td>2022-05-01</td>\n",
              "      <td>17</td>\n",
              "      <td>9</td>\n",
              "      <td>57</td>\n",
              "      <td>60</td>\n",
              "      <td>22</td>\n",
              "    </tr>\n",
              "    <tr>\n",
              "      <th>46</th>\n",
              "      <td>2022-05-08</td>\n",
              "      <td>17</td>\n",
              "      <td>8</td>\n",
              "      <td>100</td>\n",
              "      <td>57</td>\n",
              "      <td>24</td>\n",
              "    </tr>\n",
              "    <tr>\n",
              "      <th>47</th>\n",
              "      <td>2022-05-15</td>\n",
              "      <td>17</td>\n",
              "      <td>5</td>\n",
              "      <td>72</td>\n",
              "      <td>69</td>\n",
              "      <td>23</td>\n",
              "    </tr>\n",
              "    <tr>\n",
              "      <th>48</th>\n",
              "      <td>2022-05-22</td>\n",
              "      <td>14</td>\n",
              "      <td>7</td>\n",
              "      <td>53</td>\n",
              "      <td>54</td>\n",
              "      <td>22</td>\n",
              "    </tr>\n",
              "    <tr>\n",
              "      <th>49</th>\n",
              "      <td>2022-05-29</td>\n",
              "      <td>12</td>\n",
              "      <td>6</td>\n",
              "      <td>63</td>\n",
              "      <td>65</td>\n",
              "      <td>27</td>\n",
              "    </tr>\n",
              "    <tr>\n",
              "      <th>50</th>\n",
              "      <td>2022-06-05</td>\n",
              "      <td>16</td>\n",
              "      <td>5</td>\n",
              "      <td>55</td>\n",
              "      <td>72</td>\n",
              "      <td>24</td>\n",
              "    </tr>\n",
              "    <tr>\n",
              "      <th>51</th>\n",
              "      <td>2022-06-12</td>\n",
              "      <td>19</td>\n",
              "      <td>4</td>\n",
              "      <td>58</td>\n",
              "      <td>63</td>\n",
              "      <td>28</td>\n",
              "    </tr>\n",
              "  </tbody>\n",
              "</table>\n",
              "</div>\n",
              "      <button class=\"colab-df-convert\" onclick=\"convertToInteractive('df-6d08b47f-00a5-42f9-952a-2d8b55bdbeb8')\"\n",
              "              title=\"Convert this dataframe to an interactive table.\"\n",
              "              style=\"display:none;\">\n",
              "        \n",
              "  <svg xmlns=\"http://www.w3.org/2000/svg\" height=\"24px\"viewBox=\"0 0 24 24\"\n",
              "       width=\"24px\">\n",
              "    <path d=\"M0 0h24v24H0V0z\" fill=\"none\"/>\n",
              "    <path d=\"M18.56 5.44l.94 2.06.94-2.06 2.06-.94-2.06-.94-.94-2.06-.94 2.06-2.06.94zm-11 1L8.5 8.5l.94-2.06 2.06-.94-2.06-.94L8.5 2.5l-.94 2.06-2.06.94zm10 10l.94 2.06.94-2.06 2.06-.94-2.06-.94-.94-2.06-.94 2.06-2.06.94z\"/><path d=\"M17.41 7.96l-1.37-1.37c-.4-.4-.92-.59-1.43-.59-.52 0-1.04.2-1.43.59L10.3 9.45l-7.72 7.72c-.78.78-.78 2.05 0 2.83L4 21.41c.39.39.9.59 1.41.59.51 0 1.02-.2 1.41-.59l7.78-7.78 2.81-2.81c.8-.78.8-2.07 0-2.86zM5.41 20L4 18.59l7.72-7.72 1.47 1.35L5.41 20z\"/>\n",
              "  </svg>\n",
              "      </button>\n",
              "      \n",
              "  <style>\n",
              "    .colab-df-container {\n",
              "      display:flex;\n",
              "      flex-wrap:wrap;\n",
              "      gap: 12px;\n",
              "    }\n",
              "\n",
              "    .colab-df-convert {\n",
              "      background-color: #E8F0FE;\n",
              "      border: none;\n",
              "      border-radius: 50%;\n",
              "      cursor: pointer;\n",
              "      display: none;\n",
              "      fill: #1967D2;\n",
              "      height: 32px;\n",
              "      padding: 0 0 0 0;\n",
              "      width: 32px;\n",
              "    }\n",
              "\n",
              "    .colab-df-convert:hover {\n",
              "      background-color: #E2EBFA;\n",
              "      box-shadow: 0px 1px 2px rgba(60, 64, 67, 0.3), 0px 1px 3px 1px rgba(60, 64, 67, 0.15);\n",
              "      fill: #174EA6;\n",
              "    }\n",
              "\n",
              "    [theme=dark] .colab-df-convert {\n",
              "      background-color: #3B4455;\n",
              "      fill: #D2E3FC;\n",
              "    }\n",
              "\n",
              "    [theme=dark] .colab-df-convert:hover {\n",
              "      background-color: #434B5C;\n",
              "      box-shadow: 0px 1px 3px 1px rgba(0, 0, 0, 0.15);\n",
              "      filter: drop-shadow(0px 1px 2px rgba(0, 0, 0, 0.3));\n",
              "      fill: #FFFFFF;\n",
              "    }\n",
              "  </style>\n",
              "\n",
              "      <script>\n",
              "        const buttonEl =\n",
              "          document.querySelector('#df-6d08b47f-00a5-42f9-952a-2d8b55bdbeb8 button.colab-df-convert');\n",
              "        buttonEl.style.display =\n",
              "          google.colab.kernel.accessAllowed ? 'block' : 'none';\n",
              "\n",
              "        async function convertToInteractive(key) {\n",
              "          const element = document.querySelector('#df-6d08b47f-00a5-42f9-952a-2d8b55bdbeb8');\n",
              "          const dataTable =\n",
              "            await google.colab.kernel.invokeFunction('convertToInteractive',\n",
              "                                                     [key], {});\n",
              "          if (!dataTable) return;\n",
              "\n",
              "          const docLinkHtml = 'Like what you see? Visit the ' +\n",
              "            '<a target=\"_blank\" href=https://colab.research.google.com/notebooks/data_table.ipynb>data table notebook</a>'\n",
              "            + ' to learn more about interactive tables.';\n",
              "          element.innerHTML = '';\n",
              "          dataTable['output_type'] = 'display_data';\n",
              "          await google.colab.output.renderOutput(dataTable, element);\n",
              "          const docLink = document.createElement('div');\n",
              "          docLink.innerHTML = docLinkHtml;\n",
              "          element.appendChild(docLink);\n",
              "        }\n",
              "      </script>\n",
              "    </div>\n",
              "  </div>\n",
              "  "
            ],
            "text/plain": [
              "          關鍵字  茶行  鐵觀音   木柵  茶葉  送禮\n",
              "0  2021-06-20  12    7   43  57  20\n",
              "1  2021-06-27  12    7   45  52  17\n",
              "2  2021-07-04  11    8   43  56  18\n",
              "3  2021-07-11  15    7   43  51  19\n",
              "4  2021-07-18  11    7   42  48  18\n",
              "5  2021-07-25  10    5   38  44  21\n",
              "6  2021-08-01   9    6   43  56  24\n",
              "7  2021-08-08  12    5   51  57  29\n",
              "8  2021-08-15  14    7   58  64  30\n",
              "9  2021-08-22  13    8   72  48  33\n",
              "10 2021-08-29  15    7   61  62  34\n",
              "11 2021-09-05  15    8   52  60  44\n",
              "12 2021-09-12  17    9   59  60  50\n",
              "13 2021-09-19  16    7   64  59  28\n",
              "14 2021-09-26  17    6   71  60  28\n",
              "15 2021-10-03  16    6   70  61  25\n",
              "16 2021-10-10  15    4   68  62  22\n",
              "17 2021-10-17  16    7   65  56  28\n",
              "18 2021-10-24  19    7   59  57  20\n",
              "19 2021-10-31  17    6   72  67  20\n",
              "20 2021-11-07  18    6   70  69  29\n",
              "21 2021-11-14  17    7   74  65  28\n",
              "22 2021-11-21  22    6   67  67  30\n",
              "23 2021-11-28  20    7   72  63  28\n",
              "24 2021-12-05  20    8   78  64  29\n",
              "25 2021-12-12  19    5   71  59  41\n",
              "26 2021-12-19  18    5   65  63  34\n",
              "27 2021-12-26  16    7   77  74  37\n",
              "28 2022-01-02  22    5   69  65  47\n",
              "29 2022-01-09  17    9   54  62  50\n",
              "30 2022-01-16  17    9   63  56  54\n",
              "31 2022-01-23  20    6   52  69  56\n",
              "32 2022-01-30  20    5   70  66  38\n",
              "33 2022-02-06  19    6   73  74  24\n",
              "34 2022-02-13  14    6   56  72  33\n",
              "35 2022-02-20  19    6   62  61  17\n",
              "36 2022-02-27  17    8   90  70  21\n",
              "37 2022-03-06  20    5   69  72  18\n",
              "38 2022-03-13  19    5   79  67  23\n",
              "39 2022-03-20  16    5   57  61  23\n",
              "40 2022-03-27  14    5   63  68  18\n",
              "41 2022-04-03  18    7   80  64  21\n",
              "42 2022-04-10  19    8   57  60  24\n",
              "43 2022-04-17  16    5   54  66  19\n",
              "44 2022-04-24  16    6   56  54  18\n",
              "45 2022-05-01  17    9   57  60  22\n",
              "46 2022-05-08  17    8  100  57  24\n",
              "47 2022-05-15  17    5   72  69  23\n",
              "48 2022-05-22  14    7   53  54  22\n",
              "49 2022-05-29  12    6   63  65  27\n",
              "50 2022-06-05  16    5   55  72  24\n",
              "51 2022-06-12  19    4   58  63  28"
            ]
          },
          "execution_count": 1,
          "metadata": {},
          "output_type": "execute_result"
        }
      ],
      "source": [
        "from google.colab import files\n",
        "import pandas as pd\n",
        "uploaded=files.upload()              # 上傳檔案\n",
        "\n",
        "pd.read_excel('multiTimeline.xlsx')     # 開啟已經上傳之檔案\n"
      ]
    },
    {
      "cell_type": "code",
      "execution_count": null,
      "metadata": {
        "colab": {
          "base_uri": "https://localhost:8080/"
        },
        "id": "3CG4xbJYDGo_",
        "outputId": "fe915da9-9c6e-4670-e88b-f029867cdc02"
      },
      "outputs": [
        {
          "name": "stdout",
          "output_type": "stream",
          "text": [
            "          關鍵字  茶行  鐵觀音   木柵  茶葉  送禮\n",
            "0  2021-06-20  12    7   43  57  20\n",
            "1  2021-06-27  12    7   45  52  17\n",
            "2  2021-07-04  11    8   43  56  18\n",
            "3  2021-07-11  15    7   43  51  19\n",
            "4  2021-07-18  11    7   42  48  18\n",
            "5  2021-07-25  10    5   38  44  21\n",
            "6  2021-08-01   9    6   43  56  24\n",
            "7  2021-08-08  12    5   51  57  29\n",
            "8  2021-08-15  14    7   58  64  30\n",
            "9  2021-08-22  13    8   72  48  33\n",
            "10 2021-08-29  15    7   61  62  34\n",
            "11 2021-09-05  15    8   52  60  44\n",
            "12 2021-09-12  17    9   59  60  50\n",
            "13 2021-09-19  16    7   64  59  28\n",
            "14 2021-09-26  17    6   71  60  28\n",
            "15 2021-10-03  16    6   70  61  25\n",
            "16 2021-10-10  15    4   68  62  22\n",
            "17 2021-10-17  16    7   65  56  28\n",
            "18 2021-10-24  19    7   59  57  20\n",
            "19 2021-10-31  17    6   72  67  20\n",
            "20 2021-11-07  18    6   70  69  29\n",
            "21 2021-11-14  17    7   74  65  28\n",
            "22 2021-11-21  22    6   67  67  30\n",
            "23 2021-11-28  20    7   72  63  28\n",
            "24 2021-12-05  20    8   78  64  29\n",
            "25 2021-12-12  19    5   71  59  41\n",
            "26 2021-12-19  18    5   65  63  34\n",
            "27 2021-12-26  16    7   77  74  37\n",
            "28 2022-01-02  22    5   69  65  47\n",
            "29 2022-01-09  17    9   54  62  50\n",
            "30 2022-01-16  17    9   63  56  54\n",
            "31 2022-01-23  20    6   52  69  56\n",
            "32 2022-01-30  20    5   70  66  38\n",
            "33 2022-02-06  19    6   73  74  24\n",
            "34 2022-02-13  14    6   56  72  33\n",
            "35 2022-02-20  19    6   62  61  17\n",
            "36 2022-02-27  17    8   90  70  21\n",
            "37 2022-03-06  20    5   69  72  18\n",
            "38 2022-03-13  19    5   79  67  23\n",
            "39 2022-03-20  16    5   57  61  23\n",
            "40 2022-03-27  14    5   63  68  18\n",
            "41 2022-04-03  18    7   80  64  21\n",
            "42 2022-04-10  19    8   57  60  24\n",
            "43 2022-04-17  16    5   54  66  19\n",
            "44 2022-04-24  16    6   56  54  18\n",
            "45 2022-05-01  17    9   57  60  22\n",
            "46 2022-05-08  17    8  100  57  24\n",
            "47 2022-05-15  17    5   72  69  23\n",
            "48 2022-05-22  14    7   53  54  22\n",
            "49 2022-05-29  12    6   63  65  27\n",
            "50 2022-06-05  16    5   55  72  24\n",
            "51 2022-06-12  19    4   58  63  28\n"
          ]
        }
      ],
      "source": [
        "df = pd.read_excel(\"multiTimeline.xlsx\",  usecols=[ \"關鍵字\", \"茶行\",\"鐵觀音\", \"木柵\",\"茶葉\", \"送禮\" ])\n",
        "print(df)"
      ]
    },
    {
      "cell_type": "code",
      "execution_count": null,
      "metadata": {
        "id": "qdGYGRQkT2zz"
      },
      "outputs": [],
      "source": [
        "dd = pd.read_excel(\"multiTimeline.xlsx\",  usecols=[ \"關鍵字\"])\n",
        "ds = pd.read_excel(\"multiTimeline.xlsx\",  usecols=[ \"茶行\"])\n",
        "dtia = pd.read_excel(\"multiTimeline.xlsx\",  usecols=[ \"鐵觀音\"])\n",
        "dm = pd.read_excel(\"multiTimeline.xlsx\",  usecols=[  \"木柵\"])\n",
        "dt = pd.read_excel(\"multiTimeline.xlsx\",  usecols=[ \"茶葉\" ])\n",
        "dg = pd.read_excel(\"multiTimeline.xlsx\",  usecols=[  \"送禮\" ])"
      ]
    },
    {
      "cell_type": "code",
      "execution_count": null,
      "metadata": {
        "colab": {
          "base_uri": "https://localhost:8080/",
          "height": 283
        },
        "id": "7H6Fy2KIfSe_",
        "outputId": "02af632f-d7bd-4b54-dc2f-a0b50cfa075a"
      },
      "outputs": [
        {
          "data": {
            "text/plain": [
              "<matplotlib.legend.Legend at 0x7fb1539d2c50>"
            ]
          },
          "execution_count": 4,
          "metadata": {},
          "output_type": "execute_result"
        },
        {
          "data": {
            "image/png": "[encoded data removed]",
            "text/plain": [
              "<Figure size 432x288 with 1 Axes>"
            ]
          },
          "metadata": {
            "needs_background": "light"
          },
          "output_type": "display_data"
        }
      ],
      "source": [
        "import matplotlib.pyplot as plt\n",
        "\n",
        "\n",
        "plt.plot( ds, label='tea store', color='blue')\n",
        "plt.plot( dtia, label='tiakuanyin', color='g')\n",
        "plt.plot( dm, label='muzha', color='brown')\n",
        "plt.plot( dt, label='tea leaves', color='y')\n",
        "plt.plot( dg, label='gift', color='r')\n",
        "plt.legend()"
      ]
    },
    {
      "cell_type": "code",
      "execution_count": null,
      "metadata": {
        "id": "8YRyswGIdQej"
      },
      "outputs": [],
      "source": [
        "def moving_average(i, extra_periods=1, n=3):\n",
        "    \n",
        "    # Historical period length\n",
        "    cols = len(i) \n",
        "    # Append np.nan into the demand array to cover future periods\n",
        "    #np.zeros? actual or initial?\n",
        "    i = np.append(i,[np.nan]*extra_periods) \n",
        "    # Define the forecast array\n",
        "    f = np.full(cols+extra_periods,np.nan)\n",
        "    \n",
        "    # Create all the n+1 forecast until end of historical period\n",
        "    for t in range(n,cols):\n",
        "        f[t] = np.mean(i[t-n:t])\n",
        "\n",
        "     \n",
        "    # Forecast for all extra periods\n",
        "    # given t=20-->how is it?\n",
        "    f[t+1:] = np.mean(i[t-n+1:t+1])\n",
        "    # All extra periods with same forecasts?\n",
        "\n",
        "\n",
        "    \n",
        "               \n",
        "    # Return a dataframe from array data\n",
        "    df = pd.DataFrame.from_dict({'Impression':i,'Forecast':f,'Error':i-f})\n",
        "  \n",
        "    return df"
      ]
    },
    {
      "cell_type": "code",
      "execution_count": null,
      "metadata": {
        "colab": {
          "base_uri": "https://localhost:8080/"
        },
        "id": "DXYazOniTNRi",
        "outputId": "4a66da1c-d4fb-47c2-833a-cb15466608fa"
      },
      "outputs": [
        {
          "name": "stdout",
          "output_type": "stream",
          "text": [
            "0           NaN\n",
            "1           NaN\n",
            "2           NaN\n",
            "3     11.666667\n",
            "4     12.666667\n",
            "5     12.333333\n",
            "6     12.000000\n",
            "7     10.000000\n",
            "8     10.333333\n",
            "9     11.666667\n",
            "10    13.000000\n",
            "11    14.000000\n",
            "12    14.333333\n",
            "13    15.666667\n",
            "14    16.000000\n",
            "15    16.666667\n",
            "16    16.333333\n",
            "17    16.000000\n",
            "18    15.666667\n",
            "19    16.666667\n",
            "20    17.333333\n",
            "21    18.000000\n",
            "22    17.333333\n",
            "23    19.000000\n",
            "24    19.666667\n",
            "25    20.666667\n",
            "26    19.666667\n",
            "27    19.000000\n",
            "28    17.666667\n",
            "29    18.666667\n",
            "30    18.333333\n",
            "31    18.666667\n",
            "32    18.000000\n",
            "33    19.000000\n",
            "34    19.666667\n",
            "35    17.666667\n",
            "36    17.333333\n",
            "37    16.666667\n",
            "38    18.666667\n",
            "39    18.666667\n",
            "40    18.333333\n",
            "41    16.333333\n",
            "42    16.000000\n",
            "43    17.000000\n",
            "44    17.666667\n",
            "45    17.000000\n",
            "46    16.333333\n",
            "47    16.666667\n",
            "48    17.000000\n",
            "49    16.000000\n",
            "50    14.333333\n",
            "51    14.000000\n",
            "52    15.666667\n",
            "53    15.666667\n",
            "54    15.666667\n",
            "55    15.666667\n",
            "Name: Forecast, dtype: float64\n"
          ]
        }
      ],
      "source": [
        "d=ds #茶行\n",
        "result=moving_average(d,extra_periods=4,n=3)\n",
        "# All extra periods with same forecasts? very similar to f[21]-->can use the simplified version\n",
        "# dataframe:https://www.runoob.com/pandas/pandas-dataframe.html\n",
        "print(result['Forecast'])"
      ]
    },
    {
      "cell_type": "code",
      "execution_count": null,
      "metadata": {
        "colab": {
          "base_uri": "https://localhost:8080/",
          "height": 283
        },
        "id": "cCgrJ6AvU0Fk",
        "outputId": "2217259e-4b77-4423-9a86-66f8751aed86"
      },
      "outputs": [
        {
          "data": {
            "text/plain": [
              "<matplotlib.axes._subplots.AxesSubplot at 0x7fb153476ed0>"
            ]
          },
          "execution_count": 7,
          "metadata": {},
          "output_type": "execute_result"
        },
        {
          "data": {
            "image/png": "[encoded data removed]",
            "text/plain": [
              "<Figure size 432x288 with 1 Axes>"
            ]
          },
          "metadata": {
            "needs_background": "light"
          },
          "output_type": "display_data"
        }
      ],
      "source": [
        "result[['Impression','Forecast']].plot()"
      ]
    },
    {
      "cell_type": "code",
      "execution_count": null,
      "metadata": {
        "colab": {
          "base_uri": "https://localhost:8080/"
        },
        "id": "ytp9IigzU9jS",
        "outputId": "8e0d214e-687c-4f56-b695-eb4bb3de3db7"
      },
      "outputs": [
        {
          "name": "stdout",
          "output_type": "stream",
          "text": [
            "0          NaN\n",
            "1          NaN\n",
            "2          NaN\n",
            "3     7.333333\n",
            "4     7.333333\n",
            "5     7.333333\n",
            "6     6.333333\n",
            "7     6.000000\n",
            "8     5.333333\n",
            "9     6.000000\n",
            "10    6.666667\n",
            "11    7.333333\n",
            "12    7.666667\n",
            "13    8.000000\n",
            "14    8.000000\n",
            "15    7.333333\n",
            "16    6.333333\n",
            "17    5.333333\n",
            "18    5.666667\n",
            "19    6.000000\n",
            "20    6.666667\n",
            "21    6.333333\n",
            "22    6.333333\n",
            "23    6.333333\n",
            "24    6.666667\n",
            "25    7.000000\n",
            "26    6.666667\n",
            "27    6.000000\n",
            "28    5.666667\n",
            "29    5.666667\n",
            "30    7.000000\n",
            "31    7.666667\n",
            "32    8.000000\n",
            "33    6.666667\n",
            "34    5.666667\n",
            "35    5.666667\n",
            "36    6.000000\n",
            "37    6.666667\n",
            "38    6.333333\n",
            "39    6.000000\n",
            "40    5.000000\n",
            "41    5.000000\n",
            "42    5.666667\n",
            "43    6.666667\n",
            "44    6.666667\n",
            "45    6.333333\n",
            "46    6.666667\n",
            "47    7.666667\n",
            "48    7.333333\n",
            "49    6.666667\n",
            "50    6.000000\n",
            "51    6.000000\n",
            "52    5.000000\n",
            "53    5.000000\n",
            "54    5.000000\n",
            "55    5.000000\n",
            "Name: Forecast, dtype: float64\n"
          ]
        }
      ],
      "source": [
        "#3-period MA for future 4 periods\n",
        "d=dtia #鐵觀音\n",
        "result=moving_average(d,extra_periods=4,n=3)\n",
        "# All extra periods with same forecasts? very similar to f[21]-->can use the simplified version\n",
        "# dataframe:https://www.runoob.com/pandas/pandas-dataframe.html\n",
        "print(result['Forecast'])"
      ]
    },
    {
      "cell_type": "code",
      "execution_count": null,
      "metadata": {
        "colab": {
          "base_uri": "https://localhost:8080/",
          "height": 283
        },
        "id": "LVf5AfAwVGGD",
        "outputId": "5d76cc0a-12a5-4d89-afe0-b4d82e1ff8db"
      },
      "outputs": [
        {
          "data": {
            "text/plain": [
              "<matplotlib.axes._subplots.AxesSubplot at 0x7fb153958810>"
            ]
          },
          "execution_count": 9,
          "metadata": {},
          "output_type": "execute_result"
        },
        {
          "data": {
            "image/png": "[encoded data removed]",
            "text/plain": [
              "<Figure size 432x288 with 1 Axes>"
            ]
          },
          "metadata": {
            "needs_background": "light"
          },
          "output_type": "display_data"
        }
      ],
      "source": [
        "result[['Impression','Forecast']].plot()"
      ]
    },
    {
      "cell_type": "code",
      "execution_count": null,
      "metadata": {
        "colab": {
          "base_uri": "https://localhost:8080/"
        },
        "id": "IUMJ19MkKCWG",
        "outputId": "4cf1cedf-c2a2-47e7-f86b-034fecbff113"
      },
      "outputs": [
        {
          "name": "stdout",
          "output_type": "stream",
          "text": [
            "0          NaN\n",
            "1          NaN\n",
            "2          NaN\n",
            "3    -0.333333\n",
            "4    -0.333333\n",
            "5    -2.333333\n",
            "6    -0.333333\n",
            "7    -1.000000\n",
            "8     1.666667\n",
            "9     2.000000\n",
            "10    0.333333\n",
            "11    0.666667\n",
            "12    1.333333\n",
            "13   -1.000000\n",
            "14   -2.000000\n",
            "15   -1.333333\n",
            "16   -2.333333\n",
            "17    1.666667\n",
            "18    1.333333\n",
            "19    0.000000\n",
            "20   -0.666667\n",
            "21    0.666667\n",
            "22   -0.333333\n",
            "23    0.666667\n",
            "24    1.333333\n",
            "25   -2.000000\n",
            "26   -1.666667\n",
            "27    1.000000\n",
            "28   -0.666667\n",
            "29    3.333333\n",
            "30    2.000000\n",
            "31   -1.666667\n",
            "32   -3.000000\n",
            "33   -0.666667\n",
            "34    0.333333\n",
            "35    0.333333\n",
            "36    2.000000\n",
            "37   -1.666667\n",
            "38   -1.333333\n",
            "39   -1.000000\n",
            "40    0.000000\n",
            "41    2.000000\n",
            "42    2.333333\n",
            "43   -1.666667\n",
            "44   -0.666667\n",
            "45    2.666667\n",
            "46    1.333333\n",
            "47   -2.666667\n",
            "48   -0.333333\n",
            "49   -0.666667\n",
            "50   -1.000000\n",
            "51   -2.000000\n",
            "52         NaN\n",
            "Name: Error, dtype: float64\n",
            "SSE: 115.44\n",
            "MSE: 2.36\n",
            "SSE: 116.19\n",
            "MSE: 2.42\n"
          ]
        }
      ],
      "source": [
        "import numpy as np\n",
        "import statistics\n",
        "import pandas as pd\n",
        "import matplotlib.pyplot as plt \n",
        "#MA2\n",
        "def kpi_simple(df):\n",
        "    SSE =(df['Error']**2).sum()\n",
        "    MSE =(df['Error']**2).mean()\n",
        "    print('SSE: {:0.2f}'.format(SSE))\n",
        "    print('MSE: {:0.2f}'.format(MSE))\n",
        "d=dtia\n",
        "case1=moving_average(d,extra_periods=1,n=3)\n",
        "print(case1['Error']) #df.sum() ignore NaN\n",
        "kpi_simple(case1)\n",
        "case2=moving_average(d,extra_periods=1,n=4)\n",
        "kpi_simple(case2)\n",
        "\n",
        "\n"
      ]
    },
    {
      "cell_type": "code",
      "execution_count": null,
      "metadata": {
        "id": "X4dAMYhAKIDj"
      },
      "outputs": [],
      "source": [
        "from traitlets.traitlets import directional_link\n",
        "def seasonal_ES(dtia, slen=4, extra_periods=1, alpha=0.6, beta=0.2):\n",
        "\n",
        "    cols = len(dtia) # Historical period length\n",
        "    d = np.append(dtia,[np.nan]*extra_periods) # Append np.nan into the demand array to cover future periods\n",
        "    \n",
        "    # components initialization     \n",
        "    f,E,S = np.full((3,cols+extra_periods),np.nan)\n",
        "        \n",
        "    # initialization\n",
        "    for i in range(slen):\n",
        "      E[i] = d[:slen].mean()\n",
        "      S[i] = d[i]-E[i]             \n",
        "\n",
        "                \n",
        "    # Create all the t+1 forecast\n",
        "    for t in range(slen,cols):\n",
        "        f[t] = E[t-1] +  S[t-slen]       \n",
        "        E[t] = alpha*(d[t]-S[t-slen]) + (1-alpha)*(E[t-1])               \n",
        "        S[t] = beta*(d[t]-E[t]) + (1-beta)*S[t-slen] \n",
        "        \n",
        "    # Forecast for all extra periods\n",
        "    for t in range(cols,cols+extra_periods):\n",
        "      f[t] = E[cols-1] + S[t-slen]\n",
        "                      \n",
        "    df = pd.DataFrame.from_dict({'Impression':i,'Forecast':f,'Level':E,'Season':S,'Error':d-f})\n",
        "\n",
        "    return df"
      ]
    },
    {
      "cell_type": "code",
      "execution_count": null,
      "metadata": {
        "colab": {
          "base_uri": "https://localhost:8080/"
        },
        "id": "0jLgwOqBKu73",
        "outputId": "72d64921-0973-4c5d-fe5d-9c89ee10eac6"
      },
      "outputs": [
        {
          "name": "stdout",
          "output_type": "stream",
          "text": [
            "Best solution found for Seasonal additive, alpha: 0.1, beta:0.05 MAE of 1.24\n"
          ]
        }
      ],
      "source": [
        "def seasonal_opti(dtia, extra_periods=4):  \n",
        "  \n",
        "    params = []  # contains all the different parameter sets  \n",
        "    KPIs = []   # contains the results of each model  \n",
        "    dfs = []  # contains all the dataframes returned by the different models  \n",
        "    data=[0.05,0.1,0.2,0.3,0.4,0.5,0.6]\n",
        "    for alpha in data:\n",
        "      for beta in data:  \n",
        "          \n",
        "        df = seasonal_ES(d,extra_periods=extra_periods,alpha=alpha,beta=beta) \n",
        "        params.append(f'Seasonal additive, alpha: {alpha}, beta:{beta}')  \n",
        "        dfs.append(df)  \n",
        "        MAE = df['Error'].abs().mean()  \n",
        "        KPIs.append(MAE)  \n",
        "                        \n",
        "     \n",
        "    mini = np.argmin(KPIs)   \n",
        "    print(f'Best solution found for {params[mini]} MAE of',round(KPIs[mini],2))  \n",
        "\n",
        "    return dfs[mini]  \n",
        "\n",
        "d=dtia\n",
        "result=seasonal_opti(d)"
      ]
    },
    {
      "cell_type": "code",
      "execution_count": null,
      "metadata": {
        "colab": {
          "base_uri": "https://localhost:8080/",
          "height": 1000
        },
        "id": "HGZ_WF_2K1Bb",
        "outputId": "d54b9c9c-4350-4697-a694-f78b051b7397"
      },
      "outputs": [
        {
          "name": "stdout",
          "output_type": "stream",
          "text": [
            "    Impression  Forecast     Level    Season     Error\n",
            "0            3       NaN  7.250000 -0.250000       NaN\n",
            "1            3       NaN  7.250000 -0.250000       NaN\n",
            "2            3       NaN  7.250000  0.750000       NaN\n",
            "3            3       NaN  7.250000 -0.250000       NaN\n",
            "4            3  7.000000  7.250000 -0.250000  0.000000\n",
            "5            3  7.000000  7.050000 -0.340000 -2.000000\n",
            "6            3  7.800000  6.870000  0.669000 -1.800000\n",
            "7            3  6.620000  6.708000 -0.322900 -1.620000\n",
            "8            3  6.458000  6.762200 -0.225610  0.542000\n",
            "9            3  6.422200  6.919980 -0.268999  1.577800\n",
            "10           3  7.588980  6.861082  0.642496 -0.588980\n",
            "11           3  6.538182  7.007264 -0.257118  1.461818\n",
            "12           3  6.781654  7.229098 -0.125784  2.218346\n",
            "13           3  6.960099  7.233088 -0.267203  0.039901\n",
            "14           3  7.875584  7.045530  0.558095 -1.875584\n",
            "15           3  6.788412  6.966689 -0.292597 -0.788412\n",
            "16           3  6.840904  6.682598 -0.253625 -2.840904\n",
            "17           3  6.415395  6.741059 -0.240896  0.584605\n",
            "18           3  7.299154  6.711144  0.544633 -0.299154\n",
            "19           3  6.418547  6.669289 -0.311431 -0.418547\n",
            "20           3  6.415664  6.627723 -0.272330 -0.415664\n",
            "21           3  6.386826  6.689040 -0.213303  0.613174\n",
            "22           3  7.233673  6.565673  0.489117 -1.233673\n",
            "23           3  6.254241  6.640248 -0.277872  0.745759\n",
            "24           3  6.367919  6.803457 -0.198886  1.632081\n",
            "25           3  6.590153  6.644441 -0.284860 -1.590153\n",
            "26           3  7.133559  6.431085  0.393107 -2.133559\n",
            "27           3  6.153213  6.515764 -0.239767  0.846787\n",
            "28           3  6.316878  6.384076 -0.258146 -1.316878\n",
            "29           3  6.099216  6.674155 -0.154325  2.900784\n",
            "30           3  7.067262  6.867429  0.480080  1.932738\n",
            "31           3  6.627662  6.804662 -0.268012 -0.627662\n",
            "32           3  6.546517  6.650011 -0.327739 -1.546517\n",
            "33           3  6.495686  6.600442 -0.176631 -0.495686\n",
            "34           3  7.080523  6.492390  0.431457 -1.080523\n",
            "35           3  6.224378  6.469952 -0.278109 -0.224378\n",
            "36           3  6.142213  6.655731 -0.244139  1.857787\n",
            "37           3  6.479100  6.507821 -0.243190 -1.479100\n",
            "38           3  6.939278  6.313893  0.344189 -1.939278\n",
            "39           3  6.035784  6.210315 -0.324719 -1.035784\n",
            "40           3  5.966176  6.113697 -0.287617 -0.966176\n",
            "41           3  5.870507  6.226646 -0.192363  1.129493\n",
            "42           3  6.570836  6.369563  0.408502  1.429164\n",
            "43           3  6.044844  6.265078 -0.371737 -1.044844\n",
            "44           3  5.977462  6.267332 -0.286602  0.022538\n",
            "45           3  6.074969  6.559835 -0.060737  2.925031\n",
            "46           3  6.968337  6.663002  0.454927  1.031663\n",
            "47           3  6.291265  6.533875 -0.429844 -1.291265\n",
            "48           3  6.247273  6.609148 -0.252730  0.752727\n",
            "49           3  6.548411  6.554307 -0.085415 -0.548411\n",
            "50           3  7.009233  6.353383  0.364511 -2.009233\n",
            "51           3  5.923540  6.161029 -0.516403 -1.923540\n",
            "52           3  5.908300       NaN       NaN       NaN\n",
            "53           3  6.075614       NaN       NaN       NaN\n",
            "54           3  6.525541       NaN       NaN       NaN\n",
            "55           3  5.644626       NaN       NaN       NaN\n",
            "SSE: 99.80\n",
            "MSE: 2.08\n"
          ]
        },
        {
          "data": {
            "text/plain": [
              "[<matplotlib.lines.Line2D at 0x7fb153adfe90>]"
            ]
          },
          "execution_count": 13,
          "metadata": {},
          "output_type": "execute_result"
        },
        {
          "data": {
            "image/png": "[encoded data removed]",
            "text/plain": [
              "<Figure size 432x288 with 1 Axes>"
            ]
          },
          "metadata": {
            "needs_background": "light"
          },
          "output_type": "display_data"
        }
      ],
      "source": [
        "ts=dtia\n",
        "\n",
        "print(result)\n",
        "kpi_simple(result)\n",
        "result[['Forecast']].plot()\n",
        "plt.plot( dtia, label='tiakuanyin', color='grey')"
      ]
    },
    {
      "cell_type": "code",
      "execution_count": null,
      "metadata": {
        "colab": {
          "base_uri": "https://localhost:8080/"
        },
        "id": "SY9hIIFY9gdD",
        "outputId": "3a0b1de4-0dc7-4a12-e624-bcb06b2c1bf7"
      },
      "outputs": [
        {
          "name": "stdout",
          "output_type": "stream",
          "text": [
            "0           NaN\n",
            "1           NaN\n",
            "2           NaN\n",
            "3     43.666667\n",
            "4     43.666667\n",
            "5     42.666667\n",
            "6     41.000000\n",
            "7     41.000000\n",
            "8     44.000000\n",
            "9     50.666667\n",
            "10    60.333333\n",
            "11    63.666667\n",
            "12    61.666667\n",
            "13    57.333333\n",
            "14    58.333333\n",
            "15    64.666667\n",
            "16    68.333333\n",
            "17    69.666667\n",
            "18    67.666667\n",
            "19    64.000000\n",
            "20    65.333333\n",
            "21    67.000000\n",
            "22    72.000000\n",
            "23    70.333333\n",
            "24    71.000000\n",
            "25    72.333333\n",
            "26    73.666667\n",
            "27    71.333333\n",
            "28    71.000000\n",
            "29    70.333333\n",
            "30    66.666667\n",
            "31    62.000000\n",
            "32    56.333333\n",
            "33    61.666667\n",
            "34    65.000000\n",
            "35    66.333333\n",
            "36    63.666667\n",
            "37    69.333333\n",
            "38    73.666667\n",
            "39    79.333333\n",
            "40    68.333333\n",
            "41    66.333333\n",
            "42    66.666667\n",
            "43    66.666667\n",
            "44    63.666667\n",
            "45    55.666667\n",
            "46    55.666667\n",
            "47    71.000000\n",
            "48    76.333333\n",
            "49    75.000000\n",
            "50    62.666667\n",
            "51    57.000000\n",
            "52    58.666667\n",
            "53    58.666667\n",
            "54    58.666667\n",
            "55    58.666667\n",
            "Name: Forecast, dtype: float64\n"
          ]
        }
      ],
      "source": [
        "#3-period MA for future 4 periods\n",
        "d=dm #木柵\n",
        "result=moving_average(d,extra_periods=4,n=3)\n",
        "# All extra periods with same forecasts? very similar to f[21]-->can use the simplified version\n",
        "# dataframe:https://www.runoob.com/pandas/pandas-dataframe.html\n",
        "print(result['Forecast'])"
      ]
    },
    {
      "cell_type": "code",
      "execution_count": null,
      "metadata": {
        "colab": {
          "base_uri": "https://localhost:8080/",
          "height": 283
        },
        "id": "Tvvkb_vBSXog",
        "outputId": "df285ee2-dbbd-456b-d1ff-ab135a7096b1"
      },
      "outputs": [
        {
          "data": {
            "text/plain": [
              "<matplotlib.axes._subplots.AxesSubplot at 0x7fb153ad64d0>"
            ]
          },
          "execution_count": 15,
          "metadata": {},
          "output_type": "execute_result"
        },
        {
          "data": {
            "image/png": "[encoded data removed]",
            "text/plain": [
              "<Figure size 432x288 with 1 Axes>"
            ]
          },
          "metadata": {
            "needs_background": "light"
          },
          "output_type": "display_data"
        }
      ],
      "source": [
        "result[['Impression','Forecast']].plot()"
      ]
    },
    {
      "cell_type": "code",
      "execution_count": null,
      "metadata": {
        "colab": {
          "base_uri": "https://localhost:8080/"
        },
        "id": "nEKo4SR-zZum",
        "outputId": "94fc4788-77ef-4371-8c4e-e32dd6b26abc"
      },
      "outputs": [
        {
          "name": "stdout",
          "output_type": "stream",
          "text": [
            "0           NaN\n",
            "1           NaN\n",
            "2           NaN\n",
            "3     -0.666667\n",
            "4     -1.666667\n",
            "5     -4.666667\n",
            "6      2.000000\n",
            "7     10.000000\n",
            "8     14.000000\n",
            "9     21.333333\n",
            "10     0.666667\n",
            "11   -11.666667\n",
            "12    -2.666667\n",
            "13     6.666667\n",
            "14    12.666667\n",
            "15     5.333333\n",
            "16    -0.333333\n",
            "17    -4.666667\n",
            "18    -8.666667\n",
            "19     8.000000\n",
            "20     4.666667\n",
            "21     7.000000\n",
            "22    -5.000000\n",
            "23     1.666667\n",
            "24     7.000000\n",
            "25    -1.333333\n",
            "26    -8.666667\n",
            "27     5.666667\n",
            "28    -2.000000\n",
            "29   -16.333333\n",
            "30    -3.666667\n",
            "31   -10.000000\n",
            "32    13.666667\n",
            "33    11.333333\n",
            "34    -9.000000\n",
            "35    -4.333333\n",
            "36    26.333333\n",
            "37    -0.333333\n",
            "38     5.333333\n",
            "39   -22.333333\n",
            "40    -5.333333\n",
            "41    13.666667\n",
            "42    -9.666667\n",
            "43   -12.666667\n",
            "44    -7.666667\n",
            "45     1.333333\n",
            "46    44.333333\n",
            "47     1.000000\n",
            "48   -23.333333\n",
            "49   -12.000000\n",
            "50    -7.666667\n",
            "51     1.000000\n",
            "52          NaN\n",
            "Name: Error, dtype: float64\n",
            "SSE: 6839.00\n",
            "MSE: 139.57\n",
            "SSE: 6775.38\n",
            "MSE: 141.15\n"
          ]
        }
      ],
      "source": [
        "import numpy as np\n",
        "import statistics\n",
        "import pandas as pd\n",
        "import matplotlib.pyplot as plt \n",
        "#MA2\n",
        "def kpi_simple(df):\n",
        "    SSE =(df['Error']**2).sum()\n",
        "    MSE =(df['Error']**2).mean()\n",
        "    print('SSE: {:0.2f}'.format(SSE))\n",
        "    print('MSE: {:0.2f}'.format(MSE))\n",
        "d=dm\n",
        "case1=moving_average(d,extra_periods=1,n=3)\n",
        "print(case1['Error']) #df.sum() ignore NaN\n",
        "kpi_simple(case1)\n",
        "case2=moving_average(d,extra_periods=1,n=4)\n",
        "kpi_simple(case2)\n",
        "\n",
        "\n"
      ]
    },
    {
      "cell_type": "code",
      "execution_count": null,
      "metadata": {
        "id": "j2NrjKL25G3W"
      },
      "outputs": [],
      "source": [
        "def seasonal_ES(dm, slen=4, extra_periods=1, alpha=0.6, beta=0.2):\n",
        "\n",
        "    cols = len(dm) # Historical period length\n",
        "    d = np.append(dm,[np.nan]*extra_periods) # Append np.nan into the demand array to cover future periods\n",
        "    \n",
        "    # components initialization     \n",
        "    f,E,S = np.full((3,cols+extra_periods),np.nan)\n",
        "        \n",
        "    # initialization\n",
        "    for i in range(slen):\n",
        "      E[i] = d[:slen].mean()\n",
        "      S[i] = d[i]-E[i]             \n",
        "\n",
        "                \n",
        "    # Create all the t+1 forecast\n",
        "    for t in range(slen,cols):\n",
        "        f[t] = E[t-1] +  S[t-slen]       \n",
        "        E[t] = alpha*(d[t]-S[t-slen]) + (1-alpha)*(E[t-1])               \n",
        "        S[t] = beta*(d[t]-E[t]) + (1-beta)*S[t-slen] \n",
        "        \n",
        "    # Forecast for all extra periods\n",
        "    for t in range(cols,cols+extra_periods):\n",
        "      f[t] = E[cols-1] + S[t-slen]\n",
        "                      \n",
        "    df = pd.DataFrame.from_dict({'Impression':i,'Forecast':f,'Level':E,'Season':S,'Error':d-f})\n",
        "\n",
        "    return df"
      ]
    },
    {
      "cell_type": "code",
      "execution_count": null,
      "metadata": {
        "colab": {
          "base_uri": "https://localhost:8080/"
        },
        "id": "d7kank6B5Vi-",
        "outputId": "2f5103e8-da55-426c-f079-2b83179419bf"
      },
      "outputs": [
        {
          "name": "stdout",
          "output_type": "stream",
          "text": [
            "Best solution found for Seasonal additive, alpha: 0.4, beta:0.05 MAE of 8.48\n"
          ]
        }
      ],
      "source": [
        "def seasonal_opti(dm, extra_periods=4):  \n",
        "  \n",
        "    params = []  # contains all the different parameter sets  \n",
        "    KPIs = []   # contains the results of each model  \n",
        "    dfs = []  # contains all the dataframes returned by the different models  \n",
        "    data=[0.05,0.1,0.2,0.3,0.4,0.5,0.6]\n",
        "    for alpha in data:\n",
        "      for beta in data:  \n",
        "          \n",
        "        df = seasonal_ES(d,extra_periods=extra_periods,alpha=alpha,beta=beta) \n",
        "        params.append(f'Seasonal additive, alpha: {alpha}, beta:{beta}')  \n",
        "        dfs.append(df)  \n",
        "        MAE = df['Error'].abs().mean()  \n",
        "        KPIs.append(MAE)  \n",
        "                        \n",
        "     \n",
        "    mini = np.argmin(KPIs)   \n",
        "    print(f'Best solution found for {params[mini]} MAE of',round(KPIs[mini],2))  \n",
        "\n",
        "    return dfs[mini]  \n",
        "\n",
        "d=dm\n",
        "df=seasonal_opti(d)"
      ]
    },
    {
      "cell_type": "code",
      "execution_count": null,
      "metadata": {
        "colab": {
          "base_uri": "https://localhost:8080/",
          "height": 1000
        },
        "id": "D1c9t-RQ5ejl",
        "outputId": "81faedf4-ee28-4094-ad6c-62e8b305de0f"
      },
      "outputs": [
        {
          "name": "stdout",
          "output_type": "stream",
          "text": [
            "    Impression   Forecast      Level    Season      Error\n",
            "0            3        NaN  43.500000 -0.500000        NaN\n",
            "1            3        NaN  43.500000  1.500000        NaN\n",
            "2            3        NaN  43.500000 -0.500000        NaN\n",
            "3            3        NaN  43.500000 -0.500000        NaN\n",
            "4            3  43.000000  43.100000 -0.530000  -1.000000\n",
            "5            3  44.600000  40.460000  1.302000  -6.600000\n",
            "6            3  39.960000  41.676000 -0.408800   3.040000\n",
            "7            3  41.176000  45.605600 -0.205280   9.824000\n",
            "8            3  45.075600  50.775360 -0.142268  12.924400\n",
            "9            3  52.077360  58.744416  1.899679  19.922640\n",
            "10           3  58.335616  59.810170 -0.328868   2.664384\n",
            "11           3  59.604890  56.768214 -0.433427  -7.604890\n",
            "12           3  56.625946  57.717835 -0.071046   2.374054\n",
            "13           3  59.617515  59.470830  2.031154   4.382485\n",
            "14           3  59.141961  64.214045  0.026873  11.858039\n",
            "15           3  63.780618  66.701798 -0.246845   6.219382\n",
            "16           3  66.630751  67.249497 -0.029969   1.369249\n",
            "17           3  69.280651  65.537237  1.902734  -4.280651\n",
            "18           3  65.564110  62.911593 -0.170051  -6.564110\n",
            "19           3  62.664748  66.645694  0.033212   9.335252\n",
            "20           3  66.615725  67.999404  0.071559   3.384275\n",
            "21           3  69.902138  69.638549  2.025670   4.097862\n",
            "22           3  69.468498  68.651149 -0.244106  -2.468498\n",
            "23           3  68.684362  69.977405  0.132681   3.315638\n",
            "24           3  70.048964  73.157819  0.310090   7.951036\n",
            "25           3  75.183489  71.484423  1.900165  -4.183489\n",
            "26           3  71.240318  68.988296 -0.431315  -6.240318\n",
            "27           3  69.120978  72.139905  0.369052   7.879022\n",
            "28           3  72.449996  70.759907  0.206591  -3.449996\n",
            "29           3  72.660072  63.295878  1.340363 -18.660072\n",
            "30           3  62.864563  63.350053 -0.427252   0.135437\n",
            "31           3  63.719105  58.662411  0.017479 -11.719105\n",
            "32           3  58.869001  63.114810  0.540521  11.130999\n",
            "33           3  64.455174  66.532741  1.596708   8.544826\n",
            "34           3  66.105489  62.490545 -0.730417 -10.105489\n",
            "35           3  62.508024  62.287336  0.002238  -0.508024\n",
            "36           3  62.827856  73.156193  1.355685  27.172144\n",
            "37           3  74.752901  70.855033  1.424121  -5.752901\n",
            "38           3  70.124616  74.405186 -0.464155   8.875384\n",
            "39           3  74.407425  67.442216 -0.519984 -17.407425\n",
            "40           3  68.797901  65.123056  1.181748  -5.797901\n",
            "41           3  66.547177  70.504185  1.827706  13.452823\n",
            "42           3  70.040030  65.288173 -0.855356 -13.040030\n",
            "43           3  64.768189  60.980898 -0.843030 -10.768189\n",
            "44           3  62.162645  58.515839  0.996868  -6.162645\n",
            "45           3  60.343545  57.178421  1.727399  -3.343545\n",
            "46           3  56.323065  74.649195  0.454952  43.676935\n",
            "47           3  73.806165  73.926729 -0.897215  -1.806165\n",
            "48           3  74.923598  65.157290  0.339160 -21.923598\n",
            "49           3  66.884689  63.603414  1.610859  -3.884689\n",
            "50           3  64.058366  59.980068  0.183201  -9.058366\n",
            "51           3  59.082853  59.546927 -0.929701  -1.082853\n",
            "52           3  59.886087        NaN       NaN        NaN\n",
            "53           3  61.157785        NaN       NaN        NaN\n",
            "54           3  59.730128        NaN       NaN        NaN\n",
            "55           3  58.617226        NaN       NaN        NaN\n",
            "SSE: 6350.45\n",
            "MSE: 132.30\n"
          ]
        },
        {
          "data": {
            "text/plain": [
              "[<matplotlib.lines.Line2D at 0x7fb153371510>]"
            ]
          },
          "execution_count": 19,
          "metadata": {},
          "output_type": "execute_result"
        },
        {
          "data": {
            "image/png": "[encoded data removed]",
            "text/plain": [
              "<Figure size 432x288 with 1 Axes>"
            ]
          },
          "metadata": {
            "needs_background": "light"
          },
          "output_type": "display_data"
        }
      ],
      "source": [
        "ts=dm\n",
        "result = seasonal_ES(dm, slen=4, extra_periods=4, alpha=0.4, beta=0.05)\n",
        "print(result)\n",
        "kpi_simple(result)\n",
        "result[['Forecast']].plot()\n",
        "plt.plot( dm, label='muzha', color='grey')"
      ]
    },
    {
      "cell_type": "code",
      "execution_count": null,
      "metadata": {
        "colab": {
          "base_uri": "https://localhost:8080/"
        },
        "id": "yj60V8MRUkYA",
        "outputId": "ba0eafab-bad1-472e-bb1c-2298a67fd1c5"
      },
      "outputs": [
        {
          "name": "stdout",
          "output_type": "stream",
          "text": [
            "0           NaN\n",
            "1           NaN\n",
            "2           NaN\n",
            "3     55.000000\n",
            "4     53.000000\n",
            "5     51.666667\n",
            "6     47.666667\n",
            "7     49.333333\n",
            "8     52.333333\n",
            "9     59.000000\n",
            "10    56.333333\n",
            "11    58.000000\n",
            "12    56.666667\n",
            "13    60.666667\n",
            "14    59.666667\n",
            "15    59.666667\n",
            "16    60.000000\n",
            "17    61.000000\n",
            "18    59.666667\n",
            "19    58.333333\n",
            "20    60.000000\n",
            "21    64.333333\n",
            "22    67.000000\n",
            "23    67.000000\n",
            "24    65.000000\n",
            "25    64.666667\n",
            "26    62.000000\n",
            "27    62.000000\n",
            "28    65.333333\n",
            "29    67.333333\n",
            "30    67.000000\n",
            "31    61.000000\n",
            "32    62.333333\n",
            "33    63.666667\n",
            "34    69.666667\n",
            "35    70.666667\n",
            "36    69.000000\n",
            "37    67.666667\n",
            "38    67.666667\n",
            "39    69.666667\n",
            "40    66.666667\n",
            "41    65.333333\n",
            "42    64.333333\n",
            "43    64.000000\n",
            "44    63.333333\n",
            "45    60.000000\n",
            "46    60.000000\n",
            "47    57.000000\n",
            "48    62.000000\n",
            "49    60.000000\n",
            "50    62.666667\n",
            "51    63.666667\n",
            "52    66.666667\n",
            "53    66.666667\n",
            "54    66.666667\n",
            "55    66.666667\n",
            "Name: Forecast, dtype: float64\n"
          ]
        }
      ],
      "source": [
        "#3-period MA for future 4 periods\n",
        "d=dt #茶葉\n",
        "result=moving_average(d,extra_periods=4,n=3)\n",
        "# All extra periods with same forecasts? very similar to f[21]-->can use the simplified version\n",
        "# dataframe:https://www.runoob.com/pandas/pandas-dataframe.html\n",
        "print(result['Forecast'])"
      ]
    },
    {
      "cell_type": "code",
      "execution_count": null,
      "metadata": {
        "colab": {
          "base_uri": "https://localhost:8080/",
          "height": 284
        },
        "id": "slFbQR6qKjp8",
        "outputId": "61ec24ee-36d9-483b-d936-56e9c6dbe721"
      },
      "outputs": [
        {
          "data": {
            "text/plain": [
              "<matplotlib.axes._subplots.AxesSubplot at 0x7fb1532f8810>"
            ]
          },
          "execution_count": 21,
          "metadata": {},
          "output_type": "execute_result"
        },
        {
          "data": {
            "image/png": "[encoded data removed]",
            "text/plain": [
              "<Figure size 432x288 with 1 Axes>"
            ]
          },
          "metadata": {
            "needs_background": "light"
          },
          "output_type": "display_data"
        }
      ],
      "source": [
        "result[['Impression','Forecast']].plot()"
      ]
    },
    {
      "cell_type": "code",
      "execution_count": null,
      "metadata": {
        "colab": {
          "base_uri": "https://localhost:8080/"
        },
        "id": "hIcMpEanVyjB",
        "outputId": "0fb5bf77-f306-417a-af84-085c23edee4c"
      },
      "outputs": [
        {
          "name": "stdout",
          "output_type": "stream",
          "text": [
            "0           NaN\n",
            "1           NaN\n",
            "2           NaN\n",
            "3     18.333333\n",
            "4     18.000000\n",
            "5     18.333333\n",
            "6     19.333333\n",
            "7     21.000000\n",
            "8     24.666667\n",
            "9     27.666667\n",
            "10    30.666667\n",
            "11    32.333333\n",
            "12    37.000000\n",
            "13    42.666667\n",
            "14    40.666667\n",
            "15    35.333333\n",
            "16    27.000000\n",
            "17    25.000000\n",
            "18    25.000000\n",
            "19    23.333333\n",
            "20    22.666667\n",
            "21    23.000000\n",
            "22    25.666667\n",
            "23    29.000000\n",
            "24    28.666667\n",
            "25    29.000000\n",
            "26    32.666667\n",
            "27    34.666667\n",
            "28    37.333333\n",
            "29    39.333333\n",
            "30    44.666667\n",
            "31    50.333333\n",
            "32    53.333333\n",
            "33    49.333333\n",
            "34    39.333333\n",
            "35    31.666667\n",
            "36    24.666667\n",
            "37    23.666667\n",
            "38    18.666667\n",
            "39    20.666667\n",
            "40    21.333333\n",
            "41    21.333333\n",
            "42    20.666667\n",
            "43    21.000000\n",
            "44    21.333333\n",
            "45    20.333333\n",
            "46    19.666667\n",
            "47    21.333333\n",
            "48    23.000000\n",
            "49    23.000000\n",
            "50    24.000000\n",
            "51    24.333333\n",
            "52    26.333333\n",
            "53    26.333333\n",
            "54    26.333333\n",
            "55    26.333333\n",
            "Name: Forecast, dtype: float64\n"
          ]
        }
      ],
      "source": [
        "#3-period MA for future 4 periods\n",
        "d=dg #送禮\n",
        "result=moving_average(d,extra_periods=4,n=3)\n",
        "# All extra periods with same forecasts? very similar to f[21]-->can use the simplified version\n",
        "# dataframe:https://www.runoob.com/pandas/pandas-dataframe.html\n",
        "print(result['Forecast'])"
      ]
    },
    {
      "cell_type": "code",
      "execution_count": null,
      "metadata": {
        "colab": {
          "base_uri": "https://localhost:8080/",
          "height": 283
        },
        "id": "QJ3qAuPqV1x4",
        "outputId": "9472aba3-e5ba-4149-af09-5c47fb5a3673"
      },
      "outputs": [
        {
          "data": {
            "text/plain": [
              "<matplotlib.axes._subplots.AxesSubplot at 0x7fb153275350>"
            ]
          },
          "execution_count": 23,
          "metadata": {},
          "output_type": "execute_result"
        },
        {
          "data": {
            "image/png": "[encoded data removed]",
            "text/plain": [
              "<Figure size 432x288 with 1 Axes>"
            ]
          },
          "metadata": {
            "needs_background": "light"
          },
          "output_type": "display_data"
        }
      ],
      "source": [
        "result[['Impression','Forecast']].plot()"
      ]
    },
    {
      "cell_type": "code",
      "execution_count": null,
      "metadata": {
        "id": "NuJ4-e3Z7iBZ"
      },
      "outputs": [],
      "source": []
    },
    {
      "cell_type": "markdown",
      "metadata": {
        "id": "EyhPemoG0omB"
      },
      "source": [
        "# RPC Stimulation"
      ]
    },
    {
      "cell_type": "markdown",
      "metadata": {
        "id": "lAuT1qYv1X0Z"
      },
      "source": [
        "1.購買轉換率\n",
        "\n",
        "\n",
        "\n"
      ]
    },
    {
      "cell_type": "code",
      "execution_count": 17,
      "metadata": {
        "id": "w_Apm_6--Mqj"
      },
      "outputs": [],
      "source": [
        "#設定空清單\n",
        "\n",
        "#大寫\n",
        "K = 5 #共有5個關鍵字\n",
        "S = 5000 #總共做5000次模擬\n",
        "\n",
        "#每個關鍵字都有自己的轉換率，各自模擬5000次的表\n",
        "internet_conversion_rate = np.zeros((K,S)) \n",
        "shop_conversion_rate = np.zeros((K,S))"
      ]
    },
    {
      "cell_type": "code",
      "execution_count": 18,
      "metadata": {
        "colab": {
          "base_uri": "https://localhost:8080/",
          "height": 531
        },
        "id": "QGuCopzt0r41",
        "outputId": "754a6b4b-f76e-475b-b920-43c82a965ba1"
      },
      "outputs": [
        {
          "data": {
            "image/png": "[encoded data removed]",
            "text/plain": [
              "<Figure size 432x288 with 1 Axes>"
            ]
          },
          "metadata": {
            "needs_background": "light"
          },
          "output_type": "display_data"
        },
        {
          "data": {
            "text/plain": [
              "[<matplotlib.lines.Line2D at 0x7f4fec2c7550>]"
            ]
          },
          "execution_count": 18,
          "metadata": {},
          "output_type": "execute_result"
        },
        {
          "data": {
            "image/png": "[encoded data removed]",
            "text/plain": [
              "<Figure size 432x288 with 1 Axes>"
            ]
          },
          "metadata": {
            "needs_background": "light"
          },
          "output_type": "display_data"
        }
      ],
      "source": [
        "#網路購買轉換率 --> triangular 分配，模擬5000次\n",
        "\n",
        "for k in range(K):\n",
        "  for s in range(S):\n",
        "    internet_conversion_rate[k,s] = np.random.triangular(0.005, 0.0191, 0.045)\n",
        "    shop_conversion_rate[k,s] = np.random.triangular(0.005, 0.0191, 0.045)\n",
        "\n",
        "#internet_conversion_rate畫圖\n",
        "hist,bin_edges = np.histogram(internet_conversion_rate,bins=200)\n",
        "plt.bar(bin_edges[1:],hist/sum(hist),color='#5B9BD5')\n",
        "plt.show() \n",
        "\n",
        "cdf = np.cumsum(hist/sum(hist))\n",
        "plt.plot(bin_edges[1:],cdf,'-*',color='#ED7D31')\n",
        "\n"
      ]
    },
    {
      "cell_type": "code",
      "execution_count": 19,
      "metadata": {
        "colab": {
          "base_uri": "https://localhost:8080/",
          "height": 531
        },
        "id": "3swQkH3FFFrs",
        "outputId": "79d77a06-5304-4672-fb2f-4adcf8922390"
      },
      "outputs": [
        {
          "data": {
            "image/png": "[encoded data removed]",
            "text/plain": [
              "<Figure size 432x288 with 1 Axes>"
            ]
          },
          "metadata": {
            "needs_background": "light"
          },
          "output_type": "display_data"
        },
        {
          "data": {
            "text/plain": [
              "[<matplotlib.lines.Line2D at 0x7f4feb4f5b90>]"
            ]
          },
          "execution_count": 19,
          "metadata": {},
          "output_type": "execute_result"
        },
        {
          "data": {
            "image/png": "[encoded data removed]",
            "text/plain": [
              "<Figure size 432x288 with 1 Axes>"
            ]
          },
          "metadata": {
            "needs_background": "light"
          },
          "output_type": "display_data"
        }
      ],
      "source": [
        "#shop_conversion_rate畫圖\n",
        "hist,bin_edges = np.histogram(shop_conversion_rate,bins=200)\n",
        "plt.bar(bin_edges[1:],hist/sum(hist),color='#5B9BD5')\n",
        "plt.show() \n",
        "\n",
        "cdf = np.cumsum(hist/sum(hist))\n",
        "plt.plot(bin_edges[1:],cdf,'-*',color='#ED7D31')"
      ]
    },
    {
      "cell_type": "code",
      "execution_count": 20,
      "metadata": {
        "colab": {
          "base_uri": "https://localhost:8080/",
          "height": 531
        },
        "id": "NSqciBIn8w6f",
        "outputId": "b5e5cffc-6f4b-49dd-affe-dccdacfb33ff"
      },
      "outputs": [
        {
          "data": {
            "image/png": "[encoded data removed]",
            "text/plain": [
              "<Figure size 432x288 with 1 Axes>"
            ]
          },
          "metadata": {
            "needs_background": "light"
          },
          "output_type": "display_data"
        },
        {
          "data": {
            "text/plain": [
              "[<matplotlib.lines.Line2D at 0x7f4feb884890>]"
            ]
          },
          "execution_count": 20,
          "metadata": {},
          "output_type": "execute_result"
        },
        {
          "data": {
            "image/png": "[encoded data removed]",
            "text/plain": [
              "<Figure size 432x288 with 1 Axes>"
            ]
          },
          "metadata": {
            "needs_background": "light"
          },
          "output_type": "display_data"
        }
      ],
      "source": [
        "#實體購買轉換率 --> triangular 分配，模擬5000次\n",
        "shop_conversion_rate = np.random.triangular(0.005, 0.0191, 0.045, 5000)\n",
        "hist,bin_edges = np.histogram(internet_conversion_rate,bins=200)\n",
        "plt.bar(bin_edges[1:],hist/sum(hist),color='#5B9BD5')\n",
        "plt.show() \n",
        "cdf = np.cumsum(hist/sum(hist))\n",
        "plt.plot(bin_edges[1:],cdf,'-*',color='#ED7D31')"
      ]
    },
    {
      "cell_type": "markdown",
      "metadata": {
        "id": "otWynGMlGrOM"
      },
      "source": [
        "2.每單位購買人數消費均價"
      ]
    },
    {
      "cell_type": "code",
      "execution_count": 21,
      "metadata": {
        "id": "AsO_kHcbGxnm"
      },
      "outputs": [],
      "source": [
        "#設定空清單\n",
        "\n",
        "#大寫\n",
        "K = 5 #共有5個關鍵字\n",
        "S = 5000 #總共做5000次模擬\n",
        "\n",
        "#設定各關鍵字基礎價格\n",
        "internet_avg_price = [497.12, 150, 497.12, 572.7592593, 25572.75926]\n",
        "shop_avg_price = [596.544, 600, 596.544, 687.3111111 ,20458.20741]\n",
        "\n",
        "#每個關鍵字都有自己的購買均價，各自模擬5000次的表\n",
        "internet_price = np.zeros((K,S)) \n",
        "shop_price = np.zeros((K,S))"
      ]
    },
    {
      "cell_type": "code",
      "execution_count": 22,
      "metadata": {
        "id": "ZppkOnOMHGUo"
      },
      "outputs": [],
      "source": [
        "#填入價格\n",
        "for k in range(K):\n",
        "  for s in range(S):\n",
        "      internet_price[k,s] = np.random.normal(internet_avg_price[k], 5)\n",
        "      shop_price[k,s] = np.random.normal(shop_avg_price[k], 5)"
      ]
    },
    {
      "cell_type": "markdown",
      "metadata": {
        "id": "VwwKDiCNF67Q"
      },
      "source": [
        "3. 網路購買人數比率模擬"
      ]
    },
    {
      "cell_type": "code",
      "execution_count": 23,
      "metadata": {
        "id": "gD_Ues_YGCcC"
      },
      "outputs": [],
      "source": [
        "#設定空清單\n",
        "\n",
        "#大寫\n",
        "K = 5 #共有5個關鍵字\n",
        "S = 5000 #總共做5000次模擬\n",
        "\n",
        "#每個關鍵字都有自己的轉換率，各自模擬5000次的表\n",
        "internet_prob = np.zeros((K,S)) \n",
        "shop_prob = np.zeros((K,S))"
      ]
    },
    {
      "cell_type": "code",
      "execution_count": 24,
      "metadata": {
        "colab": {
          "base_uri": "https://localhost:8080/"
        },
        "id": "5TsLl9S0F5Yw",
        "outputId": "8b6c87ea-e64b-4225-b23e-5fff561ef4d9"
      },
      "outputs": [
        {
          "name": "stdout",
          "output_type": "stream",
          "text": [
            "[[0.61154818 0.98617017 0.37876859 ... 0.994268   0.51996046 0.08412889]\n",
            " [0.7394142  0.94079898 0.62529737 ... 0.20727946 0.71132337 0.65566848]\n",
            " [0.22857784 0.02418573 0.55313184 ... 0.54048626 0.91896962 0.38719156]\n",
            " [0.98949181 0.41116416 0.50459832 ... 0.38708432 0.89109384 0.36844767]\n",
            " [0.25945517 0.63515575 0.48444719 ... 0.50429712 0.95747773 0.58497631]]\n",
            "[[0.38845182 0.01382983 0.62123141 ... 0.005732   0.48003954 0.91587111]\n",
            " [0.2605858  0.05920102 0.37470263 ... 0.79272054 0.28867663 0.34433152]\n",
            " [0.77142216 0.97581427 0.44686816 ... 0.45951374 0.08103038 0.61280844]\n",
            " [0.01050819 0.58883584 0.49540168 ... 0.61291568 0.10890616 0.63155233]\n",
            " [0.74054483 0.36484425 0.51555281 ... 0.49570288 0.04252227 0.41502369]]\n"
          ]
        }
      ],
      "source": [
        "# 輸入0~1亂數當作機率\n",
        "\n",
        "for k in range(K):\n",
        "  for s in range(S):\n",
        "    internet_prob[k,s] = random.uniform(0, 1)\n",
        "    shop_prob[k,s] = 1 - internet_prob[k,s]\n",
        "\n",
        "print(internet_prob)\n",
        "print(shop_prob)"
      ]
    },
    {
      "cell_type": "markdown",
      "metadata": {
        "id": "GMx6YkN9Ic-q"
      },
      "source": [
        "計算RPC：將全部表格組合而成"
      ]
    },
    {
      "cell_type": "code",
      "execution_count": 25,
      "metadata": {
        "id": "y2FKwBD1IgIN"
      },
      "outputs": [],
      "source": [
        "#設定空表格\n",
        "internet_RPC = np.zeros((K,S)) \n",
        "shop_RPC = np.zeros((K,S)) \n",
        "total_RPC = np.zeros((K,S))\n",
        " \n",
        "mean_RPC= np.zeros(K)\n"
      ]
    },
    {
      "cell_type": "code",
      "execution_count": 26,
      "metadata": {
        "colab": {
          "base_uri": "https://localhost:8080/"
        },
        "id": "9xFzPbpWIs4o",
        "outputId": "1f51723b-ba22-44ef-b664-37ca49f48fd6"
      },
      "outputs": [
        {
          "data": {
            "text/plain": [
              "array([[  14.52785977,   19.98624713,   32.40491132, ...,   38.09109471,\n",
              "          17.18030211,   32.98831443],\n",
              "       [  12.20745315,   11.21764677,   19.45689311, ...,   23.1182937 ,\n",
              "           7.74615805,   16.4819027 ],\n",
              "       [  17.59599478,   18.12703173,   29.22392128, ...,   30.48383724,\n",
              "          16.61915572,   22.03087397],\n",
              "       [  32.41968053,   18.56037893,   31.49737031, ...,   41.17281428,\n",
              "          16.07666853,   20.70649308],\n",
              "       [ 897.95048815,  760.57494526, 1311.52688523, ..., 1091.193776  ,\n",
              "         737.69247875, 1215.64058945]])"
            ]
          },
          "execution_count": 26,
          "metadata": {},
          "output_type": "execute_result"
        }
      ],
      "source": [
        "internet_RPC = np.multiply(internet_conversion_rate, internet_price, internet_prob)\n",
        "shop_RPC = np.multiply(shop_conversion_rate, shop_price, shop_prob)\n",
        "\n",
        "for k in range(K):\n",
        "  for s in range(S):\n",
        "    total_RPC[k,s] = internet_RPC[k,s] + shop_prob[k,s]\n",
        "\n",
        "total_RPC"
      ]
    },
    {
      "cell_type": "code",
      "execution_count": 27,
      "metadata": {
        "colab": {
          "base_uri": "https://localhost:8080/"
        },
        "id": "3-_zLQWoNuRf",
        "outputId": "a8acc9a4-004c-4804-bc44-7782712f93b0"
      },
      "outputs": [
        {
          "name": "stdout",
          "output_type": "stream",
          "text": [
            "[  32.98831443   16.4819027    22.03087397   20.70649308 1215.64058945]\n"
          ]
        }
      ],
      "source": [
        "for k in range(K):\n",
        "  for s in range(S):\n",
        "    mean_RPC[k]= np.mean(total_RPC[k,s])\n",
        "\n",
        "print(mean_RPC)"
      ]
    },
    {
      "cell_type": "markdown",
      "metadata": {
        "id": "1Fbyde_nmnTo"
      },
      "source": [
        "# CPC & CTR優化\n",
        "\n",
        "\n"
      ]
    },
    {
      "cell_type": "code",
      "execution_count": 40,
      "metadata": {
        "colab": {
          "base_uri": "https://localhost:8080/",
          "height": 299
        },
        "id": "mXCeSvfwmubv",
        "outputId": "ca0d1156-6d59-446a-acbf-88ea3d45d360"
      },
      "outputs": [
        {
          "data": {
            "text/plain": [
              "Text(0, 0.5, 'CPC')"
            ]
          },
          "execution_count": 40,
          "metadata": {},
          "output_type": "execute_result"
        },
        {
          "data": {
            "image/png": "[encoded data removed]",
            "text/plain": [
              "<Figure size 432x288 with 1 Axes>"
            ]
          },
          "metadata": {
            "needs_background": "light"
          },
          "output_type": "display_data"
        }
      ],
      "source": [
        "def CPC1(x):\n",
        "  y = 4.57*math.pow(2.71818,-0.26*x)\n",
        "  return y\n",
        "\n",
        "def CPC2(x):\n",
        "  y = 5.06*math.pow(2.71818,-0.29*x)\n",
        "  return y\n",
        "\n",
        "def CPC3(x):\n",
        "  y = 4.57*math.pow(2.71818,-0.29*x)\n",
        "  return y\n",
        "\n",
        "def CPC4(x):\n",
        "  y = 5.06*math.pow(2.71818,-0.26*x)\n",
        "  return y\n",
        "\n",
        "X = np.linspace(0,4,40)\n",
        "y1 = [CPC1(x)for x in X]\n",
        "y2 = [CPC2(x)for x in X]\n",
        "y3 = [CPC3(x)for x in X]\n",
        "y4 = [CPC4(x)for x in X]\n",
        "plt.plot(X,y1,label='CPC1',color = 'r')\n",
        "plt.plot(X,y2,label='CPC2',color = 'b')\n",
        "plt.plot(X,y3,label='CPC3',color = 'g')\n",
        "plt.plot(X,y4,label='CPC4',color = 'y')\n",
        "\n",
        "plt.legend(loc='best')\n",
        "plt.title(\"CPC\")\n",
        "plt.xlabel(\"\")\n",
        "plt.ylabel(\"CPC\")"
      ]
    },
    {
      "cell_type": "code",
      "execution_count": 41,
      "metadata": {
        "colab": {
          "base_uri": "https://localhost:8080/",
          "height": 299
        },
        "id": "iuUzEBKYmvKL",
        "outputId": "9e3f8132-6f72-4870-ae49-989addcb56c4"
      },
      "outputs": [
        {
          "data": {
            "text/plain": [
              "Text(0, 0.5, 'CTR')"
            ]
          },
          "execution_count": 41,
          "metadata": {},
          "output_type": "execute_result"
        },
        {
          "data": {
            "image/png": "[encoded data removed]",
            "text/plain": [
              "<Figure size 432x288 with 1 Axes>"
            ]
          },
          "metadata": {
            "needs_background": "light"
          },
          "output_type": "display_data"
        }
      ],
      "source": [
        "def CTR1(x):\n",
        "  y = 0.27*math.pow(2.71818,-0.4*x)\n",
        "  return y\n",
        "\n",
        "def CTR2(x):\n",
        "  y = 0.29*math.pow(2.71818,-0.44*x)\n",
        "  return y\n",
        "\n",
        "def CTR3(x):\n",
        "  y = 0.27*math.pow(2.71818,-0.44*x)\n",
        "  return y\n",
        "\n",
        "def CTR4(x):\n",
        "  y = 0.29*math.pow(2.71818,-0.4*x)\n",
        "  return y\n",
        "\n",
        "X = np.linspace(0,6,60)\n",
        "y1 = [CTR1(x)for x in X]\n",
        "y2 = [CTR2(x)for x in X]\n",
        "y3 = [CTR3(x)for x in X]\n",
        "y4 = [CTR4(x)for x in X]\n",
        "plt.plot(X,y1,label='CTR1',color = 'r')\n",
        "plt.plot(X,y2,label='CTR2',color = 'b')\n",
        "plt.plot(X,y3,label='CTR3',color = 'g')\n",
        "plt.plot(X,y4,label='CTR4',color = 'y')\n",
        "\n",
        "plt.legend(loc='best')\n",
        "plt.title(\"CTR\")\n",
        "plt.xlabel(\"\")\n",
        "plt.ylabel(\"CTR\")"
      ]
    },
    {
      "cell_type": "markdown",
      "metadata": {
        "id": "7qNVc1OGwUIE"
      },
      "source": [
        "# Max click model(With all keywords & uncertain IMP)"
      ]
    },
    {
      "cell_type": "code",
      "execution_count": 32,
      "metadata": {},
      "outputs": [
        {
          "ename": "IndentationError",
          "evalue": "expected an indented block after function definition on line 1 (1175112502.py, line 7)",
          "output_type": "error",
          "traceback": [
            "\u001b[1;36m  Cell \u001b[1;32mIn[32], line 7\u001b[1;36m\u001b[0m\n\u001b[1;33m    def Mapping_Google_trends_date(\u001b[0m\n\u001b[1;37m    ^\u001b[0m\n\u001b[1;31mIndentationError\u001b[0m\u001b[1;31m:\u001b[0m expected an indented block after function definition on line 1\n"
          ]
        }
      ],
      "source": [
        "def Create_Google_trends_hunter(\n",
        "    geo: str = \"zh-TW\", # The geo lozation you want to search.\n",
        "    \n",
        ")-> TrendReq:\n",
        "    \n",
        "    return 0\n",
        "\n",
        "\n",
        "def get_Converted_WholeTime_str(whole_type: str, whole_period: Union[int, str])-> str:\n",
        "    \"\"\"\n",
        "    使用者選擇某個全時段，如全年、全月等等，則用到此轉換。\n",
        "\n",
        "    Args:\n",
        "        whole_type (str): 類別，如years or months\n",
        "        whole_period (Union[int, str]): 時間區間，年如2023、月如2022-9\n",
        "\n",
        "    Returns:\n",
        "        str: Valid date string in Google Trends\n",
        "    \"\"\"    \n",
        "\n",
        "    try:\n",
        "        if whole_type == 'years':\n",
        "            start_date = f\"{whole_period}-01-01\"\n",
        "            end_date = f\"{whole_period}-12-31\"\n",
        "            return f\"{start_date} {end_date}\"\n",
        "        elif whole_type == 'months':\n",
        "            try:\n",
        "                year, month = map(int, whole_period.split('-'))\n",
        "                start_date = f\"{year}-{month:02d}-01\"\n",
        "                last_day = date(year, month, 1).replace(day=1, month=month % 12 + 1) - timedelta(days=1)\n",
        "                end_date = f\"{year}-{month:02d}-{last_day.day:02d}\"\n",
        "                return f\"{start_date} {end_date}\"\n",
        "            except ValueError as e:\n",
        "                print(f\"Error in whole_period, the error is:{e}.\")\n",
        "        else:\n",
        "            return \"Invalid input in get_Converted_WholeTime_str. Please enter a valid one.\"\n",
        "\n",
        "    except Exception as e:\n",
        "        print(f\"Error in get_Converted_WholeTime_str, the error is:{e}.\")\n",
        "\n",
        "\n",
        "def get_Converted_fromToday_str(fromToday_period_type: str, fromToday_period_num: Union[int, str])-> str:\n",
        "    \"\"\"\n",
        "    使用者選擇某個全時段，如全年、全月等等，則用到此轉換。\n",
        "\n",
        "    Args:\n",
        "        whole_type (str): 類別，如年 or 月\n",
        "        whole_period (Union[int, str]): 時間區間，年如2023、月如2022-9\n",
        "\n",
        "    Returns:\n",
        "        str: Valid date string in Google Trends\n",
        "    \"\"\"    \n",
        "\n",
        "    try:\n",
        "        if whole_type == '年':\n",
        "            start_date = f\"{whole_period}-01-01\"\n",
        "            end_date = f\"{whole_period}-12-31\"\n",
        "            return f\"{start_date} {end_date}\"\n",
        "        elif whole_type == '月':\n",
        "            try:\n",
        "                year, month = map(int, whole_period.split('-'))\n",
        "                start_date = f\"{year}-{month:02d}-01\"\n",
        "                last_day = date(year, month, 1).replace(day=1, month=month % 12 + 1) - timedelta(days=1)\n",
        "                end_date = f\"{year}-{month:02d}-{last_day.day:02d}\"\n",
        "                return f\"{start_date} {end_date}\"\n",
        "            except ValueError as e:\n",
        "                print(f\"Error in whole_period, the error is:{e}.\")\n",
        "        else:\n",
        "            return \"Invalid input in get_Converted_WholeTime_str. Please enter a valid one.\"\n",
        "\n",
        "    except Exception as e:\n",
        "        print(f\"Error in get_Converted_WholeTime_str, the error is:{e}.\")\n",
        "\n",
        "\n",
        "\n",
        "\n",
        "def Mapping_Google_trends_date(\n",
        "    selectTime_type: int,\n",
        "    spec_startDateTime: Optional[str] = '2023-08-18',\n",
        "    spec_endDateTime: Optional[str] = '2023-09-18',\n",
        "    fromToday_period_type: Optional[str] = 'month',\n",
        "    fromToday_period_num: Optional[int] = 1,\n",
        "    whole_type: Optional[str] = 'year',\n",
        "    whole_period: Optional[int] = 2023\n",
        ")-> str:\n",
        "    \"\"\"\n",
        "    分為四種：\n",
        "    - 所有時間 -> 0\n",
        "    - 全年 -> 1\n",
        "    - 從今至之前xx -> 2\n",
        "    - 開始時間~結束時間 -> 3\n",
        "    \n",
        "    \n",
        "    \"\"\"\n",
        "\n",
        "    match selectTime_type:\n",
        "        case 0: # 所有時間\n",
        "            return 'all'\n",
        "        case 1: # 全xx\n",
        "            converted_date = get_Converted_WholeTime_str(whole_type, whole_period)\n",
        "            return converted_date\n",
        "        case 2: # 從今至之前xx\n",
        "            \n",
        "\n",
        "            \n",
        "\n",
        "\n",
        "    # if ( == 0): # Users choose the specific datetimes\n",
        "        \n",
        "    # return \"ok\" \n",
        "        \n",
        "\n",
        "\n",
        "def GET_Google_trends_data(\n",
        "    timeframe: dict, # The time spread you want to search.\n",
        "    kw_list: list = [], # Max 5 keywords and MIN 1 Keyword you can search.\n",
        "    categorie_num: int = 0, # We set the default cat is 0, which means find the trends in ALL categories. You can find your own categories you want in this url: https://github.com/pat310/google-trends-api/wiki/Google-Trends-Categories\n",
        "    geo: str = 'TW', # The geo lozation you want to search. you can change any geos you want. e.g. US, CN....You can find your own two-num geo numbers in this url: https://www.webdesigntooler.com/internet-country-code-table \n",
        "    specTime_or_not: bool,\n",
        ")-> json:\n",
        "    "
      ]
    },
    {
      "cell_type": "code",
      "execution_count": 68,
      "metadata": {},
      "outputs": [
        {
          "data": {
            "text/plain": [
              "'today 4-y'"
            ]
          },
          "execution_count": 68,
          "metadata": {},
          "output_type": "execute_result"
        }
      ],
      "source": [
        "\n",
        "def get_Converted_fromToday_str(fromToday_period_type: str, fromToday_period_num: Union[int, str])-> str:\n",
        "    \"\"\"\n",
        "    使用者選擇從現在開始到某個時間區間之間的轉換器。\n",
        "\n",
        "    Args:\n",
        "        fromToday_period_type (str): 類別，如年 or 月\n",
        "        fromToday_period_num (Union[int, str]): 時間區間，年如3、月如5、日如9、小時如3\n",
        "\n",
        "    Returns:\n",
        "        str: Valid date string in Google Trends\n",
        "    \"\"\"    \n",
        "\n",
        "    try:\n",
        "        match fromToday_period_type:\n",
        "            case 'hours':\n",
        "                start_str = f\"now\"\n",
        "                end_str = f\"{fromToday_period_num}-H\"\n",
        "                return f\"{start_str} {end_str}\"\n",
        "            case 'days':\n",
        "                start_str = f\"now\"\n",
        "                end_str = f\"{fromToday_period_num}-d\"\n",
        "                return f\"{start_str} {end_str}\"\n",
        "            case 'months':\n",
        "                start_str = f\"today\"\n",
        "                end_str = f\"{fromToday_period_num}-m\"\n",
        "                return f\"{start_str} {end_str}\"\n",
        "            case 'years':\n",
        "                start_str = f\"today\"\n",
        "                end_str = f\"{fromToday_period_num}-y\"\n",
        "                return f\"{start_str} {end_str}\"\n",
        "            case _:\n",
        "                return \"Invalid input in fromToday_period_type. Please enter a valid one.\"\n",
        "        \n",
        "    except ValueError as e:\n",
        "        print(f\"Error in whole_period, the error is:{e}.\")\n",
        "\n",
        "    except Exception as e:\n",
        "        print(f\"Error in get_Converted_WholeTime_str, the error is:{e}.\")\n",
        "\n",
        "\n",
        "get_Converted_fromToday_str('years', 4)"
      ]
    },
    {
      "cell_type": "code",
      "execution_count": 73,
      "metadata": {},
      "outputs": [
        {
          "name": "stderr",
          "output_type": "stream",
          "text": [
            "c:\\SideProjects\\SEO_Optimizations\\venv\\Lib\\site-packages\\pytrends\\request.py:247: FutureWarning: Returning a DataFrame from Series.apply when the supplied function returns a Series is deprecated and will be removed in a future version.\n",
            "  result_df = df['value'].apply(lambda x: pd.Series(\n"
          ]
        },
        {
          "name": "stdout",
          "output_type": "stream",
          "text": [
            "[{\"date\": \"2023-08-17T00:00:00.000\", \"cnn\": 0, \"bbc\": 30, \"isPartial\": false}, {\"date\": \"2023-08-18T00:00:00.000\", \"cnn\": 18, \"bbc\": 30, \"isPartial\": false}, {\"date\": \"2023-08-19T00:00:00.000\", \"cnn\": 0, \"bbc\": 0, \"isPartial\": false}, {\"date\": \"2023-08-20T00:00:00.000\", \"cnn\": 0, \"bbc\": 0, \"isPartial\": false}, {\"date\": \"2023-08-21T00:00:00.000\", \"cnn\": 0, \"bbc\": 0, \"isPartial\": false}, {\"date\": \"2023-08-22T00:00:00.000\", \"cnn\": 0, \"bbc\": 0, \"isPartial\": false}, {\"date\": \"2023-08-23T00:00:00.000\", \"cnn\": 0, \"bbc\": 100, \"isPartial\": false}, {\"date\": \"2023-08-24T00:00:00.000\", \"cnn\": 0, \"bbc\": 30, \"isPartial\": false}, {\"date\": \"2023-08-25T00:00:00.000\", \"cnn\": 0, \"bbc\": 20, \"isPartial\": false}, {\"date\": \"2023-08-26T00:00:00.000\", \"cnn\": 0, \"bbc\": 0, \"isPartial\": false}, {\"date\": \"2023-08-27T00:00:00.000\", \"cnn\": 18, \"bbc\": 0, \"isPartial\": false}, {\"date\": \"2023-08-28T00:00:00.000\", \"cnn\": 0, \"bbc\": 24, \"isPartial\": false}, {\"date\": \"2023-08-29T00:00:00.000\", \"cnn\": 0, \"bbc\": 20, \"isPartial\": false}, {\"date\": \"2023-08-30T00:00:00.000\", \"cnn\": 0, \"bbc\": 19, \"isPartial\": false}, {\"date\": \"2023-08-31T00:00:00.000\", \"cnn\": 0, \"bbc\": 30, \"isPartial\": false}, {\"date\": \"2023-09-01T00:00:00.000\", \"cnn\": 14, \"bbc\": 23, \"isPartial\": false}, {\"date\": \"2023-09-02T00:00:00.000\", \"cnn\": 0, \"bbc\": 30, \"isPartial\": false}, {\"date\": \"2023-09-03T00:00:00.000\", \"cnn\": 0, \"bbc\": 16, \"isPartial\": false}, {\"date\": \"2023-09-04T00:00:00.000\", \"cnn\": 0, \"bbc\": 35, \"isPartial\": false}, {\"date\": \"2023-09-05T00:00:00.000\", \"cnn\": 29, \"bbc\": 0, \"isPartial\": false}, {\"date\": \"2023-09-06T00:00:00.000\", \"cnn\": 0, \"bbc\": 33, \"isPartial\": false}, {\"date\": \"2023-09-07T00:00:00.000\", \"cnn\": 0, \"bbc\": 24, \"isPartial\": false}, {\"date\": \"2023-09-08T00:00:00.000\", \"cnn\": 0, \"bbc\": 0, \"isPartial\": false}, {\"date\": \"2023-09-09T00:00:00.000\", \"cnn\": 0, \"bbc\": 0, \"isPartial\": false}, {\"date\": \"2023-09-10T00:00:00.000\", \"cnn\": 0, \"bbc\": 28, \"isPartial\": false}, {\"date\": \"2023-09-11T00:00:00.000\", \"cnn\": 0, \"bbc\": 0, \"isPartial\": false}, {\"date\": \"2023-09-12T00:00:00.000\", \"cnn\": 22, \"bbc\": 0, \"isPartial\": false}, {\"date\": \"2023-09-13T00:00:00.000\", \"cnn\": 30, \"bbc\": 18, \"isPartial\": false}]\n"
          ]
        },
        {
          "name": "stderr",
          "output_type": "stream",
          "text": [
            "c:\\SideProjects\\SEO_Optimizations\\venv\\Lib\\site-packages\\pytrends\\request.py:247: FutureWarning: Returning a DataFrame from Series.apply when the supplied function returns a Series is deprecated and will be removed in a future version.\n",
            "  result_df = df['value'].apply(lambda x: pd.Series(\n"
          ]
        }
      ],
      "source": [
        "pytrend = TrendReq(hl='en-US', tz=360)\n",
        "pytrend.build_payload(kw_list=['cnn', 'bbc'], cat=0, timeframe='today 1-m', geo='BT', gprop='')\n",
        "pytrend.interest_over_time()\n",
        "preload = json.loads(pytrend.interest_over_time().to_json(orient='table'))['data']\n",
        "print(json.dumps(preload, ensure_ascii=False))"
      ]
    },
    {
      "cell_type": "code",
      "execution_count": 26,
      "metadata": {},
      "outputs": [
        {
          "name": "stderr",
          "output_type": "stream",
          "text": [
            "c:\\SideProjects\\SEO_Optimizations\\venv\\Lib\\site-packages\\pytrends\\request.py:247: FutureWarning: Returning a DataFrame from Series.apply when the supplied function returns a Series is deprecated and will be removed in a future version.\n",
            "  result_df = df['value'].apply(lambda x: pd.Series(\n"
          ]
        },
        {
          "name": "stdout",
          "output_type": "stream",
          "text": [
            "[{\"date\": \"2023-08-17T00:00:00.000\", \"cnn\": 75, \"bbc\": 34, \"isPartial\": false}, {\"date\": \"2023-08-18T00:00:00.000\", \"cnn\": 78, \"bbc\": 36, \"isPartial\": false}, {\"date\": \"2023-08-19T00:00:00.000\", \"cnn\": 60, \"bbc\": 38, \"isPartial\": false}, {\"date\": \"2023-08-20T00:00:00.000\", \"cnn\": 73, \"bbc\": 37, \"isPartial\": false}, {\"date\": \"2023-08-21T00:00:00.000\", \"cnn\": 89, \"bbc\": 38, \"isPartial\": false}, {\"date\": \"2023-08-22T00:00:00.000\", \"cnn\": 72, \"bbc\": 34, \"isPartial\": false}, {\"date\": \"2023-08-23T00:00:00.000\", \"cnn\": 89, \"bbc\": 39, \"isPartial\": false}, {\"date\": \"2023-08-24T00:00:00.000\", \"cnn\": 100, \"bbc\": 35, \"isPartial\": false}, {\"date\": \"2023-08-25T00:00:00.000\", \"cnn\": 93, \"bbc\": 43, \"isPartial\": false}, {\"date\": \"2023-08-26T00:00:00.000\", \"cnn\": 65, \"bbc\": 36, \"isPartial\": false}, {\"date\": \"2023-08-27T00:00:00.000\", \"cnn\": 68, \"bbc\": 40, \"isPartial\": false}, {\"date\": \"2023-08-28T00:00:00.000\", \"cnn\": 89, \"bbc\": 37, \"isPartial\": false}, {\"date\": \"2023-08-29T00:00:00.000\", \"cnn\": 85, \"bbc\": 32, \"isPartial\": false}, {\"date\": \"2023-08-30T00:00:00.000\", \"cnn\": 95, \"bbc\": 34, \"isPartial\": false}, {\"date\": \"2023-08-31T00:00:00.000\", \"cnn\": 75, \"bbc\": 35, \"isPartial\": false}, {\"date\": \"2023-09-01T00:00:00.000\", \"cnn\": 61, \"bbc\": 32, \"isPartial\": false}, {\"date\": \"2023-09-02T00:00:00.000\", \"cnn\": 58, \"bbc\": 34, \"isPartial\": false}, {\"date\": \"2023-09-03T00:00:00.000\", \"cnn\": 58, \"bbc\": 44, \"isPartial\": false}, {\"date\": \"2023-09-04T00:00:00.000\", \"cnn\": 60, \"bbc\": 31, \"isPartial\": false}, {\"date\": \"2023-09-05T00:00:00.000\", \"cnn\": 79, \"bbc\": 34, \"isPartial\": false}, {\"date\": \"2023-09-06T00:00:00.000\", \"cnn\": 75, \"bbc\": 33, \"isPartial\": false}, {\"date\": \"2023-09-07T00:00:00.000\", \"cnn\": 74, \"bbc\": 32, \"isPartial\": false}, {\"date\": \"2023-09-08T00:00:00.000\", \"cnn\": 70, \"bbc\": 30, \"isPartial\": false}, {\"date\": \"2023-09-09T00:00:00.000\", \"cnn\": 54, \"bbc\": 35, \"isPartial\": false}, {\"date\": \"2023-09-10T00:00:00.000\", \"cnn\": 59, \"bbc\": 36, \"isPartial\": false}, {\"date\": \"2023-09-11T00:00:00.000\", \"cnn\": 76, \"bbc\": 32, \"isPartial\": false}, {\"date\": \"2023-09-12T00:00:00.000\", \"cnn\": 73, \"bbc\": 34, \"isPartial\": false}, {\"date\": \"2023-09-13T00:00:00.000\", \"cnn\": 78, \"bbc\": 33, \"isPartial\": false}]\n"
          ]
        },
        {
          "name": "stderr",
          "output_type": "stream",
          "text": [
            "c:\\SideProjects\\SEO_Optimizations\\venv\\Lib\\site-packages\\pytrends\\request.py:247: FutureWarning: Returning a DataFrame from Series.apply when the supplied function returns a Series is deprecated and will be removed in a future version.\n",
            "  result_df = df['value'].apply(lambda x: pd.Series(\n"
          ]
        }
      ],
      "source": [
        "pytrend = TrendReq(hl='zh-TW', tz=360)\n",
        "pytrend.build_payload(kw_list=['cnn', 'bbc'], cat=0, timeframe='today 1-m', geo='US', gprop='')\n",
        "pytrend.interest_over_time()\n",
        "preload = json.loads(pytrend.interest_over_time().to_json(orient='table'))['data']\n",
        "print(json.dumps(preload, ensure_ascii=False))\n"
      ]
    },
    {
      "cell_type": "code",
      "execution_count": 42,
      "metadata": {
        "id": "cTw3HkcSwhG1"
      },
      "outputs": [],
      "source": [
        "K = 5\n",
        "R = 5\n",
        "total_budget = 5000\n",
        "\n",
        "search_max_click = np.zeros((K,S)) \n",
        "Max_click_available = np.zeros((K,S))\n",
        "CPC = np.zeros((K,S))\n",
        "CTR = np.zeros((K,S))"
      ]
    },
    {
      "cell_type": "code",
      "execution_count": 43,
      "metadata": {
        "colab": {
          "base_uri": "https://localhost:8080/"
        },
        "id": "NvSNJvqH3BMP",
        "outputId": "1ef40177-5ae8-4b8b-f5ce-8e202fd060dd"
      },
      "outputs": [
        {
          "data": {
            "text/plain": [
              "[470.00001000000003,\n",
              " 169.33877999999999,\n",
              " 1760.00001,\n",
              " 2000.0000100000002,\n",
              " 789.99999]"
            ]
          },
          "execution_count": 43,
          "metadata": {},
          "output_type": "execute_result"
        }
      ],
      "source": [
        "#設定資料\n",
        "daily_impression = [15.666667,5.644626,58.666667,66.666667,26.333333] # daily average\n",
        "impression = [15.666667*30, 5.644626*30, 58.666667*30, 66.666667*30, 26.333333*30] # monthly average\n",
        "cpc = [11.73999758,8.89955796,6.746349934,5.114100906,3.876767191,3.650002081,2.766900492,2.097461361,1.589990017,1.205299083,2.369996741,1.796586688,1.361910618,1.032402469,0.7826173341,9.859999683,7.474417101,5.666015497,4.295148528,3.255956657,7.330000379,5.556539751,4.212159947,3.19304679,2.420503479]\n",
        "ctr = [0.332,0.168,0.082,0.050,0.033,0.332,0.168,0.082,0.050,0.033,0.303,0.216,0.078,0.043,0.023,0.244,0.114,0.071,0.046,0.036,0.332,0.168,0.082,0.050,0.033]\n",
        "\n",
        "i=0\n",
        "for k in range(K):\n",
        "  for r in range(R):\n",
        "    Max_click_available[k,r] = impression[k] * ctr[i]\n",
        "    CPC[k,r] = cpc[i]\n",
        "    CTR[k,r] = cpc[i]\n",
        "    i = i+1\n",
        "\n",
        "impression\n",
        "    "
      ]
    },
    {
      "cell_type": "code",
      "execution_count": 44,
      "metadata": {
        "id": "X5Yfi3Rq6EhB"
      },
      "outputs": [],
      "source": [
        "m = GEKKO() # Initialize gekko\n",
        "m.options.SOLVER=1  # APOPT is an MINLP solver\n",
        "# optional solver settings with APOPT\n",
        "m.solver_options = ['minlp_maximum_iterations 500', \\\n",
        "           # minlp iterations with integer solution\n",
        "           'minlp_max_iter_with_int_sol 100', \\\n",
        "           # treat minlp as nlp\n",
        "           'minlp_as_nlp 0', \\\n",
        "           # nlp sub-problem max iterations\n",
        "           'nlp_maximum_iterations 50', \\\n",
        "           # 1 = depth first, 2 = breadth first\n",
        "           'minlp_branch_method 1', \\\n",
        "           # maximum deviation from whole number\n",
        "           'minlp_integer_tol 0.05', \\\n",
        "           # covergence tolerance\n",
        "           'minlp_gap_tol 0.01']"
      ]
    },
    {
      "cell_type": "code",
      "execution_count": 45,
      "metadata": {
        "id": "mFg57hZb63Bg"
      },
      "outputs": [],
      "source": [
        "# 設定X變數 --> budget\n",
        "x1_1 = m.Var(value=1,lb=0,ub=total_budget,integer=False)\n",
        "x1_2 = m.Var(value=1,lb=0,ub=total_budget,integer=False)\n",
        "x1_3 = m.Var(value=1,lb=0,ub=total_budget,integer=False)\n",
        "x1_4 = m.Var(value=1,lb=0,ub=total_budget,integer=False)\n",
        "x1_5 = m.Var(value=1,lb=0,ub=total_budget,integer=False)\n",
        "\n",
        "x2_1 = m.Var(value=1,lb=0,ub=total_budget,integer=False)\n",
        "x2_2 = m.Var(value=1,lb=0,ub=total_budget,integer=False)\n",
        "x2_3 = m.Var(value=1,lb=0,ub=total_budget,integer=False)\n",
        "x2_4 = m.Var(value=1,lb=0,ub=total_budget,integer=False)\n",
        "x2_5 = m.Var(value=1,lb=0,ub=total_budget,integer=False)\n",
        "\n",
        "x3_1 = m.Var(value=1,lb=0,ub=total_budget,integer=False)\n",
        "x3_2 = m.Var(value=1,lb=0,ub=total_budget,integer=False)\n",
        "x3_3 = m.Var(value=1,lb=0,ub=total_budget,integer=False)\n",
        "x3_4 = m.Var(value=1,lb=0,ub=total_budget,integer=False)\n",
        "x3_5 = m.Var(value=1,lb=0,ub=total_budget,integer=False)\n",
        "\n",
        "x4_1 = m.Var(value=1,lb=0,ub=total_budget,integer=False)\n",
        "x4_2 = m.Var(value=1,lb=0,ub=total_budget,integer=False)\n",
        "x4_3 = m.Var(value=1,lb=0,ub=total_budget,integer=False)\n",
        "x4_4 = m.Var(value=1,lb=0,ub=total_budget,integer=False)\n",
        "x4_5 = m.Var(value=1,lb=0,ub=total_budget,integer=False)\n",
        "\n",
        "x5_1 = m.Var(value=1,lb=0,ub=total_budget,integer=False)\n",
        "x5_2 = m.Var(value=1,lb=0,ub=total_budget,integer=False)\n",
        "x5_3 = m.Var(value=1,lb=0,ub=total_budget,integer=False)\n",
        "x5_4 = m.Var(value=1,lb=0,ub=total_budget,integer=False)\n",
        "x5_5 = m.Var(value=1,lb=0,ub=total_budget,integer=False)\n"
      ]
    },
    {
      "cell_type": "code",
      "execution_count": 46,
      "metadata": {
        "id": "pZjNfKZ08GGA"
      },
      "outputs": [],
      "source": [
        "#設定y變數 --> 選擇與否(binary)\n",
        "y1_1 = m.Var(value=0,lb=0,ub=1,integer=True)\n",
        "y1_2 = m.Var(value=1,lb=0,ub=1,integer=True)\n",
        "y1_3 = m.Var(value=1,lb=0,ub=1,integer=True)\n",
        "y1_4 = m.Var(value=1,lb=0,ub=1,integer=True)\n",
        "y1_5 = m.Var(value=1,lb=0,ub=1,integer=True)\n",
        "\n",
        "y2_1 = m.Var(value=0,lb=0,ub=1,integer=True)\n",
        "y2_2 = m.Var(value=1,lb=0,ub=1,integer=True)\n",
        "y2_3 = m.Var(value=1,lb=0,ub=1,integer=True)\n",
        "y2_4 = m.Var(value=1,lb=0,ub=1,integer=True)\n",
        "y2_5 = m.Var(value=1,lb=0,ub=1,integer=True)\n",
        "\n",
        "y3_1 = m.Var(value=0,lb=0,ub=1,integer=True)\n",
        "y3_2 = m.Var(value=1,lb=0,ub=1,integer=True)\n",
        "y3_3 = m.Var(value=1,lb=0,ub=1,integer=True)\n",
        "y3_4 = m.Var(value=1,lb=0,ub=1,integer=True)\n",
        "y3_5 = m.Var(value=1,lb=0,ub=1,integer=True)\n",
        "\n",
        "y4_1 = m.Var(value=0,lb=0,ub=1,integer=True)\n",
        "y4_2 = m.Var(value=1,lb=0,ub=1,integer=True)\n",
        "y4_3 = m.Var(value=1,lb=0,ub=1,integer=True)\n",
        "y4_4 = m.Var(value=1,lb=0,ub=1,integer=True)\n",
        "y4_5 = m.Var(value=1,lb=0,ub=1,integer=True)\n",
        "\n",
        "y5_1 = m.Var(value=0,lb=0,ub=1,integer=True)\n",
        "y5_2 = m.Var(value=1,lb=0,ub=1,integer=True)\n",
        "y5_3 = m.Var(value=1,lb=0,ub=1,integer=True)\n",
        "y5_4 = m.Var(value=1,lb=0,ub=1,integer=True)\n",
        "y5_5 = m.Var(value=1,lb=0,ub=1,integer=True)"
      ]
    },
    {
      "cell_type": "code",
      "execution_count": 47,
      "metadata": {
        "colab": {
          "base_uri": "https://localhost:8080/"
        },
        "id": "txgbxgvN8e1A",
        "outputId": "501ca48e-3844-4e5f-cae1-2f4381f86ae3"
      },
      "outputs": [
        {
          "data": {
            "text/plain": [
              "<gekko.gekko.EquationObj at 0x7f4feb8e82d0>"
            ]
          },
          "execution_count": 47,
          "metadata": {},
          "output_type": "execute_result"
        }
      ],
      "source": [
        "# Constraints\n",
        "#1.總共預算不能超過40000元\n",
        "m.Equation((x1_1+x1_2+x1_3+x1_4+x1_5)+ (x2_1+x2_2+x2_3+x2_4+x2_5) + (x3_1+x3_2+x3_3+x3_4+x3_5) + (x4_1+x4_2+x4_3+x4_4+x4_5) +(x5_1+x5_2+x5_3+x5_4+x5_5) <= total_budget)\n",
        "\n",
        "#2.一個關鍵字只能選一個rank\n",
        "m.Equation((y1_1+y1_2+y1_3+y1_4+y1_5) == 1)\n",
        "m.Equation((y2_1+y2_2+y2_3+y2_4+y2_5) == 1)\n",
        "m.Equation((y3_1+y3_2+y3_3+y3_4+y3_5) == 1)\n",
        "m.Equation((y4_1+y4_2+y4_3+y4_4+y4_5) == 1)\n",
        "m.Equation((y5_1+y5_2+y5_3+y5_4+y5_5) == 1)\n",
        "\n",
        "#3.所有關鍵字要小於search_max_click\\\n",
        "#關鍵字：茶行\n",
        "m.Equation(x1_1*y1_1 <= CPC[0,0]*Max_click_available[0,0])\n",
        "m.Equation(x1_2*y1_2 <= CPC[0,1]*Max_click_available[0,1])\n",
        "m.Equation(x1_3*y1_3 <= CPC[0,2]*Max_click_available[0,2])\n",
        "m.Equation(x1_4*y1_4 <= CPC[0,3]*Max_click_available[0,3])\n",
        "m.Equation(x1_5*y1_5 <= CPC[0,4]*Max_click_available[0,4])\n",
        "\n",
        "#關鍵字：鐵觀音\n",
        "m.Equation(x2_1*y2_1 <= CPC[1,0]*Max_click_available[1,0])\n",
        "m.Equation(x2_2*y2_2 <= CPC[1,1]*Max_click_available[1,1])\n",
        "m.Equation(x2_3*y2_3 <= CPC[1,2]*Max_click_available[1,2])\n",
        "m.Equation(x2_4*y2_4 <= CPC[1,3]*Max_click_available[1,3])\n",
        "m.Equation(x2_5*y2_5 <= CPC[1,4]*Max_click_available[1,4])\n",
        "\n",
        "#關鍵字：木柵\n",
        "m.Equation(x3_1*y3_1 <= CPC[2,0]*Max_click_available[2,0])\n",
        "m.Equation(x3_2*y3_2 <= CPC[2,1]*Max_click_available[2,1])\n",
        "m.Equation(x3_3*y3_3 <= CPC[2,2]*Max_click_available[2,2])\n",
        "m.Equation(x3_4*y3_4 <= CPC[2,3]*Max_click_available[2,3])\n",
        "m.Equation(x3_5*y3_5 <= CPC[2,4]*Max_click_available[2,4])\n",
        "\n",
        "#關鍵字：茶葉\n",
        "m.Equation(x4_1*y4_1 <= CPC[3,0]*Max_click_available[3,0])\n",
        "m.Equation(x4_2*y4_2 <= CPC[3,1]*Max_click_available[3,1])\n",
        "m.Equation(x4_3*y4_3 <= CPC[3,2]*Max_click_available[3,2])\n",
        "m.Equation(x4_4*y4_4 <= CPC[3,3]*Max_click_available[3,3])\n",
        "m.Equation(x4_5*y4_5 <= CPC[3,4]*Max_click_available[3,4])\n",
        "\n",
        "#關鍵字：送禮\n",
        "m.Equation(x5_1*y5_1 <= CPC[4,0]*Max_click_available[4,0])\n",
        "m.Equation(x5_2*y5_2 <= CPC[4,1]*Max_click_available[4,1])\n",
        "m.Equation(x5_3*y5_3 <= CPC[4,2]*Max_click_available[4,2])\n",
        "m.Equation(x5_4*y5_4 <= CPC[4,3]*Max_click_available[4,3])\n",
        "m.Equation(x5_5*y5_5 <= CPC[4,4]*Max_click_available[4,4])"
      ]
    },
    {
      "cell_type": "code",
      "execution_count": 48,
      "metadata": {
        "id": "cidyaSIr_aM_"
      },
      "outputs": [],
      "source": [
        "# Objective\n",
        "#拆解計算\n",
        "R1 = (x1_1*y1_1)/CPC[0,0] + (x1_2*y1_2)/CPC[0,1] + (x1_3*y1_3)/CPC[0,2] + (x1_4*y1_4)/CPC[0,3] + (x1_5*y1_5)/CPC[0,4]\n",
        "R2 = (x2_1*y2_1)/CPC[1,0] + (x2_2*y2_2)/CPC[1,1] + (x2_3*y2_3)/CPC[1,2] + (x2_4*y2_4)/CPC[1,3] + (x2_5*y2_5)/CPC[1,4]\n",
        "R3 = (x3_1*y3_1)/CPC[2,0] + (x3_2*y3_2)/CPC[2,1] + (x3_3*y3_3)/CPC[2,2] + (x3_4*y3_4)/CPC[2,3] + (x3_5*y3_5)/CPC[2,4]\n",
        "R4 = (x4_1*y4_1)/CPC[3,0] + (x4_2*y4_2)/CPC[3,1] + (x4_3*y4_3)/CPC[3,2] + (x4_4*y4_4)/CPC[3,3] + (x4_5*y4_5)/CPC[3,4]\n",
        "R5 = (x5_1*y5_1)/CPC[4,0] + (x5_2*y5_2)/CPC[4,1] + (x5_3*y5_3)/CPC[4,2] + (x5_4*y5_4)/CPC[4,3] + (x5_5*y5_5)/CPC[4,4]\n",
        "\n",
        "result = -(R1+R2+R3+R4+R5)"
      ]
    },
    {
      "cell_type": "code",
      "execution_count": 49,
      "metadata": {
        "colab": {
          "base_uri": "https://localhost:8080/"
        },
        "id": "ioidXblwAvA_",
        "outputId": "2964cfa9-e223-4b7e-cfc4-99b45cf25dac"
      },
      "outputs": [
        {
          "name": "stdout",
          "output_type": "stream",
          "text": [
            "apm 35.221.22.48_gk_model0 <br><pre> ----------------------------------------------------------------\n",
            " APMonitor, Version 1.0.1\n",
            " APMonitor Optimization Suite\n",
            " ----------------------------------------------------------------\n",
            " \n",
            " \n",
            " --------- APM Model Size ------------\n",
            " Each time step contains\n",
            "   Objects      :            0\n",
            "   Constants    :            0\n",
            "   Variables    :           76\n",
            "   Intermediates:            0\n",
            "   Connections  :            0\n",
            "   Equations    :           32\n",
            "   Residuals    :           32\n",
            " \n",
            " Number of state variables:             76\n",
            " Number of total equations: -           31\n",
            " Number of slack variables: -           26\n",
            " ---------------------------------------\n",
            " Degrees of freedom       :             19\n",
            " \n",
            " ----------------------------------------------\n",
            " Steady State Optimization with APOPT Solver\n",
            " ----------------------------------------------\n",
            "Iter:     1 I:  0 Tm:      0.01 NLPi:    9 Dpth:    0 Lvs:    3 Obj: -1.01E+03 Gap:       NaN\n",
            "--Integer Solution:  -1.01E+03 Lowest Leaf:  -1.01E+03 Gap:   0.00E+00\n",
            "Iter:     2 I:  0 Tm:      0.00 NLPi:    1 Dpth:    1 Lvs:    3 Obj: -1.01E+03 Gap:  0.00E+00\n",
            " Successful solution\n",
            " \n",
            " ---------------------------------------------------\n",
            " Solver         :  APOPT (v1.0)\n",
            " Solution time  :   3.179999999701977E-002 sec\n",
            " Objective      :   -1014.90530801906     \n",
            " Successful solution\n",
            " ---------------------------------------------------\n",
            " \n",
            "x1_1: [0.0]\n",
            "Objective: -1014.905308\n"
          ]
        }
      ],
      "source": [
        "m.Obj(result) # Objective\n",
        "m.solve(disp=True) # Solve\n",
        "\n",
        "print('x1_1: ' + str(x1_1.value))\n",
        "print('Objective: ' + str(m.options.objfcnval))"
      ]
    },
    {
      "cell_type": "code",
      "execution_count": 50,
      "metadata": {
        "colab": {
          "base_uri": "https://localhost:8080/"
        },
        "id": "VpwBGHwQE6h8",
        "outputId": "124f9afe-49d0-4078-e6d3-b14627face58"
      },
      "outputs": [
        {
          "name": "stdout",
          "output_type": "stream",
          "text": [
            "x1_1: [0.0]\n",
            "y1_1: [1.0]\n",
            "x1_2: [0.0]\n",
            "y1_2: [0.0]\n",
            "x1_3: [0.0]\n",
            "y1_3: [0.0]\n",
            "x1_4: [0.0]\n",
            "y1_4: [0.0]\n",
            "x1_5: [0.0]\n",
            "y1_5: [0.0]\n",
            "----------------------------------------------------------\n",
            "x2_1: [205.2048506]\n",
            "y2_1: [1.0]\n",
            "x2_2: [0.0]\n",
            "y2_2: [0.0]\n",
            "x2_3: [0.0]\n",
            "y2_3: [0.0]\n",
            "x2_4: [0.0]\n",
            "y2_4: [0.0]\n",
            "x2_5: [0.0]\n",
            "y2_5: [0.0]\n",
            "----------------------------------------------------------\n",
            "x3_1: [1263.8718692]\n",
            "y3_1: [1.0]\n",
            "x3_2: [0.0]\n",
            "y3_2: [0.0]\n",
            "x3_3: [0.0]\n",
            "y3_3: [0.0]\n",
            "x3_4: [0.0]\n",
            "y3_4: [0.0]\n",
            "x3_5: [0.0]\n",
            "y3_5: [0.0]\n",
            "----------------------------------------------------------\n",
            "x4_1: [1608.4108051]\n",
            "y4_1: [1.0]\n",
            "x4_2: [0.0]\n",
            "y4_2: [0.0]\n",
            "x4_3: [0.0]\n",
            "y4_3: [0.0]\n",
            "x4_4: [0.0]\n",
            "y4_4: [0.0]\n",
            "x4_5: [0.0]\n",
            "y4_5: [0.0]\n",
            "----------------------------------------------------------\n",
            "x5_1: [1922.5124751]\n",
            "y5_1: [1.0]\n",
            "x5_2: [0.0]\n",
            "y5_2: [0.0]\n",
            "x5_3: [0.0]\n",
            "y5_3: [0.0]\n",
            "x5_4: [0.0]\n",
            "y5_4: [0.0]\n",
            "x5_5: [0.0]\n",
            "y5_5: [0.0]\n"
          ]
        }
      ],
      "source": [
        "#關鍵字：茶行\n",
        "print('x1_1: ' + str(x1_1.value))\n",
        "print('y1_1: ' + str(y1_1.value))\n",
        "print('x1_2: ' + str(x1_2.value))\n",
        "print('y1_2: ' + str(y1_2.value))\n",
        "print('x1_3: ' + str(x1_3.value))\n",
        "print('y1_3: ' + str(y1_3.value))\n",
        "print('x1_4: ' + str(x1_4.value))\n",
        "print('y1_4: ' + str(y1_4.value))\n",
        "print('x1_5: ' + str(x1_5.value))\n",
        "print('y1_5: ' + str(y1_5.value))\n",
        "\n",
        "print('----------------------------------------------------------')\n",
        "\n",
        "\n",
        "#關鍵字：鐵觀音\n",
        "print('x2_1: ' + str(x2_1.value))\n",
        "print('y2_1: ' + str(y2_1.value))\n",
        "print('x2_2: ' + str(x2_2.value))\n",
        "print('y2_2: ' + str(y2_2.value))\n",
        "print('x2_3: ' + str(x2_3.value))\n",
        "print('y2_3: ' + str(y2_3.value))\n",
        "print('x2_4: ' + str(x2_4.value))\n",
        "print('y2_4: ' + str(y2_4.value))\n",
        "print('x2_5: ' + str(x2_5.value))\n",
        "print('y2_5: ' + str(y2_5.value))\n",
        "\n",
        "print('----------------------------------------------------------')\n",
        "\n",
        "\n",
        "#關鍵字：木柵\n",
        "print('x3_1: ' + str(x3_1.value))\n",
        "print('y3_1: ' + str(y3_1.value))\n",
        "print('x3_2: ' + str(x3_2.value))\n",
        "print('y3_2: ' + str(y3_2.value))\n",
        "print('x3_3: ' + str(x3_3.value))\n",
        "print('y3_3: ' + str(y3_3.value))\n",
        "print('x3_4: ' + str(x3_4.value))\n",
        "print('y3_4: ' + str(y3_4.value))\n",
        "print('x3_5: ' + str(x3_5.value))\n",
        "print('y3_5: ' + str(y3_5.value))\n",
        "\n",
        "\n",
        "print('----------------------------------------------------------')\n",
        "\n",
        "\n",
        "#關鍵字：茶葉\n",
        "print('x4_1: ' + str(x4_1.value))\n",
        "print('y4_1: ' + str(y4_1.value))\n",
        "print('x4_2: ' + str(x4_2.value))\n",
        "print('y4_2: ' + str(y4_2.value))\n",
        "print('x4_3: ' + str(x4_3.value))\n",
        "print('y4_3: ' + str(y4_3.value))\n",
        "print('x4_4: ' + str(x4_4.value))\n",
        "print('y4_4: ' + str(y4_4.value))\n",
        "print('x4_5: ' + str(x4_5.value))\n",
        "print('y4_5: ' + str(y4_5.value))\n",
        "\n",
        "\n",
        "print('----------------------------------------------------------')\n",
        "\n",
        "\n",
        "#關鍵字：送禮\n",
        "print('x5_1: ' + str(x5_1.value))\n",
        "print('y5_1: ' + str(y5_1.value))\n",
        "print('x5_2: ' + str(x5_2.value))\n",
        "print('y5_2: ' + str(y5_2.value))\n",
        "print('x5_3: ' + str(x5_3.value))\n",
        "print('y5_3: ' + str(y5_3.value))\n",
        "print('x5_4: ' + str(x5_4.value))\n",
        "print('y5_4: ' + str(y5_4.value))\n",
        "print('x5_5: ' + str(x5_5.value))\n",
        "print('y5_5: ' + str(y5_5.value))\n"
      ]
    },
    {
      "cell_type": "markdown",
      "metadata": {
        "id": "IvukxxtD2izq"
      },
      "source": [
        "# Max revenue model(With all keywords & uncertain IMP、RPC)"
      ]
    },
    {
      "cell_type": "code",
      "execution_count": 51,
      "metadata": {
        "id": "TPUPDBZ72oJM"
      },
      "outputs": [],
      "source": [
        "K = 5\n",
        "R = 5\n",
        "total_budget = 5000\n",
        "\n",
        "search_max_click = np.zeros((K,S)) \n",
        "Max_click_available = np.zeros((K,S))\n",
        "CPC = np.zeros((K,S))\n",
        "CTR = np.zeros((K,S))"
      ]
    },
    {
      "cell_type": "code",
      "execution_count": 52,
      "metadata": {
        "id": "hLdPGBuu2tYH"
      },
      "outputs": [],
      "source": [
        "#設定資料\n",
        "daily_impression = [15.666667,5.644626,58.666667,66.666667,26.333333]\n",
        "impression = [15.666667*30, 5.644626*30, 58.666667*30, 66.666667*30, 26.333333*30]\n",
        "cpc = [11.73999758,8.89955796,6.746349934,5.114100906,3.876767191,3.650002081,2.766900492,2.097461361,1.589990017,1.205299083,2.369996741,1.796586688,1.361910618,1.032402469,0.7826173341,9.859999683,7.474417101,5.666015497,4.295148528,3.255956657,7.330000379,5.556539751,4.212159947,3.19304679,2.420503479]\n",
        "ctr = [0.332,0.168,0.082,0.050,0.033,0.332,0.168,0.082,0.050,0.033,0.303,0.216,0.078,0.043,0.023,0.244,0.114,0.071,0.046,0.036,0.332,0.168,0.082,0.050,0.033]\n",
        "rpc = [23.34511813, 15.20655086, 29.39873989, 27.26392903, 1116.11431425]\n",
        "\n",
        "i=0\n",
        "for k in range(K):\n",
        "  for r in range(R):\n",
        "    Max_click_available[k,r] = impression[k] * ctr[i]\n",
        "    CPC[k,r] = cpc[i]\n",
        "    CTR[k,r] = cpc[i]\n",
        "    i = i+1\n"
      ]
    },
    {
      "cell_type": "code",
      "execution_count": 53,
      "metadata": {
        "id": "L-FtcA0H2tx5"
      },
      "outputs": [],
      "source": [
        "m = GEKKO() # Initialize gekko\n",
        "m.options.SOLVER=1  # APOPT is an MINLP solver\n",
        "# optional solver settings with APOPT\n",
        "m.solver_options = ['minlp_maximum_iterations 500', \\\n",
        "           # minlp iterations with integer solution\n",
        "           'minlp_max_iter_with_int_sol 100', \\\n",
        "           # treat minlp as nlp\n",
        "           'minlp_as_nlp 0', \\\n",
        "           # nlp sub-problem max iterations\n",
        "           'nlp_maximum_iterations 50', \\\n",
        "           # 1 = depth first, 2 = breadth first\n",
        "           'minlp_branch_method 1', \\\n",
        "           # maximum deviation from whole number\n",
        "           'minlp_integer_tol 0.05', \\\n",
        "           # covergence tolerance\n",
        "           'minlp_gap_tol 0.01']"
      ]
    },
    {
      "cell_type": "code",
      "execution_count": 54,
      "metadata": {
        "id": "W-w4onJa2vXB"
      },
      "outputs": [],
      "source": [
        "# 設定X變數 --> budget\n",
        "x1_1 = m.Var(value=1,lb=0,ub=total_budget,integer=False)\n",
        "x1_2 = m.Var(value=1,lb=0,ub=total_budget,integer=False)\n",
        "x1_3 = m.Var(value=1,lb=0,ub=total_budget,integer=False)\n",
        "x1_4 = m.Var(value=1,lb=0,ub=total_budget,integer=False)\n",
        "x1_5 = m.Var(value=1,lb=0,ub=total_budget,integer=False)\n",
        "\n",
        "x2_1 = m.Var(value=1,lb=0,ub=total_budget,integer=False)\n",
        "x2_2 = m.Var(value=1,lb=0,ub=total_budget,integer=False)\n",
        "x2_3 = m.Var(value=1,lb=0,ub=total_budget,integer=False)\n",
        "x2_4 = m.Var(value=1,lb=0,ub=total_budget,integer=False)\n",
        "x2_5 = m.Var(value=1,lb=0,ub=total_budget,integer=False)\n",
        "\n",
        "x3_1 = m.Var(value=1,lb=0,ub=total_budget,integer=False)\n",
        "x3_2 = m.Var(value=1,lb=0,ub=total_budget,integer=False)\n",
        "x3_3 = m.Var(value=1,lb=0,ub=total_budget,integer=False)\n",
        "x3_4 = m.Var(value=1,lb=0,ub=total_budget,integer=False)\n",
        "x3_5 = m.Var(value=1,lb=0,ub=total_budget,integer=False)\n",
        "\n",
        "x4_1 = m.Var(value=1,lb=0,ub=total_budget,integer=False)\n",
        "x4_2 = m.Var(value=1,lb=0,ub=total_budget,integer=False)\n",
        "x4_3 = m.Var(value=1,lb=0,ub=total_budget,integer=False)\n",
        "x4_4 = m.Var(value=1,lb=0,ub=total_budget,integer=False)\n",
        "x4_5 = m.Var(value=1,lb=0,ub=total_budget,integer=False)\n",
        "\n",
        "x5_1 = m.Var(value=1,lb=0,ub=total_budget,integer=False)\n",
        "x5_2 = m.Var(value=1,lb=0,ub=total_budget,integer=False)\n",
        "x5_3 = m.Var(value=1,lb=0,ub=total_budget,integer=False)\n",
        "x5_4 = m.Var(value=1,lb=0,ub=total_budget,integer=False)\n",
        "x5_5 = m.Var(value=1,lb=0,ub=total_budget,integer=False)\n"
      ]
    },
    {
      "cell_type": "code",
      "execution_count": 55,
      "metadata": {
        "id": "K77WeWLx2vt1"
      },
      "outputs": [],
      "source": [
        "#設定y變數 --> 選擇與否(binary)\n",
        "y1_1 = m.Var(value=0,lb=0,ub=1,integer=True)\n",
        "y1_2 = m.Var(value=1,lb=0,ub=1,integer=True)\n",
        "y1_3 = m.Var(value=1,lb=0,ub=1,integer=True)\n",
        "y1_4 = m.Var(value=1,lb=0,ub=1,integer=True)\n",
        "y1_5 = m.Var(value=1,lb=0,ub=1,integer=True)\n",
        "\n",
        "y2_1 = m.Var(value=0,lb=0,ub=1,integer=True)\n",
        "y2_2 = m.Var(value=1,lb=0,ub=1,integer=True)\n",
        "y2_3 = m.Var(value=1,lb=0,ub=1,integer=True)\n",
        "y2_4 = m.Var(value=1,lb=0,ub=1,integer=True)\n",
        "y2_5 = m.Var(value=1,lb=0,ub=1,integer=True)\n",
        "\n",
        "y3_1 = m.Var(value=0,lb=0,ub=1,integer=True)\n",
        "y3_2 = m.Var(value=1,lb=0,ub=1,integer=True)\n",
        "y3_3 = m.Var(value=1,lb=0,ub=1,integer=True)\n",
        "y3_4 = m.Var(value=1,lb=0,ub=1,integer=True)\n",
        "y3_5 = m.Var(value=1,lb=0,ub=1,integer=True)\n",
        "\n",
        "y4_1 = m.Var(value=0,lb=0,ub=1,integer=True)\n",
        "y4_2 = m.Var(value=1,lb=0,ub=1,integer=True)\n",
        "y4_3 = m.Var(value=1,lb=0,ub=1,integer=True)\n",
        "y4_4 = m.Var(value=1,lb=0,ub=1,integer=True)\n",
        "y4_5 = m.Var(value=1,lb=0,ub=1,integer=True)\n",
        "\n",
        "y5_1 = m.Var(value=0,lb=0,ub=1,integer=True)\n",
        "y5_2 = m.Var(value=1,lb=0,ub=1,integer=True)\n",
        "y5_3 = m.Var(value=1,lb=0,ub=1,integer=True)\n",
        "y5_4 = m.Var(value=1,lb=0,ub=1,integer=True)\n",
        "y5_5 = m.Var(value=1,lb=0,ub=1,integer=True)"
      ]
    },
    {
      "cell_type": "code",
      "execution_count": 56,
      "metadata": {
        "colab": {
          "base_uri": "https://localhost:8080/"
        },
        "id": "daU9gWQV2vwC",
        "outputId": "0d8340b7-0801-4670-96e5-4f76d17bf1d2"
      },
      "outputs": [
        {
          "data": {
            "text/plain": [
              "<gekko.gekko.EquationObj at 0x7f4feb8e5390>"
            ]
          },
          "execution_count": 56,
          "metadata": {},
          "output_type": "execute_result"
        }
      ],
      "source": [
        "# Constraints\n",
        "#1.總共預算不能超過40000元\n",
        "m.Equation((x1_1+x1_2+x1_3+x1_4+x1_5)+ (x2_1+x2_2+x2_3+x2_4+x2_5) + (x3_1+x3_2+x3_3+x3_4+x3_5) + (x4_1+x4_2+x4_3+x4_4+x4_5) +(x5_1+x5_2+x5_3+x5_4+x5_5) <= total_budget)\n",
        "\n",
        "#2.一個關鍵字只能選一個rank\n",
        "m.Equation((y1_1+y1_2+y1_3+y1_4+y1_5) == 1)\n",
        "m.Equation((y2_1+y2_2+y2_3+y2_4+y2_5) == 1)\n",
        "m.Equation((y3_1+y3_2+y3_3+y3_4+y3_5) == 1)\n",
        "m.Equation((y4_1+y4_2+y4_3+y4_4+y4_5) == 1)\n",
        "m.Equation((y5_1+y5_2+y5_3+y5_4+y5_5) == 1)\n",
        "\n",
        "#3.所有關鍵字要小於search_max_click\\\n",
        "#關鍵字：茶行\n",
        "m.Equation(x1_1*y1_1 <= CPC[0,0]*Max_click_available[0,0])\n",
        "m.Equation(x1_2*y1_2 <= CPC[0,1]*Max_click_available[0,1])\n",
        "m.Equation(x1_3*y1_3 <= CPC[0,2]*Max_click_available[0,2])\n",
        "m.Equation(x1_4*y1_4 <= CPC[0,3]*Max_click_available[0,3])\n",
        "m.Equation(x1_5*y1_5 <= CPC[0,4]*Max_click_available[0,4])\n",
        "\n",
        "#關鍵字：鐵觀音\n",
        "m.Equation(x2_1*y2_1 <= CPC[1,0]*Max_click_available[1,0])\n",
        "m.Equation(x2_2*y2_2 <= CPC[1,1]*Max_click_available[1,1])\n",
        "m.Equation(x2_3*y2_3 <= CPC[1,2]*Max_click_available[1,2])\n",
        "m.Equation(x2_4*y2_4 <= CPC[1,3]*Max_click_available[1,3])\n",
        "m.Equation(x2_5*y2_5 <= CPC[1,4]*Max_click_available[1,4])\n",
        "\n",
        "#關鍵字：木柵\n",
        "m.Equation(x3_1*y3_1 <= CPC[2,0]*Max_click_available[2,0])\n",
        "m.Equation(x3_2*y3_2 <= CPC[2,1]*Max_click_available[2,1])\n",
        "m.Equation(x3_3*y3_3 <= CPC[2,2]*Max_click_available[2,2])\n",
        "m.Equation(x3_4*y3_4 <= CPC[2,3]*Max_click_available[2,3])\n",
        "m.Equation(x3_5*y3_5 <= CPC[2,4]*Max_click_available[2,4])\n",
        "\n",
        "#關鍵字：茶葉\n",
        "m.Equation(x4_1*y4_1 <= CPC[3,0]*Max_click_available[3,0])\n",
        "m.Equation(x4_2*y4_2 <= CPC[3,1]*Max_click_available[3,1])\n",
        "m.Equation(x4_3*y4_3 <= CPC[3,2]*Max_click_available[3,2])\n",
        "m.Equation(x4_4*y4_4 <= CPC[3,3]*Max_click_available[3,3])\n",
        "m.Equation(x4_5*y4_5 <= CPC[3,4]*Max_click_available[3,4])\n",
        "\n",
        "#關鍵字：送禮\n",
        "m.Equation(x5_1*y5_1 <= CPC[4,0]*Max_click_available[4,0])\n",
        "m.Equation(x5_2*y5_2 <= CPC[4,1]*Max_click_available[4,1])\n",
        "m.Equation(x5_3*y5_3 <= CPC[4,2]*Max_click_available[4,2])\n",
        "m.Equation(x5_4*y5_4 <= CPC[4,3]*Max_click_available[4,3])\n",
        "m.Equation(x5_5*y5_5 <= CPC[4,4]*Max_click_available[4,4])"
      ]
    },
    {
      "cell_type": "code",
      "execution_count": 57,
      "metadata": {
        "id": "6x1ieAhA237v"
      },
      "outputs": [],
      "source": [
        "# Objective\n",
        "#拆解計算\n",
        "Revenue1 = ((x1_1*y1_1)/CPC[0,0] + (x1_2*y1_2)/CPC[0,1] + (x1_3*y1_3)/CPC[0,2] + (x1_4*y1_4)/CPC[0,3] + (x1_5*y1_5)/CPC[0,4]) * rpc[0]\n",
        "Revenue2 = ((x2_1*y2_1)/CPC[1,0] + (x2_2*y2_2)/CPC[1,1] + (x2_3*y2_3)/CPC[1,2] + (x2_4*y2_4)/CPC[1,3] + (x2_5*y2_5)/CPC[1,4]) * rpc[1]\n",
        "Revenue3 = ((x3_1*y3_1)/CPC[2,0] + (x3_2*y3_2)/CPC[2,1] + (x3_3*y3_3)/CPC[2,2] + (x3_4*y3_4)/CPC[2,3] + (x3_5*y3_5)/CPC[2,4]) * rpc[2]\n",
        "Revenue4 = ((x4_1*y4_1)/CPC[3,0] + (x4_2*y4_2)/CPC[3,1] + (x4_3*y4_3)/CPC[3,2] + (x4_4*y4_4)/CPC[3,3] + (x4_5*y4_5)/CPC[3,4]) * rpc[3]\n",
        "Revenue5 = ((x5_1*y5_1)/CPC[4,0] + (x5_2*y5_2)/CPC[4,1] + (x5_3*y5_3)/CPC[4,2] + (x5_4*y5_4)/CPC[4,3] + (x5_5*y5_5)/CPC[4,4]) * rpc[4]\n",
        "\n",
        "result = -(Revenue1+Revenue2+Revenue3+Revenue4+Revenue5)"
      ]
    },
    {
      "cell_type": "code",
      "execution_count": 58,
      "metadata": {
        "colab": {
          "base_uri": "https://localhost:8080/"
        },
        "id": "7C7LEunQ26uY",
        "outputId": "f95fa848-4b8b-45ce-e5a6-030b095b4c92"
      },
      "outputs": [
        {
          "name": "stdout",
          "output_type": "stream",
          "text": [
            "apm 35.221.22.48_gk_model1 <br><pre> ----------------------------------------------------------------\n",
            " APMonitor, Version 1.0.1\n",
            " APMonitor Optimization Suite\n",
            " ----------------------------------------------------------------\n",
            " \n",
            " \n",
            " --------- APM Model Size ------------\n",
            " Each time step contains\n",
            "   Objects      :            0\n",
            "   Constants    :            0\n",
            "   Variables    :           76\n",
            "   Intermediates:            0\n",
            "   Connections  :            0\n",
            "   Equations    :           32\n",
            "   Residuals    :           32\n",
            " \n",
            " Number of state variables:             76\n",
            " Number of total equations: -           31\n",
            " Number of slack variables: -           26\n",
            " ---------------------------------------\n",
            " Degrees of freedom       :             19\n",
            " \n",
            " ----------------------------------------------\n",
            " Steady State Optimization with APOPT Solver\n",
            " ----------------------------------------------\n",
            "Iter:     1 I:  0 Tm:      0.02 NLPi:   16 Dpth:    0 Lvs:    0 Obj: -3.14E+05 Gap:  0.00E+00\n",
            " Successful solution\n",
            " \n",
            " ---------------------------------------------------\n",
            " Solver         :  APOPT (v1.0)\n",
            " Solution time  :   3.579999998328276E-002 sec\n",
            " Objective      :   -313714.562124920     \n",
            " Successful solution\n",
            " ---------------------------------------------------\n",
            " \n",
            "x1_1: [0.0]\n",
            "Objective: -313714.56212\n"
          ]
        }
      ],
      "source": [
        "m.Obj(result) # Objective\n",
        "m.solve(disp=True) # Solve\n",
        "\n",
        "print('x1_1: ' + str(x1_1.value))\n",
        "print('Objective: ' + str(m.options.objfcnval))"
      ]
    },
    {
      "cell_type": "code",
      "execution_count": 59,
      "metadata": {
        "colab": {
          "base_uri": "https://localhost:8080/"
        },
        "id": "ut9JpdvR26zZ",
        "outputId": "83a5e59d-8a32-4f70-d6b9-9da457ff6a18"
      },
      "outputs": [
        {
          "name": "stdout",
          "output_type": "stream",
          "text": [
            "x1_1: [0.0]\n",
            "y1_1: [1.0]\n",
            "x1_2: [0.0]\n",
            "y1_2: [0.0]\n",
            "x1_3: [0.0]\n",
            "y1_3: [0.0]\n",
            "x1_4: [0.0]\n",
            "y1_4: [0.0]\n",
            "x1_5: [0.0]\n",
            "y1_5: [0.0]\n",
            "----------------------------------------------------------\n",
            "x2_1: [205.2048506]\n",
            "y2_1: [1.0]\n",
            "x2_2: [0.0]\n",
            "y2_2: [0.0]\n",
            "x2_3: [0.0]\n",
            "y2_3: [0.0]\n",
            "x2_4: [0.0]\n",
            "y2_4: [0.0]\n",
            "x2_5: [0.0]\n",
            "y2_5: [0.0]\n",
            "----------------------------------------------------------\n",
            "x3_1: [1263.8718692]\n",
            "y3_1: [1.0]\n",
            "x3_2: [0.0]\n",
            "y3_2: [0.0]\n",
            "x3_3: [0.0]\n",
            "y3_3: [0.0]\n",
            "x3_4: [0.0]\n",
            "y3_4: [0.0]\n",
            "x3_5: [0.0]\n",
            "y3_5: [0.0]\n",
            "----------------------------------------------------------\n",
            "x4_1: [1608.4108051]\n",
            "y4_1: [1.0]\n",
            "x4_2: [0.0]\n",
            "y4_2: [0.0]\n",
            "x4_3: [0.0]\n",
            "y4_3: [0.0]\n",
            "x4_4: [0.0]\n",
            "y4_4: [0.0]\n",
            "x4_5: [0.0]\n",
            "y4_5: [0.0]\n",
            "----------------------------------------------------------\n",
            "x5_1: [1922.5124751]\n",
            "y5_1: [1.0]\n",
            "x5_2: [0.0]\n",
            "y5_2: [0.0]\n",
            "x5_3: [0.0]\n",
            "y5_3: [0.0]\n",
            "x5_4: [0.0]\n",
            "y5_4: [0.0]\n",
            "x5_5: [0.0]\n",
            "y5_5: [0.0]\n"
          ]
        }
      ],
      "source": [
        "#關鍵字：茶行\n",
        "print('x1_1: ' + str(x1_1.value))\n",
        "print('y1_1: ' + str(y1_1.value))\n",
        "print('x1_2: ' + str(x1_2.value))\n",
        "print('y1_2: ' + str(y1_2.value))\n",
        "print('x1_3: ' + str(x1_3.value))\n",
        "print('y1_3: ' + str(y1_3.value))\n",
        "print('x1_4: ' + str(x1_4.value))\n",
        "print('y1_4: ' + str(y1_4.value))\n",
        "print('x1_5: ' + str(x1_5.value))\n",
        "print('y1_5: ' + str(y1_5.value))\n",
        "\n",
        "print('----------------------------------------------------------')\n",
        "\n",
        "\n",
        "#關鍵字：鐵觀音\n",
        "print('x2_1: ' + str(x2_1.value))\n",
        "print('y2_1: ' + str(y2_1.value))\n",
        "print('x2_2: ' + str(x2_2.value))\n",
        "print('y2_2: ' + str(y2_2.value))\n",
        "print('x2_3: ' + str(x2_3.value))\n",
        "print('y2_3: ' + str(y2_3.value))\n",
        "print('x2_4: ' + str(x2_4.value))\n",
        "print('y2_4: ' + str(y2_4.value))\n",
        "print('x2_5: ' + str(x2_5.value))\n",
        "print('y2_5: ' + str(y2_5.value))\n",
        "\n",
        "print('----------------------------------------------------------')\n",
        "\n",
        "\n",
        "#關鍵字：木柵\n",
        "print('x3_1: ' + str(x3_1.value))\n",
        "print('y3_1: ' + str(y3_1.value))\n",
        "print('x3_2: ' + str(x3_2.value))\n",
        "print('y3_2: ' + str(y3_2.value))\n",
        "print('x3_3: ' + str(x3_3.value))\n",
        "print('y3_3: ' + str(y3_3.value))\n",
        "print('x3_4: ' + str(x3_4.value))\n",
        "print('y3_4: ' + str(y3_4.value))\n",
        "print('x3_5: ' + str(x3_5.value))\n",
        "print('y3_5: ' + str(y3_5.value))\n",
        "\n",
        "\n",
        "print('----------------------------------------------------------')\n",
        "\n",
        "\n",
        "#關鍵字：茶葉\n",
        "print('x4_1: ' + str(x4_1.value))\n",
        "print('y4_1: ' + str(y4_1.value))\n",
        "print('x4_2: ' + str(x4_2.value))\n",
        "print('y4_2: ' + str(y4_2.value))\n",
        "print('x4_3: ' + str(x4_3.value))\n",
        "print('y4_3: ' + str(y4_3.value))\n",
        "print('x4_4: ' + str(x4_4.value))\n",
        "print('y4_4: ' + str(y4_4.value))\n",
        "print('x4_5: ' + str(x4_5.value))\n",
        "print('y4_5: ' + str(y4_5.value))\n",
        "\n",
        "\n",
        "print('----------------------------------------------------------')\n",
        "\n",
        "\n",
        "#關鍵字：送禮\n",
        "print('x5_1: ' + str(x5_1.value))\n",
        "print('y5_1: ' + str(y5_1.value))\n",
        "print('x5_2: ' + str(x5_2.value))\n",
        "print('y5_2: ' + str(y5_2.value))\n",
        "print('x5_3: ' + str(x5_3.value))\n",
        "print('y5_3: ' + str(y5_3.value))\n",
        "print('x5_4: ' + str(x5_4.value))\n",
        "print('y5_4: ' + str(y5_4.value))\n",
        "print('x5_5: ' + str(x5_5.value))\n",
        "print('y5_5: ' + str(y5_5.value))\n"
      ]
    },
    {
      "cell_type": "markdown",
      "metadata": {
        "id": "nLxjezNkJV8h"
      },
      "source": [
        "# Max profit model(With all keywords &  uncertain IMP、RPC)"
      ]
    },
    {
      "cell_type": "code",
      "execution_count": 60,
      "metadata": {
        "id": "-6I7HgIDJV8n"
      },
      "outputs": [],
      "source": [
        "K = 5\n",
        "R = 5\n",
        "total_budget = 5000\n",
        "\n",
        "search_max_click = np.zeros((K,S)) \n",
        "Max_click_available = np.zeros((K,S))\n",
        "CPC = np.zeros((K,S))\n",
        "CTR = np.zeros((K,S))"
      ]
    },
    {
      "cell_type": "code",
      "execution_count": 61,
      "metadata": {
        "id": "cfBFRnxkJV8n"
      },
      "outputs": [],
      "source": [
        "#設定資料\n",
        "daily_impression = [15.666667,5.644626,58.666667,66.666667,26.333333]\n",
        "impression = [15.666667*30, 5.644626*30, 58.666667*30, 66.666667*30, 26.333333*30]\n",
        "cpc = [11.73999758,8.89955796,6.746349934,5.114100906,3.876767191,3.650002081,2.766900492,2.097461361,1.589990017,1.205299083,2.369996741,1.796586688,1.361910618,1.032402469,0.7826173341,9.859999683,7.474417101,5.666015497,4.295148528,3.255956657,7.330000379,5.556539751,4.212159947,3.19304679,2.420503479]\n",
        "ctr = [0.332,0.168,0.082,0.050,0.033,0.332,0.168,0.082,0.050,0.033,0.303,0.216,0.078,0.043,0.023,0.244,0.114,0.071,0.046,0.036,0.332,0.168,0.082,0.050,0.033]\n",
        "rpc = [23.34511813, 15.20655086, 29.39873989, 27.26392903, 1116.11431425]\n",
        "product_cpc = [23.34511813*0.5, 15.20655086*0.5, 29.39873989*0.5, 27.26392903*0.5, 1116.11431425*0.5]\n",
        "\n",
        "i=0\n",
        "for k in range(K):\n",
        "  for r in range(R):\n",
        "    Max_click_available[k,r] = impression[k] * ctr[i]\n",
        "    CPC[k,r] = cpc[i]\n",
        "    CTR[k,r] = cpc[i]\n",
        "    i = i+1\n"
      ]
    },
    {
      "cell_type": "code",
      "execution_count": 62,
      "metadata": {
        "id": "-OFP9POoJV8o"
      },
      "outputs": [],
      "source": [
        "m = GEKKO() # Initialize gekko\n",
        "m.options.SOLVER=1  # APOPT is an MINLP solver\n",
        "# optional solver settings with APOPT\n",
        "m.solver_options = ['minlp_maximum_iterations 500', \\\n",
        "           # minlp iterations with integer solution\n",
        "           'minlp_max_iter_with_int_sol 100', \\\n",
        "           # treat minlp as nlp\n",
        "           'minlp_as_nlp 0', \\\n",
        "           # nlp sub-problem max iterations\n",
        "           'nlp_maximum_iterations 50', \\\n",
        "           # 1 = depth first, 2 = breadth first\n",
        "           'minlp_branch_method 1', \\\n",
        "           # maximum deviation from whole number\n",
        "           'minlp_integer_tol 0.05', \\\n",
        "           # covergence tolerance\n",
        "           'minlp_gap_tol 0.01']"
      ]
    },
    {
      "cell_type": "code",
      "execution_count": 63,
      "metadata": {
        "id": "K3LZLrXqJV8o"
      },
      "outputs": [],
      "source": [
        "# 設定X變數 --> budget\n",
        "x1_1 = m.Var(value=1,lb=0,ub=total_budget,integer=False)\n",
        "x1_2 = m.Var(value=1,lb=0,ub=total_budget,integer=False)\n",
        "x1_3 = m.Var(value=1,lb=0,ub=total_budget,integer=False)\n",
        "x1_4 = m.Var(value=1,lb=0,ub=total_budget,integer=False)\n",
        "x1_5 = m.Var(value=1,lb=0,ub=total_budget,integer=False)\n",
        "\n",
        "x2_1 = m.Var(value=1,lb=0,ub=total_budget,integer=False)\n",
        "x2_2 = m.Var(value=1,lb=0,ub=total_budget,integer=False)\n",
        "x2_3 = m.Var(value=1,lb=0,ub=total_budget,integer=False)\n",
        "x2_4 = m.Var(value=1,lb=0,ub=total_budget,integer=False)\n",
        "x2_5 = m.Var(value=1,lb=0,ub=total_budget,integer=False)\n",
        "\n",
        "x3_1 = m.Var(value=1,lb=0,ub=total_budget,integer=False)\n",
        "x3_2 = m.Var(value=1,lb=0,ub=total_budget,integer=False)\n",
        "x3_3 = m.Var(value=1,lb=0,ub=total_budget,integer=False)\n",
        "x3_4 = m.Var(value=1,lb=0,ub=total_budget,integer=False)\n",
        "x3_5 = m.Var(value=1,lb=0,ub=total_budget,integer=False)\n",
        "\n",
        "x4_1 = m.Var(value=1,lb=0,ub=total_budget,integer=False)\n",
        "x4_2 = m.Var(value=1,lb=0,ub=total_budget,integer=False)\n",
        "x4_3 = m.Var(value=1,lb=0,ub=total_budget,integer=False)\n",
        "x4_4 = m.Var(value=1,lb=0,ub=total_budget,integer=False)\n",
        "x4_5 = m.Var(value=1,lb=0,ub=total_budget,integer=False)\n",
        "\n",
        "x5_1 = m.Var(value=1,lb=0,ub=total_budget,integer=False)\n",
        "x5_2 = m.Var(value=1,lb=0,ub=total_budget,integer=False)\n",
        "x5_3 = m.Var(value=1,lb=0,ub=total_budget,integer=False)\n",
        "x5_4 = m.Var(value=1,lb=0,ub=total_budget,integer=False)\n",
        "x5_5 = m.Var(value=1,lb=0,ub=total_budget,integer=False)\n"
      ]
    },
    {
      "cell_type": "code",
      "execution_count": 64,
      "metadata": {
        "id": "DpJQTAcWJV8o"
      },
      "outputs": [],
      "source": [
        "#設定y變數 --> 選擇與否(binary)\n",
        "y1_1 = m.Var(value=0,lb=0,ub=1,integer=True)\n",
        "y1_2 = m.Var(value=1,lb=0,ub=1,integer=True)\n",
        "y1_3 = m.Var(value=1,lb=0,ub=1,integer=True)\n",
        "y1_4 = m.Var(value=1,lb=0,ub=1,integer=True)\n",
        "y1_5 = m.Var(value=1,lb=0,ub=1,integer=True)\n",
        "\n",
        "y2_1 = m.Var(value=0,lb=0,ub=1,integer=True)\n",
        "y2_2 = m.Var(value=1,lb=0,ub=1,integer=True)\n",
        "y2_3 = m.Var(value=1,lb=0,ub=1,integer=True)\n",
        "y2_4 = m.Var(value=1,lb=0,ub=1,integer=True)\n",
        "y2_5 = m.Var(value=1,lb=0,ub=1,integer=True)\n",
        "\n",
        "y3_1 = m.Var(value=0,lb=0,ub=1,integer=True)\n",
        "y3_2 = m.Var(value=1,lb=0,ub=1,integer=True)\n",
        "y3_3 = m.Var(value=1,lb=0,ub=1,integer=True)\n",
        "y3_4 = m.Var(value=1,lb=0,ub=1,integer=True)\n",
        "y3_5 = m.Var(value=1,lb=0,ub=1,integer=True)\n",
        "\n",
        "y4_1 = m.Var(value=0,lb=0,ub=1,integer=True)\n",
        "y4_2 = m.Var(value=1,lb=0,ub=1,integer=True)\n",
        "y4_3 = m.Var(value=1,lb=0,ub=1,integer=True)\n",
        "y4_4 = m.Var(value=1,lb=0,ub=1,integer=True)\n",
        "y4_5 = m.Var(value=1,lb=0,ub=1,integer=True)\n",
        "\n",
        "y5_1 = m.Var(value=0,lb=0,ub=1,integer=True)\n",
        "y5_2 = m.Var(value=1,lb=0,ub=1,integer=True)\n",
        "y5_3 = m.Var(value=1,lb=0,ub=1,integer=True)\n",
        "y5_4 = m.Var(value=1,lb=0,ub=1,integer=True)\n",
        "y5_5 = m.Var(value=1,lb=0,ub=1,integer=True)"
      ]
    },
    {
      "cell_type": "code",
      "execution_count": 65,
      "metadata": {
        "colab": {
          "base_uri": "https://localhost:8080/"
        },
        "id": "qu7HblaSJV8o",
        "outputId": "d97f87c1-a770-4953-ce66-d398751bdba4"
      },
      "outputs": [
        {
          "data": {
            "text/plain": [
              "<gekko.gekko.EquationObj at 0x7f4fec2054d0>"
            ]
          },
          "execution_count": 65,
          "metadata": {},
          "output_type": "execute_result"
        }
      ],
      "source": [
        "# Constraints\n",
        "#1.總共預算不能超過40000元\n",
        "m.Equation((x1_1+x1_2+x1_3+x1_4+x1_5)+ (x2_1+x2_2+x2_3+x2_4+x2_5) + (x3_1+x3_2+x3_3+x3_4+x3_5) + (x4_1+x4_2+x4_3+x4_4+x4_5) +(x5_1+x5_2+x5_3+x5_4+x5_5) <= total_budget)\n",
        "\n",
        "#2.一個關鍵字只能選一個rank\n",
        "m.Equation((y1_1+y1_2+y1_3+y1_4+y1_5) == 1)\n",
        "m.Equation((y2_1+y2_2+y2_3+y2_4+y2_5) == 1)\n",
        "m.Equation((y3_1+y3_2+y3_3+y3_4+y3_5) == 1)\n",
        "m.Equation((y4_1+y4_2+y4_3+y4_4+y4_5) == 1)\n",
        "m.Equation((y5_1+y5_2+y5_3+y5_4+y5_5) == 1)\n",
        "\n",
        "#3.所有關鍵字要小於search_max_click\\\n",
        "#關鍵字：茶行\n",
        "m.Equation(x1_1*y1_1 <= CPC[0,0]*Max_click_available[0,0])\n",
        "m.Equation(x1_2*y1_2 <= CPC[0,1]*Max_click_available[0,1])\n",
        "m.Equation(x1_3*y1_3 <= CPC[0,2]*Max_click_available[0,2])\n",
        "m.Equation(x1_4*y1_4 <= CPC[0,3]*Max_click_available[0,3])\n",
        "m.Equation(x1_5*y1_5 <= CPC[0,4]*Max_click_available[0,4])\n",
        "\n",
        "#關鍵字：鐵觀音\n",
        "m.Equation(x2_1*y2_1 <= CPC[1,0]*Max_click_available[1,0])\n",
        "m.Equation(x2_2*y2_2 <= CPC[1,1]*Max_click_available[1,1])\n",
        "m.Equation(x2_3*y2_3 <= CPC[1,2]*Max_click_available[1,2])\n",
        "m.Equation(x2_4*y2_4 <= CPC[1,3]*Max_click_available[1,3])\n",
        "m.Equation(x2_5*y2_5 <= CPC[1,4]*Max_click_available[1,4])\n",
        "\n",
        "#關鍵字：木柵\n",
        "m.Equation(x3_1*y3_1 <= CPC[2,0]*Max_click_available[2,0])\n",
        "m.Equation(x3_2*y3_2 <= CPC[2,1]*Max_click_available[2,1])\n",
        "m.Equation(x3_3*y3_3 <= CPC[2,2]*Max_click_available[2,2])\n",
        "m.Equation(x3_4*y3_4 <= CPC[2,3]*Max_click_available[2,3])\n",
        "m.Equation(x3_5*y3_5 <= CPC[2,4]*Max_click_available[2,4])\n",
        "\n",
        "#關鍵字：茶葉\n",
        "m.Equation(x4_1*y4_1 <= CPC[3,0]*Max_click_available[3,0])\n",
        "m.Equation(x4_2*y4_2 <= CPC[3,1]*Max_click_available[3,1])\n",
        "m.Equation(x4_3*y4_3 <= CPC[3,2]*Max_click_available[3,2])\n",
        "m.Equation(x4_4*y4_4 <= CPC[3,3]*Max_click_available[3,3])\n",
        "m.Equation(x4_5*y4_5 <= CPC[3,4]*Max_click_available[3,4])\n",
        "\n",
        "#關鍵字：送禮\n",
        "m.Equation(x5_1*y5_1 <= CPC[4,0]*Max_click_available[4,0])\n",
        "m.Equation(x5_2*y5_2 <= CPC[4,1]*Max_click_available[4,1])\n",
        "m.Equation(x5_3*y5_3 <= CPC[4,2]*Max_click_available[4,2])\n",
        "m.Equation(x5_4*y5_4 <= CPC[4,3]*Max_click_available[4,3])\n",
        "m.Equation(x5_5*y5_5 <= CPC[4,4]*Max_click_available[4,4])"
      ]
    },
    {
      "cell_type": "code",
      "execution_count": 66,
      "metadata": {
        "id": "WnWw1j6CJV8o"
      },
      "outputs": [],
      "source": [
        "# Objective\n",
        "#拆解計算\n",
        "Revenue1 = ((x1_1*y1_1)/CPC[0,0] + (x1_2*y1_2)/CPC[0,1] + (x1_3*y1_3)/CPC[0,2] + (x1_4*y1_4)/CPC[0,3] + (x1_5*y1_5)/CPC[0,4]) * rpc[0]\n",
        "Cost1 = ((x1_1*y1_1) + (x1_2*y1_2) + (x1_3*y1_3) + (x1_4*y1_4) + (x1_5*y1_5)) + product_cpc[0]\n",
        "Profit1 = Revenue1 - Cost1\n",
        "\n",
        "Revenue2 = ((x2_1*y2_1)/CPC[1,0] + (x2_2*y2_2)/CPC[1,1] + (x2_3*y2_3)/CPC[1,2] + (x2_4*y2_4)/CPC[1,3] + (x2_5*y2_5)/CPC[1,4]) * rpc[1]\n",
        "Cost2 = ((x2_1*y2_1) + (x2_2*y2_2) + (x2_3*y2_3) + (x2_4*y2_4) + (x2_5*y2_5)) + product_cpc[1]\n",
        "Profit2 = Revenue2 - Cost2\n",
        "\n",
        "Revenue3 = ((x3_1*y3_1)/CPC[2,0] + (x3_2*y3_2)/CPC[2,1] + (x3_3*y3_3)/CPC[2,2] + (x3_4*y3_4)/CPC[2,3] + (x3_5*y3_5)/CPC[2,4]) * rpc[2]\n",
        "Cost3 = ((x3_1*y3_1) + (x3_2*y3_2) + (x3_3*y3_3) + (x3_4*y3_4) + (x3_5*y3_5)) + product_cpc[2]\n",
        "Profit3 = Revenue3 - Cost3\n",
        "\n",
        "Revenue4 = ((x4_1*y4_1)/CPC[3,0] + (x4_2*y4_2)/CPC[3,1] + (x4_3*y4_3)/CPC[3,2] + (x4_4*y4_4)/CPC[3,3] + (x4_5*y4_5)/CPC[3,4]) * rpc[3]\n",
        "Cost4 = ((x4_1*y4_1) + (x4_2*y4_2) + (x4_3*y4_3) + (x4_4*y4_4) + (x4_5*y4_5)) + product_cpc[3]\n",
        "Profit4 = Revenue4 - Cost4\n",
        "\n",
        "Revenue5 = ((x5_1*y5_1)/CPC[4,0] + (x5_2*y5_2)/CPC[4,1] + (x5_3*y5_3)/CPC[4,2] + (x5_4*y5_4)/CPC[4,3] + (x5_5*y5_5)/CPC[4,4]) * rpc[4]\n",
        "Cost5 = ((x5_1*y5_1) + (x5_2*y5_2) + (x5_3*y5_3) + (x5_4*y5_4) + (x5_5*y5_5)) + product_cpc[4]\n",
        "Profit5 = Revenue5 - Cost5\n",
        "\n",
        "\n",
        "result = -(Profit1+Profit2+Profit3+Profit4+Profit5)"
      ]
    },
    {
      "cell_type": "code",
      "execution_count": 67,
      "metadata": {
        "colab": {
          "base_uri": "https://localhost:8080/"
        },
        "id": "ZNOCcuo2JV8p",
        "outputId": "f0c71445-d2b8-4256-f9d2-2324870d9cd4"
      },
      "outputs": [
        {
          "name": "stdout",
          "output_type": "stream",
          "text": [
            "apm 35.221.22.48_gk_model2 <br><pre> ----------------------------------------------------------------\n",
            " APMonitor, Version 1.0.1\n",
            " APMonitor Optimization Suite\n",
            " ----------------------------------------------------------------\n",
            " \n",
            " \n",
            " --------- APM Model Size ------------\n",
            " Each time step contains\n",
            "   Objects      :            0\n",
            "   Constants    :            0\n",
            "   Variables    :           76\n",
            "   Intermediates:            0\n",
            "   Connections  :            0\n",
            "   Equations    :           32\n",
            "   Residuals    :           32\n",
            " \n",
            " Number of state variables:             76\n",
            " Number of total equations: -           31\n",
            " Number of slack variables: -           26\n",
            " ---------------------------------------\n",
            " Degrees of freedom       :             19\n",
            " \n",
            " ----------------------------------------------\n",
            " Steady State Optimization with APOPT Solver\n",
            " ----------------------------------------------\n",
            "Iter:     1 I:  0 Tm:      0.02 NLPi:   16 Dpth:    0 Lvs:    0 Obj: -3.08E+05 Gap:  0.00E+00\n",
            " Successful solution\n",
            " \n",
            " ---------------------------------------------------\n",
            " Solver         :  APOPT (v1.0)\n",
            " Solution time  :   3.729999999632128E-002 sec\n",
            " Objective      :   -308108.897798840     \n",
            " Successful solution\n",
            " ---------------------------------------------------\n",
            " \n",
            "x1_1: [0.0]\n",
            "Objective: -308108.8978\n"
          ]
        }
      ],
      "source": [
        "m.Obj(result) # Objective\n",
        "m.solve(disp=True) # Solve\n",
        "\n",
        "print('x1_1: ' + str(x1_1.value))\n",
        "print('Objective: ' + str(m.options.objfcnval))"
      ]
    },
    {
      "cell_type": "code",
      "execution_count": 68,
      "metadata": {
        "colab": {
          "base_uri": "https://localhost:8080/"
        },
        "id": "kR52_If5JV8p",
        "outputId": "e3b11f41-cb83-4b27-d541-adef252945ec"
      },
      "outputs": [
        {
          "name": "stdout",
          "output_type": "stream",
          "text": [
            "x1_1: [0.0]\n",
            "y1_1: [1.0]\n",
            "x1_2: [0.0]\n",
            "y1_2: [0.0]\n",
            "x1_3: [0.0]\n",
            "y1_3: [0.0]\n",
            "x1_4: [0.0]\n",
            "y1_4: [0.0]\n",
            "x1_5: [0.0]\n",
            "y1_5: [0.0]\n",
            "----------------------------------------------------------\n",
            "x2_1: [205.2048506]\n",
            "y2_1: [1.0]\n",
            "x2_2: [0.0]\n",
            "y2_2: [0.0]\n",
            "x2_3: [0.0]\n",
            "y2_3: [0.0]\n",
            "x2_4: [0.0]\n",
            "y2_4: [0.0]\n",
            "x2_5: [0.0]\n",
            "y2_5: [0.0]\n",
            "----------------------------------------------------------\n",
            "x3_1: [1263.8718692]\n",
            "y3_1: [1.0]\n",
            "x3_2: [0.0]\n",
            "y3_2: [0.0]\n",
            "x3_3: [0.0]\n",
            "y3_3: [0.0]\n",
            "x3_4: [0.0]\n",
            "y3_4: [0.0]\n",
            "x3_5: [0.0]\n",
            "y3_5: [0.0]\n",
            "----------------------------------------------------------\n",
            "x4_1: [1608.4108051]\n",
            "y4_1: [1.0]\n",
            "x4_2: [0.0]\n",
            "y4_2: [0.0]\n",
            "x4_3: [0.0]\n",
            "y4_3: [0.0]\n",
            "x4_4: [0.0]\n",
            "y4_4: [0.0]\n",
            "x4_5: [0.0]\n",
            "y4_5: [0.0]\n",
            "----------------------------------------------------------\n",
            "x5_1: [1922.5124751]\n",
            "y5_1: [1.0]\n",
            "x5_2: [0.0]\n",
            "y5_2: [0.0]\n",
            "x5_3: [0.0]\n",
            "y5_3: [0.0]\n",
            "x5_4: [0.0]\n",
            "y5_4: [0.0]\n",
            "x5_5: [0.0]\n",
            "y5_5: [0.0]\n"
          ]
        }
      ],
      "source": [
        "#關鍵字：茶行\n",
        "print('x1_1: ' + str(x1_1.value))\n",
        "print('y1_1: ' + str(y1_1.value))\n",
        "print('x1_2: ' + str(x1_2.value))\n",
        "print('y1_2: ' + str(y1_2.value))\n",
        "print('x1_3: ' + str(x1_3.value))\n",
        "print('y1_3: ' + str(y1_3.value))\n",
        "print('x1_4: ' + str(x1_4.value))\n",
        "print('y1_4: ' + str(y1_4.value))\n",
        "print('x1_5: ' + str(x1_5.value))\n",
        "print('y1_5: ' + str(y1_5.value))\n",
        "\n",
        "print('----------------------------------------------------------')\n",
        "\n",
        "\n",
        "#關鍵字：鐵觀音\n",
        "print('x2_1: ' + str(x2_1.value))\n",
        "print('y2_1: ' + str(y2_1.value))\n",
        "print('x2_2: ' + str(x2_2.value))\n",
        "print('y2_2: ' + str(y2_2.value))\n",
        "print('x2_3: ' + str(x2_3.value))\n",
        "print('y2_3: ' + str(y2_3.value))\n",
        "print('x2_4: ' + str(x2_4.value))\n",
        "print('y2_4: ' + str(y2_4.value))\n",
        "print('x2_5: ' + str(x2_5.value))\n",
        "print('y2_5: ' + str(y2_5.value))\n",
        "\n",
        "print('----------------------------------------------------------')\n",
        "\n",
        "\n",
        "#關鍵字：木柵\n",
        "print('x3_1: ' + str(x3_1.value))\n",
        "print('y3_1: ' + str(y3_1.value))\n",
        "print('x3_2: ' + str(x3_2.value))\n",
        "print('y3_2: ' + str(y3_2.value))\n",
        "print('x3_3: ' + str(x3_3.value))\n",
        "print('y3_3: ' + str(y3_3.value))\n",
        "print('x3_4: ' + str(x3_4.value))\n",
        "print('y3_4: ' + str(y3_4.value))\n",
        "print('x3_5: ' + str(x3_5.value))\n",
        "print('y3_5: ' + str(y3_5.value))\n",
        "\n",
        "\n",
        "print('----------------------------------------------------------')\n",
        "\n",
        "\n",
        "#關鍵字：茶葉\n",
        "print('x4_1: ' + str(x4_1.value))\n",
        "print('y4_1: ' + str(y4_1.value))\n",
        "print('x4_2: ' + str(x4_2.value))\n",
        "print('y4_2: ' + str(y4_2.value))\n",
        "print('x4_3: ' + str(x4_3.value))\n",
        "print('y4_3: ' + str(y4_3.value))\n",
        "print('x4_4: ' + str(x4_4.value))\n",
        "print('y4_4: ' + str(y4_4.value))\n",
        "print('x4_5: ' + str(x4_5.value))\n",
        "print('y4_5: ' + str(y4_5.value))\n",
        "\n",
        "\n",
        "print('----------------------------------------------------------')\n",
        "\n",
        "\n",
        "#關鍵字：送禮\n",
        "print('x5_1: ' + str(x5_1.value))\n",
        "print('y5_1: ' + str(y5_1.value))\n",
        "print('x5_2: ' + str(x5_2.value))\n",
        "print('y5_2: ' + str(y5_2.value))\n",
        "print('x5_3: ' + str(x5_3.value))\n",
        "print('y5_3: ' + str(y5_3.value))\n",
        "print('x5_4: ' + str(x5_4.value))\n",
        "print('y5_4: ' + str(y5_4.value))\n",
        "print('x5_5: ' + str(x5_5.value))\n",
        "print('y5_5: ' + str(y5_5.value))\n"
      ]
    }
  ],
  "metadata": {
    "colab": {
      "collapsed_sections": [
        "bCrlK0_00U0n"
      ],
      "name": "110管理科學-G7 Code",
      "provenance": [],
      "toc_visible": true
    },
    "kernelspec": {
      "display_name": "Python 3",
      "name": "python3"
    },
    "language_info": {
      "codemirror_mode": {
        "name": "ipython",
        "version": 3
      },
      "file_extension": ".py",
      "mimetype": "text/x-python",
      "name": "python",
      "nbconvert_exporter": "python",
      "pygments_lexer": "ipython3",
      "version": "3.11.3"
    }
  },
  "nbformat": 4,
  "nbformat_minor": 0
}
